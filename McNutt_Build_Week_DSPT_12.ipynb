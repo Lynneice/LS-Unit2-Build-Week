{
  "nbformat": 4,
  "nbformat_minor": 0,
  "metadata": {
    "colab": {
      "name": "McNutt_Build_Week_DSPT_12.ipynb",
      "provenance": [],
      "authorship_tag": "ABX9TyOe2Qt2O/+7DBwWIGi/TcfU",
      "include_colab_link": true
    },
    "kernelspec": {
      "name": "python3",
      "display_name": "Python 3"
    },
    "language_info": {
      "name": "python"
    }
  },
  "cells": [
    {
      "cell_type": "markdown",
      "metadata": {
        "id": "view-in-github",
        "colab_type": "text"
      },
      "source": [
        "<a href=\"https://colab.research.google.com/github/Lynneice/LS-Unit2-Build-Week/blob/master/McNutt_Build_Week_DSPT_12.ipynb\" target=\"_parent\"><img src=\"https://colab.research.google.com/assets/colab-badge.svg\" alt=\"Open In Colab\"/></a>"
      ]
    },
    {
      "cell_type": "markdown",
      "metadata": {
        "id": "qd5QWBQU-uqb"
      },
      "source": [
        "Column descriptions:\n",
        "customerID - customer id\n",
        "\n",
        "gender - client gender (male / female)\n",
        "\n",
        "SeniorCitizen - is the client retired (1, 0)\n",
        "\n",
        "Partner - is the client married (Yes, No)\n",
        "\n",
        "tenure - how many months a person has been a client of the company\n",
        "\n",
        "PhoneService - is the telephone service connected (Yes, No)\n",
        "\n",
        "MultipleLines - are multiple phone lines connected (Yes, No, No phone service)\n",
        "\n",
        "InternetService - client's Internet service provider (DSL, Fiber optic, No)\n",
        "\n",
        "OnlineSecurity - is the online security service connected (Yes, No, No internet service)\n",
        "\n",
        "OnlineBackup - is the online backup service activated (Yes, No, No internet service)\n",
        "DeviceProtection - does the client have equipment insurance (Yes, No, No internet service)\n",
        "\n",
        "TechSupport - is the technical support service connected (Yes, No, No internet service)\n",
        "\n",
        "StreamingTV - is the streaming TV service connected (Yes, No, No internet service)\n",
        "\n",
        "StreamingMovies - is the streaming cinema service activated (Yes, No, No internet service)\n",
        "\n",
        "Contract - type of customer contract (Month-to-month, One year, Two year)\n",
        "\n",
        "PaperlessBilling - whether the client uses paperless billing (Yes, No)\n",
        "\n",
        "PaymentMethod - payment method (Electronic check, Mailed check, Bank transfer (automatic), Credit card (automatic))\n",
        "MonthlyCharges - current monthly payment\n",
        "\n",
        "TotalCharges - the total amount that the client paid for the services for the entire time\n",
        "\n",
        "Churn - whether there was a churn (Yes or No)\n"
      ]
    },
    {
      "cell_type": "code",
      "metadata": {
        "id": "lUDWfuWb-hQW"
      },
      "source": [
        "#Dataset of choice: https://www.kaggle.com/radmirzosimov/telecom-users-dataset\n",
        "#!pip install pandas-profiling==3.0.0"
      ],
      "execution_count": 92,
      "outputs": []
    },
    {
      "cell_type": "code",
      "metadata": {
        "id": "fl3xf7fjABY_"
      },
      "source": [
        "#import required libraries \n",
        "import pandas as pd\n",
        "import numpy as np\n",
        "import plotly.express as px\n",
        "from pandas_profiling import ProfileReport\n",
        "import re\n",
        "from functools import reduce"
      ],
      "execution_count": 94,
      "outputs": []
    },
    {
      "cell_type": "code",
      "metadata": {
        "id": "-arfyiuBASuV"
      },
      "source": [
        "#constant path variable\n",
        "PATH = \"/content/telecom_users.csv\""
      ],
      "execution_count": 95,
      "outputs": []
    },
    {
      "cell_type": "code",
      "metadata": {
        "colab": {
          "base_uri": "https://localhost:8080/",
          "height": 1000
        },
        "id": "AxswBgBr_Sab",
        "outputId": "2382c7eb-dcc7-4698-c7c1-8b70b5d2a619"
      },
      "source": [
        "#read in the csv\n",
        "df = pd.read_csv(PATH)\n",
        "df.head(30)"
      ],
      "execution_count": 96,
      "outputs": [
        {
          "output_type": "execute_result",
          "data": {
            "text/html": [
              "<div>\n",
              "<style scoped>\n",
              "    .dataframe tbody tr th:only-of-type {\n",
              "        vertical-align: middle;\n",
              "    }\n",
              "\n",
              "    .dataframe tbody tr th {\n",
              "        vertical-align: top;\n",
              "    }\n",
              "\n",
              "    .dataframe thead th {\n",
              "        text-align: right;\n",
              "    }\n",
              "</style>\n",
              "<table border=\"1\" class=\"dataframe\">\n",
              "  <thead>\n",
              "    <tr style=\"text-align: right;\">\n",
              "      <th></th>\n",
              "      <th>Unnamed: 0</th>\n",
              "      <th>customerID</th>\n",
              "      <th>gender</th>\n",
              "      <th>SeniorCitizen</th>\n",
              "      <th>Partner</th>\n",
              "      <th>Dependents</th>\n",
              "      <th>tenure</th>\n",
              "      <th>PhoneService</th>\n",
              "      <th>MultipleLines</th>\n",
              "      <th>InternetService</th>\n",
              "      <th>OnlineSecurity</th>\n",
              "      <th>OnlineBackup</th>\n",
              "      <th>DeviceProtection</th>\n",
              "      <th>TechSupport</th>\n",
              "      <th>StreamingTV</th>\n",
              "      <th>StreamingMovies</th>\n",
              "      <th>Contract</th>\n",
              "      <th>PaperlessBilling</th>\n",
              "      <th>PaymentMethod</th>\n",
              "      <th>MonthlyCharges</th>\n",
              "      <th>TotalCharges</th>\n",
              "      <th>Churn</th>\n",
              "    </tr>\n",
              "  </thead>\n",
              "  <tbody>\n",
              "    <tr>\n",
              "      <th>0</th>\n",
              "      <td>1869</td>\n",
              "      <td>7010-BRBUU</td>\n",
              "      <td>Male</td>\n",
              "      <td>0</td>\n",
              "      <td>Yes</td>\n",
              "      <td>Yes</td>\n",
              "      <td>72</td>\n",
              "      <td>Yes</td>\n",
              "      <td>Yes</td>\n",
              "      <td>No</td>\n",
              "      <td>No internet service</td>\n",
              "      <td>No internet service</td>\n",
              "      <td>No internet service</td>\n",
              "      <td>No internet service</td>\n",
              "      <td>No internet service</td>\n",
              "      <td>No internet service</td>\n",
              "      <td>Two year</td>\n",
              "      <td>No</td>\n",
              "      <td>Credit card (automatic)</td>\n",
              "      <td>24.10</td>\n",
              "      <td>1734.65</td>\n",
              "      <td>No</td>\n",
              "    </tr>\n",
              "    <tr>\n",
              "      <th>1</th>\n",
              "      <td>4528</td>\n",
              "      <td>9688-YGXVR</td>\n",
              "      <td>Female</td>\n",
              "      <td>0</td>\n",
              "      <td>No</td>\n",
              "      <td>No</td>\n",
              "      <td>44</td>\n",
              "      <td>Yes</td>\n",
              "      <td>No</td>\n",
              "      <td>Fiber optic</td>\n",
              "      <td>No</td>\n",
              "      <td>Yes</td>\n",
              "      <td>Yes</td>\n",
              "      <td>No</td>\n",
              "      <td>Yes</td>\n",
              "      <td>No</td>\n",
              "      <td>Month-to-month</td>\n",
              "      <td>Yes</td>\n",
              "      <td>Credit card (automatic)</td>\n",
              "      <td>88.15</td>\n",
              "      <td>3973.2</td>\n",
              "      <td>No</td>\n",
              "    </tr>\n",
              "    <tr>\n",
              "      <th>2</th>\n",
              "      <td>6344</td>\n",
              "      <td>9286-DOJGF</td>\n",
              "      <td>Female</td>\n",
              "      <td>1</td>\n",
              "      <td>Yes</td>\n",
              "      <td>No</td>\n",
              "      <td>38</td>\n",
              "      <td>Yes</td>\n",
              "      <td>Yes</td>\n",
              "      <td>Fiber optic</td>\n",
              "      <td>No</td>\n",
              "      <td>No</td>\n",
              "      <td>No</td>\n",
              "      <td>No</td>\n",
              "      <td>No</td>\n",
              "      <td>No</td>\n",
              "      <td>Month-to-month</td>\n",
              "      <td>Yes</td>\n",
              "      <td>Bank transfer (automatic)</td>\n",
              "      <td>74.95</td>\n",
              "      <td>2869.85</td>\n",
              "      <td>Yes</td>\n",
              "    </tr>\n",
              "    <tr>\n",
              "      <th>3</th>\n",
              "      <td>6739</td>\n",
              "      <td>6994-KERXL</td>\n",
              "      <td>Male</td>\n",
              "      <td>0</td>\n",
              "      <td>No</td>\n",
              "      <td>No</td>\n",
              "      <td>4</td>\n",
              "      <td>Yes</td>\n",
              "      <td>No</td>\n",
              "      <td>DSL</td>\n",
              "      <td>No</td>\n",
              "      <td>No</td>\n",
              "      <td>No</td>\n",
              "      <td>No</td>\n",
              "      <td>No</td>\n",
              "      <td>Yes</td>\n",
              "      <td>Month-to-month</td>\n",
              "      <td>Yes</td>\n",
              "      <td>Electronic check</td>\n",
              "      <td>55.90</td>\n",
              "      <td>238.5</td>\n",
              "      <td>No</td>\n",
              "    </tr>\n",
              "    <tr>\n",
              "      <th>4</th>\n",
              "      <td>432</td>\n",
              "      <td>2181-UAESM</td>\n",
              "      <td>Male</td>\n",
              "      <td>0</td>\n",
              "      <td>No</td>\n",
              "      <td>No</td>\n",
              "      <td>2</td>\n",
              "      <td>Yes</td>\n",
              "      <td>No</td>\n",
              "      <td>DSL</td>\n",
              "      <td>Yes</td>\n",
              "      <td>No</td>\n",
              "      <td>Yes</td>\n",
              "      <td>No</td>\n",
              "      <td>No</td>\n",
              "      <td>No</td>\n",
              "      <td>Month-to-month</td>\n",
              "      <td>No</td>\n",
              "      <td>Electronic check</td>\n",
              "      <td>53.45</td>\n",
              "      <td>119.5</td>\n",
              "      <td>No</td>\n",
              "    </tr>\n",
              "    <tr>\n",
              "      <th>5</th>\n",
              "      <td>2215</td>\n",
              "      <td>4312-GVYNH</td>\n",
              "      <td>Female</td>\n",
              "      <td>0</td>\n",
              "      <td>Yes</td>\n",
              "      <td>No</td>\n",
              "      <td>70</td>\n",
              "      <td>No</td>\n",
              "      <td>No phone service</td>\n",
              "      <td>DSL</td>\n",
              "      <td>Yes</td>\n",
              "      <td>No</td>\n",
              "      <td>Yes</td>\n",
              "      <td>Yes</td>\n",
              "      <td>No</td>\n",
              "      <td>Yes</td>\n",
              "      <td>Two year</td>\n",
              "      <td>Yes</td>\n",
              "      <td>Bank transfer (automatic)</td>\n",
              "      <td>49.85</td>\n",
              "      <td>3370.2</td>\n",
              "      <td>No</td>\n",
              "    </tr>\n",
              "    <tr>\n",
              "      <th>6</th>\n",
              "      <td>5260</td>\n",
              "      <td>2495-KZNFB</td>\n",
              "      <td>Female</td>\n",
              "      <td>0</td>\n",
              "      <td>No</td>\n",
              "      <td>No</td>\n",
              "      <td>33</td>\n",
              "      <td>Yes</td>\n",
              "      <td>Yes</td>\n",
              "      <td>Fiber optic</td>\n",
              "      <td>Yes</td>\n",
              "      <td>No</td>\n",
              "      <td>No</td>\n",
              "      <td>No</td>\n",
              "      <td>No</td>\n",
              "      <td>Yes</td>\n",
              "      <td>Month-to-month</td>\n",
              "      <td>Yes</td>\n",
              "      <td>Electronic check</td>\n",
              "      <td>90.65</td>\n",
              "      <td>2989.6</td>\n",
              "      <td>No</td>\n",
              "    </tr>\n",
              "    <tr>\n",
              "      <th>7</th>\n",
              "      <td>6001</td>\n",
              "      <td>4367-NHWMM</td>\n",
              "      <td>Female</td>\n",
              "      <td>0</td>\n",
              "      <td>No</td>\n",
              "      <td>No</td>\n",
              "      <td>1</td>\n",
              "      <td>No</td>\n",
              "      <td>No phone service</td>\n",
              "      <td>DSL</td>\n",
              "      <td>No</td>\n",
              "      <td>No</td>\n",
              "      <td>No</td>\n",
              "      <td>No</td>\n",
              "      <td>No</td>\n",
              "      <td>No</td>\n",
              "      <td>Month-to-month</td>\n",
              "      <td>Yes</td>\n",
              "      <td>Mailed check</td>\n",
              "      <td>24.90</td>\n",
              "      <td>24.9</td>\n",
              "      <td>No</td>\n",
              "    </tr>\n",
              "    <tr>\n",
              "      <th>8</th>\n",
              "      <td>1480</td>\n",
              "      <td>8898-KASCD</td>\n",
              "      <td>Male</td>\n",
              "      <td>0</td>\n",
              "      <td>No</td>\n",
              "      <td>No</td>\n",
              "      <td>39</td>\n",
              "      <td>No</td>\n",
              "      <td>No phone service</td>\n",
              "      <td>DSL</td>\n",
              "      <td>No</td>\n",
              "      <td>No</td>\n",
              "      <td>Yes</td>\n",
              "      <td>Yes</td>\n",
              "      <td>No</td>\n",
              "      <td>No</td>\n",
              "      <td>One year</td>\n",
              "      <td>No</td>\n",
              "      <td>Mailed check</td>\n",
              "      <td>35.55</td>\n",
              "      <td>1309.15</td>\n",
              "      <td>No</td>\n",
              "    </tr>\n",
              "    <tr>\n",
              "      <th>9</th>\n",
              "      <td>5137</td>\n",
              "      <td>8016-NCFVO</td>\n",
              "      <td>Male</td>\n",
              "      <td>1</td>\n",
              "      <td>No</td>\n",
              "      <td>No</td>\n",
              "      <td>55</td>\n",
              "      <td>Yes</td>\n",
              "      <td>Yes</td>\n",
              "      <td>Fiber optic</td>\n",
              "      <td>Yes</td>\n",
              "      <td>Yes</td>\n",
              "      <td>Yes</td>\n",
              "      <td>Yes</td>\n",
              "      <td>Yes</td>\n",
              "      <td>Yes</td>\n",
              "      <td>Month-to-month</td>\n",
              "      <td>Yes</td>\n",
              "      <td>Electronic check</td>\n",
              "      <td>116.50</td>\n",
              "      <td>6382.55</td>\n",
              "      <td>No</td>\n",
              "    </tr>\n",
              "    <tr>\n",
              "      <th>10</th>\n",
              "      <td>3169</td>\n",
              "      <td>4578-PHJYZ</td>\n",
              "      <td>Male</td>\n",
              "      <td>0</td>\n",
              "      <td>Yes</td>\n",
              "      <td>Yes</td>\n",
              "      <td>52</td>\n",
              "      <td>Yes</td>\n",
              "      <td>No</td>\n",
              "      <td>DSL</td>\n",
              "      <td>No</td>\n",
              "      <td>Yes</td>\n",
              "      <td>Yes</td>\n",
              "      <td>Yes</td>\n",
              "      <td>Yes</td>\n",
              "      <td>No</td>\n",
              "      <td>One year</td>\n",
              "      <td>Yes</td>\n",
              "      <td>Electronic check</td>\n",
              "      <td>68.75</td>\n",
              "      <td>3482.85</td>\n",
              "      <td>No</td>\n",
              "    </tr>\n",
              "    <tr>\n",
              "      <th>11</th>\n",
              "      <td>4653</td>\n",
              "      <td>2091-MJTFX</td>\n",
              "      <td>Female</td>\n",
              "      <td>0</td>\n",
              "      <td>Yes</td>\n",
              "      <td>Yes</td>\n",
              "      <td>30</td>\n",
              "      <td>No</td>\n",
              "      <td>No phone service</td>\n",
              "      <td>DSL</td>\n",
              "      <td>No</td>\n",
              "      <td>No</td>\n",
              "      <td>No</td>\n",
              "      <td>Yes</td>\n",
              "      <td>Yes</td>\n",
              "      <td>Yes</td>\n",
              "      <td>Month-to-month</td>\n",
              "      <td>No</td>\n",
              "      <td>Credit card (automatic)</td>\n",
              "      <td>51.20</td>\n",
              "      <td>1561.5</td>\n",
              "      <td>Yes</td>\n",
              "    </tr>\n",
              "    <tr>\n",
              "      <th>12</th>\n",
              "      <td>2850</td>\n",
              "      <td>2277-DJJDL</td>\n",
              "      <td>Male</td>\n",
              "      <td>1</td>\n",
              "      <td>Yes</td>\n",
              "      <td>No</td>\n",
              "      <td>60</td>\n",
              "      <td>Yes</td>\n",
              "      <td>Yes</td>\n",
              "      <td>Fiber optic</td>\n",
              "      <td>No</td>\n",
              "      <td>No</td>\n",
              "      <td>No</td>\n",
              "      <td>Yes</td>\n",
              "      <td>Yes</td>\n",
              "      <td>Yes</td>\n",
              "      <td>Month-to-month</td>\n",
              "      <td>Yes</td>\n",
              "      <td>Electronic check</td>\n",
              "      <td>99.00</td>\n",
              "      <td>6017.9</td>\n",
              "      <td>No</td>\n",
              "    </tr>\n",
              "    <tr>\n",
              "      <th>13</th>\n",
              "      <td>1760</td>\n",
              "      <td>2511-MORQY</td>\n",
              "      <td>Male</td>\n",
              "      <td>0</td>\n",
              "      <td>Yes</td>\n",
              "      <td>Yes</td>\n",
              "      <td>50</td>\n",
              "      <td>Yes</td>\n",
              "      <td>Yes</td>\n",
              "      <td>DSL</td>\n",
              "      <td>No</td>\n",
              "      <td>No</td>\n",
              "      <td>Yes</td>\n",
              "      <td>No</td>\n",
              "      <td>No</td>\n",
              "      <td>No</td>\n",
              "      <td>One year</td>\n",
              "      <td>No</td>\n",
              "      <td>Bank transfer (automatic)</td>\n",
              "      <td>54.90</td>\n",
              "      <td>2614.1</td>\n",
              "      <td>No</td>\n",
              "    </tr>\n",
              "    <tr>\n",
              "      <th>14</th>\n",
              "      <td>604</td>\n",
              "      <td>2731-GJRDG</td>\n",
              "      <td>Female</td>\n",
              "      <td>0</td>\n",
              "      <td>No</td>\n",
              "      <td>No</td>\n",
              "      <td>32</td>\n",
              "      <td>Yes</td>\n",
              "      <td>Yes</td>\n",
              "      <td>Fiber optic</td>\n",
              "      <td>Yes</td>\n",
              "      <td>No</td>\n",
              "      <td>Yes</td>\n",
              "      <td>Yes</td>\n",
              "      <td>Yes</td>\n",
              "      <td>Yes</td>\n",
              "      <td>One year</td>\n",
              "      <td>Yes</td>\n",
              "      <td>Bank transfer (automatic)</td>\n",
              "      <td>109.55</td>\n",
              "      <td>3608</td>\n",
              "      <td>No</td>\n",
              "    </tr>\n",
              "    <tr>\n",
              "      <th>15</th>\n",
              "      <td>2157</td>\n",
              "      <td>1784-EZDKJ</td>\n",
              "      <td>Male</td>\n",
              "      <td>0</td>\n",
              "      <td>Yes</td>\n",
              "      <td>No</td>\n",
              "      <td>51</td>\n",
              "      <td>Yes</td>\n",
              "      <td>Yes</td>\n",
              "      <td>Fiber optic</td>\n",
              "      <td>No</td>\n",
              "      <td>Yes</td>\n",
              "      <td>Yes</td>\n",
              "      <td>No</td>\n",
              "      <td>Yes</td>\n",
              "      <td>Yes</td>\n",
              "      <td>One year</td>\n",
              "      <td>Yes</td>\n",
              "      <td>Bank transfer (automatic)</td>\n",
              "      <td>106.80</td>\n",
              "      <td>5498.8</td>\n",
              "      <td>No</td>\n",
              "    </tr>\n",
              "    <tr>\n",
              "      <th>16</th>\n",
              "      <td>3132</td>\n",
              "      <td>2468-SJFLM</td>\n",
              "      <td>Male</td>\n",
              "      <td>0</td>\n",
              "      <td>No</td>\n",
              "      <td>No</td>\n",
              "      <td>1</td>\n",
              "      <td>Yes</td>\n",
              "      <td>No</td>\n",
              "      <td>Fiber optic</td>\n",
              "      <td>No</td>\n",
              "      <td>No</td>\n",
              "      <td>No</td>\n",
              "      <td>Yes</td>\n",
              "      <td>No</td>\n",
              "      <td>No</td>\n",
              "      <td>Month-to-month</td>\n",
              "      <td>Yes</td>\n",
              "      <td>Mailed check</td>\n",
              "      <td>74.30</td>\n",
              "      <td>74.3</td>\n",
              "      <td>No</td>\n",
              "    </tr>\n",
              "    <tr>\n",
              "      <th>17</th>\n",
              "      <td>6765</td>\n",
              "      <td>5115-SQAAU</td>\n",
              "      <td>Female</td>\n",
              "      <td>0</td>\n",
              "      <td>Yes</td>\n",
              "      <td>Yes</td>\n",
              "      <td>69</td>\n",
              "      <td>Yes</td>\n",
              "      <td>Yes</td>\n",
              "      <td>No</td>\n",
              "      <td>No internet service</td>\n",
              "      <td>No internet service</td>\n",
              "      <td>No internet service</td>\n",
              "      <td>No internet service</td>\n",
              "      <td>No internet service</td>\n",
              "      <td>No internet service</td>\n",
              "      <td>Two year</td>\n",
              "      <td>Yes</td>\n",
              "      <td>Bank transfer (automatic)</td>\n",
              "      <td>25.60</td>\n",
              "      <td>1673.4</td>\n",
              "      <td>No</td>\n",
              "    </tr>\n",
              "    <tr>\n",
              "      <th>18</th>\n",
              "      <td>6508</td>\n",
              "      <td>8708-XPXHZ</td>\n",
              "      <td>Female</td>\n",
              "      <td>0</td>\n",
              "      <td>Yes</td>\n",
              "      <td>Yes</td>\n",
              "      <td>42</td>\n",
              "      <td>Yes</td>\n",
              "      <td>Yes</td>\n",
              "      <td>Fiber optic</td>\n",
              "      <td>No</td>\n",
              "      <td>No</td>\n",
              "      <td>No</td>\n",
              "      <td>No</td>\n",
              "      <td>Yes</td>\n",
              "      <td>Yes</td>\n",
              "      <td>Month-to-month</td>\n",
              "      <td>Yes</td>\n",
              "      <td>Electronic check</td>\n",
              "      <td>94.20</td>\n",
              "      <td>4186.3</td>\n",
              "      <td>Yes</td>\n",
              "    </tr>\n",
              "    <tr>\n",
              "      <th>19</th>\n",
              "      <td>5636</td>\n",
              "      <td>0601-WZHJF</td>\n",
              "      <td>Male</td>\n",
              "      <td>0</td>\n",
              "      <td>Yes</td>\n",
              "      <td>No</td>\n",
              "      <td>14</td>\n",
              "      <td>No</td>\n",
              "      <td>No phone service</td>\n",
              "      <td>DSL</td>\n",
              "      <td>No</td>\n",
              "      <td>No</td>\n",
              "      <td>No</td>\n",
              "      <td>No</td>\n",
              "      <td>Yes</td>\n",
              "      <td>Yes</td>\n",
              "      <td>Month-to-month</td>\n",
              "      <td>No</td>\n",
              "      <td>Electronic check</td>\n",
              "      <td>46.35</td>\n",
              "      <td>667.7</td>\n",
              "      <td>Yes</td>\n",
              "    </tr>\n",
              "    <tr>\n",
              "      <th>20</th>\n",
              "      <td>4693</td>\n",
              "      <td>0463-TXOAK</td>\n",
              "      <td>Male</td>\n",
              "      <td>0</td>\n",
              "      <td>No</td>\n",
              "      <td>Yes</td>\n",
              "      <td>52</td>\n",
              "      <td>Yes</td>\n",
              "      <td>Yes</td>\n",
              "      <td>No</td>\n",
              "      <td>No internet service</td>\n",
              "      <td>No internet service</td>\n",
              "      <td>No internet service</td>\n",
              "      <td>No internet service</td>\n",
              "      <td>No internet service</td>\n",
              "      <td>No internet service</td>\n",
              "      <td>Two year</td>\n",
              "      <td>No</td>\n",
              "      <td>Credit card (automatic)</td>\n",
              "      <td>25.60</td>\n",
              "      <td>1334.5</td>\n",
              "      <td>No</td>\n",
              "    </tr>\n",
              "    <tr>\n",
              "      <th>21</th>\n",
              "      <td>3393</td>\n",
              "      <td>4683-WYDOU</td>\n",
              "      <td>Male</td>\n",
              "      <td>0</td>\n",
              "      <td>Yes</td>\n",
              "      <td>No</td>\n",
              "      <td>62</td>\n",
              "      <td>Yes</td>\n",
              "      <td>Yes</td>\n",
              "      <td>Fiber optic</td>\n",
              "      <td>No</td>\n",
              "      <td>No</td>\n",
              "      <td>Yes</td>\n",
              "      <td>Yes</td>\n",
              "      <td>Yes</td>\n",
              "      <td>Yes</td>\n",
              "      <td>Two year</td>\n",
              "      <td>Yes</td>\n",
              "      <td>Bank transfer (automatic)</td>\n",
              "      <td>107.60</td>\n",
              "      <td>6912.7</td>\n",
              "      <td>No</td>\n",
              "    </tr>\n",
              "    <tr>\n",
              "      <th>22</th>\n",
              "      <td>4201</td>\n",
              "      <td>1166-PQLGG</td>\n",
              "      <td>Female</td>\n",
              "      <td>0</td>\n",
              "      <td>Yes</td>\n",
              "      <td>Yes</td>\n",
              "      <td>72</td>\n",
              "      <td>Yes</td>\n",
              "      <td>No</td>\n",
              "      <td>No</td>\n",
              "      <td>No internet service</td>\n",
              "      <td>No internet service</td>\n",
              "      <td>No internet service</td>\n",
              "      <td>No internet service</td>\n",
              "      <td>No internet service</td>\n",
              "      <td>No internet service</td>\n",
              "      <td>Two year</td>\n",
              "      <td>No</td>\n",
              "      <td>Bank transfer (automatic)</td>\n",
              "      <td>19.55</td>\n",
              "      <td>1463.45</td>\n",
              "      <td>No</td>\n",
              "    </tr>\n",
              "    <tr>\n",
              "      <th>23</th>\n",
              "      <td>3550</td>\n",
              "      <td>0963-ZBDRN</td>\n",
              "      <td>Male</td>\n",
              "      <td>0</td>\n",
              "      <td>No</td>\n",
              "      <td>No</td>\n",
              "      <td>32</td>\n",
              "      <td>Yes</td>\n",
              "      <td>No</td>\n",
              "      <td>Fiber optic</td>\n",
              "      <td>No</td>\n",
              "      <td>No</td>\n",
              "      <td>No</td>\n",
              "      <td>Yes</td>\n",
              "      <td>Yes</td>\n",
              "      <td>Yes</td>\n",
              "      <td>Month-to-month</td>\n",
              "      <td>Yes</td>\n",
              "      <td>Electronic check</td>\n",
              "      <td>96.20</td>\n",
              "      <td>3183.4</td>\n",
              "      <td>Yes</td>\n",
              "    </tr>\n",
              "    <tr>\n",
              "      <th>24</th>\n",
              "      <td>5782</td>\n",
              "      <td>4871-JTKJF</td>\n",
              "      <td>Female</td>\n",
              "      <td>1</td>\n",
              "      <td>No</td>\n",
              "      <td>No</td>\n",
              "      <td>1</td>\n",
              "      <td>Yes</td>\n",
              "      <td>No</td>\n",
              "      <td>Fiber optic</td>\n",
              "      <td>No</td>\n",
              "      <td>No</td>\n",
              "      <td>No</td>\n",
              "      <td>No</td>\n",
              "      <td>No</td>\n",
              "      <td>No</td>\n",
              "      <td>Month-to-month</td>\n",
              "      <td>Yes</td>\n",
              "      <td>Electronic check</td>\n",
              "      <td>69.65</td>\n",
              "      <td>69.65</td>\n",
              "      <td>Yes</td>\n",
              "    </tr>\n",
              "    <tr>\n",
              "      <th>25</th>\n",
              "      <td>5419</td>\n",
              "      <td>7173-TETGO</td>\n",
              "      <td>Female</td>\n",
              "      <td>1</td>\n",
              "      <td>Yes</td>\n",
              "      <td>No</td>\n",
              "      <td>72</td>\n",
              "      <td>Yes</td>\n",
              "      <td>Yes</td>\n",
              "      <td>Fiber optic</td>\n",
              "      <td>Yes</td>\n",
              "      <td>No</td>\n",
              "      <td>No</td>\n",
              "      <td>No</td>\n",
              "      <td>No</td>\n",
              "      <td>No</td>\n",
              "      <td>Two year</td>\n",
              "      <td>No</td>\n",
              "      <td>Bank transfer (automatic)</td>\n",
              "      <td>78.50</td>\n",
              "      <td>5602.25</td>\n",
              "      <td>No</td>\n",
              "    </tr>\n",
              "    <tr>\n",
              "      <th>26</th>\n",
              "      <td>1891</td>\n",
              "      <td>4193-ORFCL</td>\n",
              "      <td>Female</td>\n",
              "      <td>1</td>\n",
              "      <td>No</td>\n",
              "      <td>No</td>\n",
              "      <td>1</td>\n",
              "      <td>Yes</td>\n",
              "      <td>No</td>\n",
              "      <td>DSL</td>\n",
              "      <td>No</td>\n",
              "      <td>No</td>\n",
              "      <td>No</td>\n",
              "      <td>No</td>\n",
              "      <td>No</td>\n",
              "      <td>No</td>\n",
              "      <td>Month-to-month</td>\n",
              "      <td>No</td>\n",
              "      <td>Mailed check</td>\n",
              "      <td>45.10</td>\n",
              "      <td>45.1</td>\n",
              "      <td>Yes</td>\n",
              "    </tr>\n",
              "    <tr>\n",
              "      <th>27</th>\n",
              "      <td>4275</td>\n",
              "      <td>2692-PFYTJ</td>\n",
              "      <td>Female</td>\n",
              "      <td>0</td>\n",
              "      <td>No</td>\n",
              "      <td>No</td>\n",
              "      <td>1</td>\n",
              "      <td>Yes</td>\n",
              "      <td>Yes</td>\n",
              "      <td>No</td>\n",
              "      <td>No internet service</td>\n",
              "      <td>No internet service</td>\n",
              "      <td>No internet service</td>\n",
              "      <td>No internet service</td>\n",
              "      <td>No internet service</td>\n",
              "      <td>No internet service</td>\n",
              "      <td>Month-to-month</td>\n",
              "      <td>Yes</td>\n",
              "      <td>Mailed check</td>\n",
              "      <td>25.75</td>\n",
              "      <td>25.75</td>\n",
              "      <td>No</td>\n",
              "    </tr>\n",
              "    <tr>\n",
              "      <th>28</th>\n",
              "      <td>4738</td>\n",
              "      <td>2369-UAPKZ</td>\n",
              "      <td>Male</td>\n",
              "      <td>0</td>\n",
              "      <td>No</td>\n",
              "      <td>No</td>\n",
              "      <td>5</td>\n",
              "      <td>Yes</td>\n",
              "      <td>Yes</td>\n",
              "      <td>Fiber optic</td>\n",
              "      <td>No</td>\n",
              "      <td>Yes</td>\n",
              "      <td>Yes</td>\n",
              "      <td>No</td>\n",
              "      <td>Yes</td>\n",
              "      <td>Yes</td>\n",
              "      <td>Month-to-month</td>\n",
              "      <td>No</td>\n",
              "      <td>Mailed check</td>\n",
              "      <td>104.10</td>\n",
              "      <td>541.9</td>\n",
              "      <td>Yes</td>\n",
              "    </tr>\n",
              "    <tr>\n",
              "      <th>29</th>\n",
              "      <td>1545</td>\n",
              "      <td>5193-QLVZB</td>\n",
              "      <td>Male</td>\n",
              "      <td>0</td>\n",
              "      <td>No</td>\n",
              "      <td>No</td>\n",
              "      <td>63</td>\n",
              "      <td>Yes</td>\n",
              "      <td>Yes</td>\n",
              "      <td>Fiber optic</td>\n",
              "      <td>No</td>\n",
              "      <td>Yes</td>\n",
              "      <td>Yes</td>\n",
              "      <td>No</td>\n",
              "      <td>Yes</td>\n",
              "      <td>Yes</td>\n",
              "      <td>Two year</td>\n",
              "      <td>Yes</td>\n",
              "      <td>Bank transfer (automatic)</td>\n",
              "      <td>104.75</td>\n",
              "      <td>6536.5</td>\n",
              "      <td>No</td>\n",
              "    </tr>\n",
              "  </tbody>\n",
              "</table>\n",
              "</div>"
            ],
            "text/plain": [
              "    Unnamed: 0  customerID  gender  ...  MonthlyCharges TotalCharges Churn\n",
              "0         1869  7010-BRBUU    Male  ...           24.10      1734.65    No\n",
              "1         4528  9688-YGXVR  Female  ...           88.15       3973.2    No\n",
              "2         6344  9286-DOJGF  Female  ...           74.95      2869.85   Yes\n",
              "3         6739  6994-KERXL    Male  ...           55.90        238.5    No\n",
              "4          432  2181-UAESM    Male  ...           53.45        119.5    No\n",
              "5         2215  4312-GVYNH  Female  ...           49.85       3370.2    No\n",
              "6         5260  2495-KZNFB  Female  ...           90.65       2989.6    No\n",
              "7         6001  4367-NHWMM  Female  ...           24.90         24.9    No\n",
              "8         1480  8898-KASCD    Male  ...           35.55      1309.15    No\n",
              "9         5137  8016-NCFVO    Male  ...          116.50      6382.55    No\n",
              "10        3169  4578-PHJYZ    Male  ...           68.75      3482.85    No\n",
              "11        4653  2091-MJTFX  Female  ...           51.20       1561.5   Yes\n",
              "12        2850  2277-DJJDL    Male  ...           99.00       6017.9    No\n",
              "13        1760  2511-MORQY    Male  ...           54.90       2614.1    No\n",
              "14         604  2731-GJRDG  Female  ...          109.55         3608    No\n",
              "15        2157  1784-EZDKJ    Male  ...          106.80       5498.8    No\n",
              "16        3132  2468-SJFLM    Male  ...           74.30         74.3    No\n",
              "17        6765  5115-SQAAU  Female  ...           25.60       1673.4    No\n",
              "18        6508  8708-XPXHZ  Female  ...           94.20       4186.3   Yes\n",
              "19        5636  0601-WZHJF    Male  ...           46.35        667.7   Yes\n",
              "20        4693  0463-TXOAK    Male  ...           25.60       1334.5    No\n",
              "21        3393  4683-WYDOU    Male  ...          107.60       6912.7    No\n",
              "22        4201  1166-PQLGG  Female  ...           19.55      1463.45    No\n",
              "23        3550  0963-ZBDRN    Male  ...           96.20       3183.4   Yes\n",
              "24        5782  4871-JTKJF  Female  ...           69.65        69.65   Yes\n",
              "25        5419  7173-TETGO  Female  ...           78.50      5602.25    No\n",
              "26        1891  4193-ORFCL  Female  ...           45.10         45.1   Yes\n",
              "27        4275  2692-PFYTJ  Female  ...           25.75        25.75    No\n",
              "28        4738  2369-UAPKZ    Male  ...          104.10        541.9   Yes\n",
              "29        1545  5193-QLVZB    Male  ...          104.75       6536.5    No\n",
              "\n",
              "[30 rows x 22 columns]"
            ]
          },
          "metadata": {
            "tags": []
          },
          "execution_count": 96
        }
      ]
    },
    {
      "cell_type": "code",
      "metadata": {
        "id": "KbhgCNvDPaDJ"
      },
      "source": [
        "#these are already split into yes/no so I'll change them to binaary \n",
        "binary_columns = [ 'Partner', 'Dependents', 'PhoneService', 'MultipleLines', 'OnlineSecurity', 'OnlineBackup', 'DeviceProtection', 'TechSupport',\t'StreamingTV',\t'StreamingMovies', 'PaperlessBilling', 'Churn']\n",
        "\n",
        "#using ordinal for EDA since No internet is worse than DSL which is slower (lower quality) than Fiber Optic; will use pipeline in model\n",
        "ordinal_columns = ['InternetService']\n",
        "\n",
        "#use one hot encoding for categorical variables\n",
        "one_hot= ['gender', 'Contract', 'PaymentMethod' ]"
      ],
      "execution_count": 97,
      "outputs": []
    },
    {
      "cell_type": "code",
      "metadata": {
        "colab": {
          "base_uri": "https://localhost:8080/"
        },
        "id": "i3hESzmFXs4G",
        "outputId": "e7a9adfe-d836-4c3f-b24d-81cf08162715"
      },
      "source": [
        "#check the string values in the bool columns\n",
        "pd.unique(df['PhoneService'])"
      ],
      "execution_count": 98,
      "outputs": [
        {
          "output_type": "execute_result",
          "data": {
            "text/plain": [
              "array(['Yes', 'No'], dtype=object)"
            ]
          },
          "metadata": {
            "tags": []
          },
          "execution_count": 98
        }
      ]
    },
    {
      "cell_type": "code",
      "metadata": {
        "colab": {
          "base_uri": "https://localhost:8080/"
        },
        "id": "dJKLmL6HYHpK",
        "outputId": "4f8f4d4d-6128-40b9-b532-82852172683b"
      },
      "source": [
        "#using this to ensure encoding doesn't mess up the data; run once before wrangle() is called and once after [5396 YES]\n",
        "df['PhoneService'].value_counts()"
      ],
      "execution_count": 99,
      "outputs": [
        {
          "output_type": "execute_result",
          "data": {
            "text/plain": [
              "Yes    5396\n",
              "No      590\n",
              "Name: PhoneService, dtype: int64"
            ]
          },
          "metadata": {
            "tags": []
          },
          "execution_count": 99
        }
      ]
    },
    {
      "cell_type": "code",
      "metadata": {
        "colab": {
          "base_uri": "https://localhost:8080/"
        },
        "id": "g0SIb1euZKQz",
        "outputId": "04c82d34-112c-4a95-e494-06c556e59cf9"
      },
      "source": [
        "#also checking the ordinal cols\n",
        "df['InternetService'].value_counts()"
      ],
      "execution_count": 100,
      "outputs": [
        {
          "output_type": "execute_result",
          "data": {
            "text/plain": [
              "Fiber optic    2627\n",
              "DSL            2068\n",
              "No             1291\n",
              "Name: InternetService, dtype: int64"
            ]
          },
          "metadata": {
            "tags": []
          },
          "execution_count": 100
        }
      ]
    },
    {
      "cell_type": "code",
      "metadata": {
        "colab": {
          "base_uri": "https://localhost:8080/"
        },
        "id": "j6DHgdvQR8-D",
        "outputId": "952d825a-920e-4994-a6cf-89d9ea3eadcc"
      },
      "source": [
        "#check the column names\n",
        "df.columns"
      ],
      "execution_count": 101,
      "outputs": [
        {
          "output_type": "execute_result",
          "data": {
            "text/plain": [
              "Index(['Unnamed: 0', 'customerID', 'gender', 'SeniorCitizen', 'Partner',\n",
              "       'Dependents', 'tenure', 'PhoneService', 'MultipleLines',\n",
              "       'InternetService', 'OnlineSecurity', 'OnlineBackup', 'DeviceProtection',\n",
              "       'TechSupport', 'StreamingTV', 'StreamingMovies', 'Contract',\n",
              "       'PaperlessBilling', 'PaymentMethod', 'MonthlyCharges', 'TotalCharges',\n",
              "       'Churn'],\n",
              "      dtype='object')"
            ]
          },
          "metadata": {
            "tags": []
          },
          "execution_count": 101
        }
      ]
    },
    {
      "cell_type": "markdown",
      "metadata": {
        "id": "tYPICPe8Hpb-"
      },
      "source": [
        "It looks like Tenure is equivalent to the customer lifetime, and total charges is their lifetime value, so we are able to calculate the client's Average Customer Lifetime and Avg. Customer Lifetime Value from this data. \n"
      ]
    },
    {
      "cell_type": "code",
      "metadata": {
        "id": "koyVd9c0UkgE"
      },
      "source": [
        "#average customer lifetime\n",
        "train['tenure'].mean()"
      ],
      "execution_count": 101,
      "outputs": []
    },
    {
      "cell_type": "code",
      "metadata": {
        "id": "alVFeHcaUlYF"
      },
      "source": [
        "#avg. lifetime value\n",
        "train['TotalCharges'].mean()"
      ],
      "execution_count": 101,
      "outputs": []
    },
    {
      "cell_type": "code",
      "metadata": {
        "id": "d4uoDTdiI41J"
      },
      "source": [
        "#Cleaning\n",
        "def wrangle(df):\n",
        "  \n",
        "  #drop unneeded ID cols\n",
        "  df = df.drop(columns=['Unnamed: 0', 'customerID'])\n",
        "  \n",
        "  #Convert binary cols\n",
        "  for col in df[binary_columns]:\n",
        "    df.fillna(0, inplace=True)\n",
        "\n",
        "  #make yes = 1, else 0\n",
        "  df[binary_columns] = (df[binary_columns] == 'Yes').astype(int)\n",
        "\n",
        "  #change total charges to float\n",
        "  df['TotalCharges'] = pd.to_numeric(df['TotalCharges'],errors='coerce')\n",
        "\n",
        "  #one-hot encoding\n",
        "  df = pd.get_dummies(df, columns = one_hot)\n",
        "  \n",
        "  train = df\n",
        "\n",
        "  return train"
      ],
      "execution_count": 102,
      "outputs": []
    },
    {
      "cell_type": "code",
      "metadata": {
        "colab": {
          "base_uri": "https://localhost:8080/",
          "height": 473
        },
        "id": "ZygkfJT7Rv_u",
        "outputId": "7a3368c4-aa08-4db0-a80d-eacf32d2f170"
      },
      "source": [
        "train = wrangle(df)\n",
        "train"
      ],
      "execution_count": 103,
      "outputs": [
        {
          "output_type": "execute_result",
          "data": {
            "text/html": [
              "<div>\n",
              "<style scoped>\n",
              "    .dataframe tbody tr th:only-of-type {\n",
              "        vertical-align: middle;\n",
              "    }\n",
              "\n",
              "    .dataframe tbody tr th {\n",
              "        vertical-align: top;\n",
              "    }\n",
              "\n",
              "    .dataframe thead th {\n",
              "        text-align: right;\n",
              "    }\n",
              "</style>\n",
              "<table border=\"1\" class=\"dataframe\">\n",
              "  <thead>\n",
              "    <tr style=\"text-align: right;\">\n",
              "      <th></th>\n",
              "      <th>SeniorCitizen</th>\n",
              "      <th>Partner</th>\n",
              "      <th>Dependents</th>\n",
              "      <th>tenure</th>\n",
              "      <th>PhoneService</th>\n",
              "      <th>MultipleLines</th>\n",
              "      <th>InternetService</th>\n",
              "      <th>OnlineSecurity</th>\n",
              "      <th>OnlineBackup</th>\n",
              "      <th>DeviceProtection</th>\n",
              "      <th>TechSupport</th>\n",
              "      <th>StreamingTV</th>\n",
              "      <th>StreamingMovies</th>\n",
              "      <th>PaperlessBilling</th>\n",
              "      <th>MonthlyCharges</th>\n",
              "      <th>TotalCharges</th>\n",
              "      <th>Churn</th>\n",
              "      <th>gender_Female</th>\n",
              "      <th>gender_Male</th>\n",
              "      <th>Contract_Month-to-month</th>\n",
              "      <th>Contract_One year</th>\n",
              "      <th>Contract_Two year</th>\n",
              "      <th>PaymentMethod_Bank transfer (automatic)</th>\n",
              "      <th>PaymentMethod_Credit card (automatic)</th>\n",
              "      <th>PaymentMethod_Electronic check</th>\n",
              "      <th>PaymentMethod_Mailed check</th>\n",
              "    </tr>\n",
              "  </thead>\n",
              "  <tbody>\n",
              "    <tr>\n",
              "      <th>0</th>\n",
              "      <td>0</td>\n",
              "      <td>1</td>\n",
              "      <td>1</td>\n",
              "      <td>72</td>\n",
              "      <td>1</td>\n",
              "      <td>1</td>\n",
              "      <td>No</td>\n",
              "      <td>0</td>\n",
              "      <td>0</td>\n",
              "      <td>0</td>\n",
              "      <td>0</td>\n",
              "      <td>0</td>\n",
              "      <td>0</td>\n",
              "      <td>0</td>\n",
              "      <td>24.10</td>\n",
              "      <td>1734.65</td>\n",
              "      <td>0</td>\n",
              "      <td>0</td>\n",
              "      <td>1</td>\n",
              "      <td>0</td>\n",
              "      <td>0</td>\n",
              "      <td>1</td>\n",
              "      <td>0</td>\n",
              "      <td>1</td>\n",
              "      <td>0</td>\n",
              "      <td>0</td>\n",
              "    </tr>\n",
              "    <tr>\n",
              "      <th>1</th>\n",
              "      <td>0</td>\n",
              "      <td>0</td>\n",
              "      <td>0</td>\n",
              "      <td>44</td>\n",
              "      <td>1</td>\n",
              "      <td>0</td>\n",
              "      <td>Fiber optic</td>\n",
              "      <td>0</td>\n",
              "      <td>1</td>\n",
              "      <td>1</td>\n",
              "      <td>0</td>\n",
              "      <td>1</td>\n",
              "      <td>0</td>\n",
              "      <td>1</td>\n",
              "      <td>88.15</td>\n",
              "      <td>3973.20</td>\n",
              "      <td>0</td>\n",
              "      <td>1</td>\n",
              "      <td>0</td>\n",
              "      <td>1</td>\n",
              "      <td>0</td>\n",
              "      <td>0</td>\n",
              "      <td>0</td>\n",
              "      <td>1</td>\n",
              "      <td>0</td>\n",
              "      <td>0</td>\n",
              "    </tr>\n",
              "    <tr>\n",
              "      <th>2</th>\n",
              "      <td>1</td>\n",
              "      <td>1</td>\n",
              "      <td>0</td>\n",
              "      <td>38</td>\n",
              "      <td>1</td>\n",
              "      <td>1</td>\n",
              "      <td>Fiber optic</td>\n",
              "      <td>0</td>\n",
              "      <td>0</td>\n",
              "      <td>0</td>\n",
              "      <td>0</td>\n",
              "      <td>0</td>\n",
              "      <td>0</td>\n",
              "      <td>1</td>\n",
              "      <td>74.95</td>\n",
              "      <td>2869.85</td>\n",
              "      <td>1</td>\n",
              "      <td>1</td>\n",
              "      <td>0</td>\n",
              "      <td>1</td>\n",
              "      <td>0</td>\n",
              "      <td>0</td>\n",
              "      <td>1</td>\n",
              "      <td>0</td>\n",
              "      <td>0</td>\n",
              "      <td>0</td>\n",
              "    </tr>\n",
              "    <tr>\n",
              "      <th>3</th>\n",
              "      <td>0</td>\n",
              "      <td>0</td>\n",
              "      <td>0</td>\n",
              "      <td>4</td>\n",
              "      <td>1</td>\n",
              "      <td>0</td>\n",
              "      <td>DSL</td>\n",
              "      <td>0</td>\n",
              "      <td>0</td>\n",
              "      <td>0</td>\n",
              "      <td>0</td>\n",
              "      <td>0</td>\n",
              "      <td>1</td>\n",
              "      <td>1</td>\n",
              "      <td>55.90</td>\n",
              "      <td>238.50</td>\n",
              "      <td>0</td>\n",
              "      <td>0</td>\n",
              "      <td>1</td>\n",
              "      <td>1</td>\n",
              "      <td>0</td>\n",
              "      <td>0</td>\n",
              "      <td>0</td>\n",
              "      <td>0</td>\n",
              "      <td>1</td>\n",
              "      <td>0</td>\n",
              "    </tr>\n",
              "    <tr>\n",
              "      <th>4</th>\n",
              "      <td>0</td>\n",
              "      <td>0</td>\n",
              "      <td>0</td>\n",
              "      <td>2</td>\n",
              "      <td>1</td>\n",
              "      <td>0</td>\n",
              "      <td>DSL</td>\n",
              "      <td>1</td>\n",
              "      <td>0</td>\n",
              "      <td>1</td>\n",
              "      <td>0</td>\n",
              "      <td>0</td>\n",
              "      <td>0</td>\n",
              "      <td>0</td>\n",
              "      <td>53.45</td>\n",
              "      <td>119.50</td>\n",
              "      <td>0</td>\n",
              "      <td>0</td>\n",
              "      <td>1</td>\n",
              "      <td>1</td>\n",
              "      <td>0</td>\n",
              "      <td>0</td>\n",
              "      <td>0</td>\n",
              "      <td>0</td>\n",
              "      <td>1</td>\n",
              "      <td>0</td>\n",
              "    </tr>\n",
              "    <tr>\n",
              "      <th>...</th>\n",
              "      <td>...</td>\n",
              "      <td>...</td>\n",
              "      <td>...</td>\n",
              "      <td>...</td>\n",
              "      <td>...</td>\n",
              "      <td>...</td>\n",
              "      <td>...</td>\n",
              "      <td>...</td>\n",
              "      <td>...</td>\n",
              "      <td>...</td>\n",
              "      <td>...</td>\n",
              "      <td>...</td>\n",
              "      <td>...</td>\n",
              "      <td>...</td>\n",
              "      <td>...</td>\n",
              "      <td>...</td>\n",
              "      <td>...</td>\n",
              "      <td>...</td>\n",
              "      <td>...</td>\n",
              "      <td>...</td>\n",
              "      <td>...</td>\n",
              "      <td>...</td>\n",
              "      <td>...</td>\n",
              "      <td>...</td>\n",
              "      <td>...</td>\n",
              "      <td>...</td>\n",
              "    </tr>\n",
              "    <tr>\n",
              "      <th>5981</th>\n",
              "      <td>0</td>\n",
              "      <td>1</td>\n",
              "      <td>0</td>\n",
              "      <td>1</td>\n",
              "      <td>1</td>\n",
              "      <td>0</td>\n",
              "      <td>Fiber optic</td>\n",
              "      <td>1</td>\n",
              "      <td>0</td>\n",
              "      <td>0</td>\n",
              "      <td>0</td>\n",
              "      <td>1</td>\n",
              "      <td>1</td>\n",
              "      <td>1</td>\n",
              "      <td>95.00</td>\n",
              "      <td>95.00</td>\n",
              "      <td>1</td>\n",
              "      <td>0</td>\n",
              "      <td>1</td>\n",
              "      <td>1</td>\n",
              "      <td>0</td>\n",
              "      <td>0</td>\n",
              "      <td>0</td>\n",
              "      <td>0</td>\n",
              "      <td>1</td>\n",
              "      <td>0</td>\n",
              "    </tr>\n",
              "    <tr>\n",
              "      <th>5982</th>\n",
              "      <td>0</td>\n",
              "      <td>1</td>\n",
              "      <td>1</td>\n",
              "      <td>23</td>\n",
              "      <td>1</td>\n",
              "      <td>1</td>\n",
              "      <td>DSL</td>\n",
              "      <td>1</td>\n",
              "      <td>1</td>\n",
              "      <td>1</td>\n",
              "      <td>1</td>\n",
              "      <td>1</td>\n",
              "      <td>1</td>\n",
              "      <td>1</td>\n",
              "      <td>91.10</td>\n",
              "      <td>2198.30</td>\n",
              "      <td>0</td>\n",
              "      <td>1</td>\n",
              "      <td>0</td>\n",
              "      <td>0</td>\n",
              "      <td>0</td>\n",
              "      <td>1</td>\n",
              "      <td>0</td>\n",
              "      <td>1</td>\n",
              "      <td>0</td>\n",
              "      <td>0</td>\n",
              "    </tr>\n",
              "    <tr>\n",
              "      <th>5983</th>\n",
              "      <td>0</td>\n",
              "      <td>1</td>\n",
              "      <td>1</td>\n",
              "      <td>12</td>\n",
              "      <td>1</td>\n",
              "      <td>0</td>\n",
              "      <td>No</td>\n",
              "      <td>0</td>\n",
              "      <td>0</td>\n",
              "      <td>0</td>\n",
              "      <td>0</td>\n",
              "      <td>0</td>\n",
              "      <td>0</td>\n",
              "      <td>1</td>\n",
              "      <td>21.15</td>\n",
              "      <td>306.05</td>\n",
              "      <td>0</td>\n",
              "      <td>0</td>\n",
              "      <td>1</td>\n",
              "      <td>1</td>\n",
              "      <td>0</td>\n",
              "      <td>0</td>\n",
              "      <td>0</td>\n",
              "      <td>0</td>\n",
              "      <td>1</td>\n",
              "      <td>0</td>\n",
              "    </tr>\n",
              "    <tr>\n",
              "      <th>5984</th>\n",
              "      <td>1</td>\n",
              "      <td>0</td>\n",
              "      <td>0</td>\n",
              "      <td>12</td>\n",
              "      <td>1</td>\n",
              "      <td>1</td>\n",
              "      <td>Fiber optic</td>\n",
              "      <td>0</td>\n",
              "      <td>0</td>\n",
              "      <td>1</td>\n",
              "      <td>0</td>\n",
              "      <td>1</td>\n",
              "      <td>1</td>\n",
              "      <td>1</td>\n",
              "      <td>99.45</td>\n",
              "      <td>1200.15</td>\n",
              "      <td>1</td>\n",
              "      <td>0</td>\n",
              "      <td>1</td>\n",
              "      <td>1</td>\n",
              "      <td>0</td>\n",
              "      <td>0</td>\n",
              "      <td>0</td>\n",
              "      <td>0</td>\n",
              "      <td>1</td>\n",
              "      <td>0</td>\n",
              "    </tr>\n",
              "    <tr>\n",
              "      <th>5985</th>\n",
              "      <td>0</td>\n",
              "      <td>0</td>\n",
              "      <td>0</td>\n",
              "      <td>26</td>\n",
              "      <td>1</td>\n",
              "      <td>0</td>\n",
              "      <td>No</td>\n",
              "      <td>0</td>\n",
              "      <td>0</td>\n",
              "      <td>0</td>\n",
              "      <td>0</td>\n",
              "      <td>0</td>\n",
              "      <td>0</td>\n",
              "      <td>0</td>\n",
              "      <td>19.80</td>\n",
              "      <td>457.30</td>\n",
              "      <td>0</td>\n",
              "      <td>0</td>\n",
              "      <td>1</td>\n",
              "      <td>0</td>\n",
              "      <td>1</td>\n",
              "      <td>0</td>\n",
              "      <td>0</td>\n",
              "      <td>1</td>\n",
              "      <td>0</td>\n",
              "      <td>0</td>\n",
              "    </tr>\n",
              "  </tbody>\n",
              "</table>\n",
              "<p>5986 rows × 26 columns</p>\n",
              "</div>"
            ],
            "text/plain": [
              "      SeniorCitizen  ...  PaymentMethod_Mailed check\n",
              "0                 0  ...                           0\n",
              "1                 0  ...                           0\n",
              "2                 1  ...                           0\n",
              "3                 0  ...                           0\n",
              "4                 0  ...                           0\n",
              "...             ...  ...                         ...\n",
              "5981              0  ...                           0\n",
              "5982              0  ...                           0\n",
              "5983              0  ...                           0\n",
              "5984              1  ...                           0\n",
              "5985              0  ...                           0\n",
              "\n",
              "[5986 rows x 26 columns]"
            ]
          },
          "metadata": {
            "tags": []
          },
          "execution_count": 103
        }
      ]
    },
    {
      "cell_type": "code",
      "metadata": {
        "id": "Wp5QzImFVF42",
        "colab": {
          "base_uri": "https://localhost:8080/",
          "height": 441
        },
        "outputId": "35265d99-4d74-44ce-f939-607407e8f6cd"
      },
      "source": [
        "import seaborn as sns\n",
        "%matplotlib inline\n",
        "\n",
        "# For \n",
        "sns.jointplot(x = train['SeniorCitizen'], y = train['Churn'], kind = 'hex');\n"
      ],
      "execution_count": 247,
      "outputs": [
        {
          "output_type": "display_data",
          "data": {
            "image/png": "[encoded data removed]",
            "text/plain": [
              "<Figure size 432x432 with 3 Axes>"
            ]
          },
          "metadata": {
            "tags": [],
            "needs_background": "light"
          }
        }
      ]
    },
    {
      "cell_type": "code",
      "metadata": {
        "colab": {
          "base_uri": "https://localhost:8080/",
          "height": 441
        },
        "id": "WPDQyzZfIKrd",
        "outputId": "5e18c459-df3f-4ba4-a780-745c59e9907d"
      },
      "source": [
        "sns.jointplot(data=train, x=\"TotalCharges\", y=\"tenure\", hue=\"Churn\");"
      ],
      "execution_count": 250,
      "outputs": [
        {
          "output_type": "display_data",
          "data": {
            "image/png": "[encoded data removed]",
            "text/plain": [
              "<Figure size 432x432 with 3 Axes>"
            ]
          },
          "metadata": {
            "tags": [],
            "needs_background": "light"
          }
        }
      ]
    },
    {
      "cell_type": "markdown",
      "metadata": {
        "id": "sPVpHk1EImZf"
      },
      "source": [
        "There is a crude observation to be made that to an extent, once a customer has been retained for a certain period, given their average charges increases or stays the same, their liklihood of churn decreases to nearly zero. We will see what the model suggests."
      ]
    },
    {
      "cell_type": "code",
      "metadata": {
        "colab": {
          "base_uri": "https://localhost:8080/"
        },
        "id": "0fpEyhp_ete1",
        "outputId": "719bbbda-67cd-4567-c86e-6533b5acd627"
      },
      "source": [
        "train['TotalCharges']"
      ],
      "execution_count": 104,
      "outputs": [
        {
          "output_type": "execute_result",
          "data": {
            "text/plain": [
              "0      1734.65\n",
              "1      3973.20\n",
              "2      2869.85\n",
              "3       238.50\n",
              "4       119.50\n",
              "         ...  \n",
              "5981     95.00\n",
              "5982   2198.30\n",
              "5983    306.05\n",
              "5984   1200.15\n",
              "5985    457.30\n",
              "Name: TotalCharges, Length: 5986, dtype: float64"
            ]
          },
          "metadata": {
            "tags": []
          },
          "execution_count": 104
        }
      ]
    },
    {
      "cell_type": "code",
      "metadata": {
        "colab": {
          "base_uri": "https://localhost:8080/",
          "height": 458
        },
        "id": "yP6R_cyFJYR-",
        "outputId": "6ab28f25-26dc-4d18-8f38-81f39e65ef51"
      },
      "source": [
        "sns.jointplot(data=train, x=\"Partner\", y=\"SeniorCitizen\", hue=\"Churn\", kind=\"kde\")\n"
      ],
      "execution_count": 251,
      "outputs": [
        {
          "output_type": "execute_result",
          "data": {
            "text/plain": [
              "<seaborn.axisgrid.JointGrid at 0x7f461c36cfd0>"
            ]
          },
          "metadata": {
            "tags": []
          },
          "execution_count": 251
        },
        {
          "output_type": "display_data",
          "data": {
            "image/png": "[encoded data removed]",
            "text/plain": [
              "<Figure size 432x432 with 3 Axes>"
            ]
          },
          "metadata": {
            "tags": [],
            "needs_background": "light"
          }
        }
      ]
    },
    {
      "cell_type": "markdown",
      "metadata": {
        "id": "SWa73EmkJ3cC"
      },
      "source": [
        "There is low liklihood of churn among older customers who likely have been retained over time."
      ]
    },
    {
      "cell_type": "code",
      "metadata": {
        "colab": {
          "base_uri": "https://localhost:8080/"
        },
        "id": "1be3BJg8XHzx",
        "outputId": "dffb51e4-0474-4bc5-f06e-64d8c9bfe79e"
      },
      "source": [
        "train['DeviceProtection'].value_counts()"
      ],
      "execution_count": 105,
      "outputs": [
        {
          "output_type": "execute_result",
          "data": {
            "text/plain": [
              "0    3931\n",
              "1    2055\n",
              "Name: DeviceProtection, dtype: int64"
            ]
          },
          "metadata": {
            "tags": []
          },
          "execution_count": 105
        }
      ]
    },
    {
      "cell_type": "code",
      "metadata": {
        "colab": {
          "base_uri": "https://localhost:8080/"
        },
        "id": "c0Ou968hIjpw",
        "outputId": "728d20b5-78e9-4e1d-9623-e9a56030d82f"
      },
      "source": [
        "#check dtypes to refine wrangle function above; most binary cols are objects (Str) and need to be converted\n",
        "train.dtypes"
      ],
      "execution_count": 106,
      "outputs": [
        {
          "output_type": "execute_result",
          "data": {
            "text/plain": [
              "SeniorCitizen                                int64\n",
              "Partner                                      int64\n",
              "Dependents                                   int64\n",
              "tenure                                       int64\n",
              "PhoneService                                 int64\n",
              "MultipleLines                                int64\n",
              "InternetService                             object\n",
              "OnlineSecurity                               int64\n",
              "OnlineBackup                                 int64\n",
              "DeviceProtection                             int64\n",
              "TechSupport                                  int64\n",
              "StreamingTV                                  int64\n",
              "StreamingMovies                              int64\n",
              "PaperlessBilling                             int64\n",
              "MonthlyCharges                             float64\n",
              "TotalCharges                               float64\n",
              "Churn                                        int64\n",
              "gender_Female                                uint8\n",
              "gender_Male                                  uint8\n",
              "Contract_Month-to-month                      uint8\n",
              "Contract_One year                            uint8\n",
              "Contract_Two year                            uint8\n",
              "PaymentMethod_Bank transfer (automatic)      uint8\n",
              "PaymentMethod_Credit card (automatic)        uint8\n",
              "PaymentMethod_Electronic check               uint8\n",
              "PaymentMethod_Mailed check                   uint8\n",
              "dtype: object"
            ]
          },
          "metadata": {
            "tags": []
          },
          "execution_count": 106
        }
      ]
    },
    {
      "cell_type": "code",
      "metadata": {
        "colab": {
          "base_uri": "https://localhost:8080/"
        },
        "id": "tnsGfSF8iZP_",
        "outputId": "86edd68e-e419-4aeb-ad22-546c0566ff78"
      },
      "source": [
        "['gender', 'SeniorCitizen', 'Partner',\n",
        "       'Dependents', 'tenure', 'PhoneService', 'MultipleLines',\n",
        "       'InternetService', 'OnlineSecurity', 'OnlineBackup', 'DeviceProtection',\n",
        "       'TechSupport', 'StreamingTV', 'StreamingMovies', 'Contract',\n",
        "       'PaperlessBilling', 'PaymentMethod', 'MonthlyCharges', 'TotalCharges',\n",
        "       'Churn']"
      ],
      "execution_count": 107,
      "outputs": [
        {
          "output_type": "execute_result",
          "data": {
            "text/plain": [
              "['gender',\n",
              " 'SeniorCitizen',\n",
              " 'Partner',\n",
              " 'Dependents',\n",
              " 'tenure',\n",
              " 'PhoneService',\n",
              " 'MultipleLines',\n",
              " 'InternetService',\n",
              " 'OnlineSecurity',\n",
              " 'OnlineBackup',\n",
              " 'DeviceProtection',\n",
              " 'TechSupport',\n",
              " 'StreamingTV',\n",
              " 'StreamingMovies',\n",
              " 'Contract',\n",
              " 'PaperlessBilling',\n",
              " 'PaymentMethod',\n",
              " 'MonthlyCharges',\n",
              " 'TotalCharges',\n",
              " 'Churn']"
            ]
          },
          "metadata": {
            "tags": []
          },
          "execution_count": 107
        }
      ]
    },
    {
      "cell_type": "code",
      "metadata": {
        "id": "FMgOg12511Yf",
        "colab": {
          "base_uri": "https://localhost:8080/"
        },
        "outputId": "f2a1b488-a5f6-485d-cdd1-bbac98e6951f"
      },
      "source": [
        "#average customer lifetime\n",
        "train['tenure'].mean()"
      ],
      "execution_count": 108,
      "outputs": [
        {
          "output_type": "execute_result",
          "data": {
            "text/plain": [
              "32.46876044102907"
            ]
          },
          "metadata": {
            "tags": []
          },
          "execution_count": 108
        }
      ]
    },
    {
      "cell_type": "code",
      "metadata": {
        "colab": {
          "base_uri": "https://localhost:8080/"
        },
        "id": "5puM3tFUwxhv",
        "outputId": "0b684907-1878-48ed-ecf4-b6c9abb9c469"
      },
      "source": [
        "#on average how long does a 'good' contract last?\n",
        "non_churn = train[train['Churn']==0]\n",
        "non_churn['tenure'].mean()"
      ],
      "execution_count": 263,
      "outputs": [
        {
          "output_type": "execute_result",
          "data": {
            "text/plain": [
              "37.360506658005846"
            ]
          },
          "metadata": {
            "tags": []
          },
          "execution_count": 263
        }
      ]
    },
    {
      "cell_type": "code",
      "metadata": {
        "colab": {
          "base_uri": "https://localhost:8080/"
        },
        "id": "WeIVhZH4x_Hy",
        "outputId": "c6fbe223-c28a-4dd6-8546-366847aa9e95"
      },
      "source": [
        "#on average how many months before a churn?\n",
        "churn_customers = train[train['Churn']==1]\n",
        "churn_customers['tenure'].mean()"
      ],
      "execution_count": 264,
      "outputs": [
        {
          "output_type": "execute_result",
          "data": {
            "text/plain": [
              "19.037803780378038"
            ]
          },
          "metadata": {
            "tags": []
          },
          "execution_count": 264
        }
      ]
    },
    {
      "cell_type": "markdown",
      "metadata": {
        "id": "p5Y0k04vyJky"
      },
      "source": [
        "Based on this information they may want to consider optimizing their contract structure to better catch potential churn prior to a 12 or 24 month contract ending prematurely. There may be nurture opportunities to survey customers at certain points in their tenrue to aid retention. Premium packages are great, but so are rewards. Incentivization may also aid in retention if placed just before the 19 month mark in high-risk applicants. "
      ]
    },
    {
      "cell_type": "code",
      "metadata": {
        "colab": {
          "base_uri": "https://localhost:8080/",
          "height": 458
        },
        "id": "RQ1kppwHKQiR",
        "outputId": "82acfca6-ff57-4e45-e202-588385b7347c"
      },
      "source": [
        "sns.jointplot(data=train, x=\"tenure\", y=\"Churn\", kind=\"reg\")"
      ],
      "execution_count": 252,
      "outputs": [
        {
          "output_type": "execute_result",
          "data": {
            "text/plain": [
              "<seaborn.axisgrid.JointGrid at 0x7f461b2991d0>"
            ]
          },
          "metadata": {
            "tags": []
          },
          "execution_count": 252
        },
        {
          "output_type": "display_data",
          "data": {
            "image/png": "[encoded data removed]",
            "text/plain": [
              "<Figure size 432x432 with 3 Axes>"
            ]
          },
          "metadata": {
            "tags": [],
            "needs_background": "light"
          }
        }
      ]
    },
    {
      "cell_type": "code",
      "metadata": {
        "id": "6-ji11gX15ay",
        "colab": {
          "base_uri": "https://localhost:8080/"
        },
        "outputId": "4452c2bb-0fa5-49f1-cabc-cac4ac6ac956"
      },
      "source": [
        "#avg. lifetime value\n",
        "train['TotalCharges'].mean()"
      ],
      "execution_count": 109,
      "outputs": [
        {
          "output_type": "execute_result",
          "data": {
            "text/plain": [
              "2298.0606174698796"
            ]
          },
          "metadata": {
            "tags": []
          },
          "execution_count": 109
        }
      ]
    },
    {
      "cell_type": "code",
      "metadata": {
        "colab": {
          "base_uri": "https://localhost:8080/",
          "height": 458
        },
        "id": "xzpEJJliKnEU",
        "outputId": "e36a622e-5fe4-42bd-ba73-bc8a1bce2c43"
      },
      "source": [
        "sns.jointplot(data=train, x=\"TotalCharges\", y=\"Churn\", kind=\"reg\")"
      ],
      "execution_count": 253,
      "outputs": [
        {
          "output_type": "execute_result",
          "data": {
            "text/plain": [
              "<seaborn.axisgrid.JointGrid at 0x7f461b6db9d0>"
            ]
          },
          "metadata": {
            "tags": []
          },
          "execution_count": 253
        },
        {
          "output_type": "display_data",
          "data": {
            "image/png": "[encoded data removed]",
            "text/plain": [
              "<Figure size 432x432 with 3 Axes>"
            ]
          },
          "metadata": {
            "tags": [],
            "needs_background": "light"
          }
        }
      ]
    },
    {
      "cell_type": "markdown",
      "metadata": {
        "id": "FFZebdc6v8GB"
      },
      "source": [
        "Exploratory Data Analysis\n"
      ]
    },
    {
      "cell_type": "code",
      "metadata": {
        "id": "8cd-ReLLxjnr"
      },
      "source": [
        "#identify target and fetures matrix\n",
        "target = 'Churn'\n",
        "features = ['SeniorCitizen', 'Partner', 'Dependents', 'tenure', 'PhoneService',\n",
        "       'MultipleLines', 'InternetService', 'OnlineSecurity', 'OnlineBackup',\n",
        "       'DeviceProtection', 'TechSupport', 'StreamingTV', 'StreamingMovies',\n",
        "       'PaperlessBilling', 'MonthlyCharges', 'TotalCharges',\n",
        "       'gender_Female', 'gender_Male', 'Contract_Month-to-month',\n",
        "       'Contract_One year', 'Contract_Two year',\n",
        "       'PaymentMethod_Bank transfer (automatic)',\n",
        "       'PaymentMethod_Credit card (automatic)',\n",
        "       'PaymentMethod_Electronic check', 'PaymentMethod_Mailed check']\n",
        "\n",
        "#import library for split\n",
        "from sklearn.model_selection import train_test_split"
      ],
      "execution_count": 110,
      "outputs": []
    },
    {
      "cell_type": "code",
      "metadata": {
        "id": "AUCmira7x1y6"
      },
      "source": [
        "#split into train, val, test sets\n",
        "train, val = train_test_split(train, test_size = 0.3, random_state=13)\n",
        "\n",
        "val, test = train_test_split(val, test_size = 0.3, random_state=13)"
      ],
      "execution_count": 111,
      "outputs": []
    },
    {
      "cell_type": "code",
      "metadata": {
        "colab": {
          "base_uri": "https://localhost:8080/"
        },
        "id": "9bzuTAoj1Wmm",
        "outputId": "fcfcb18a-a804-43c8-c8a8-b58a46bb28ca"
      },
      "source": [
        "#double-check the shapes\n",
        "print(train.shape)\n",
        "print(val.shape)\n",
        "print(test.shape)"
      ],
      "execution_count": 112,
      "outputs": [
        {
          "output_type": "stream",
          "text": [
            "(4190, 26)\n",
            "(1257, 26)\n",
            "(539, 26)\n"
          ],
          "name": "stdout"
        }
      ]
    },
    {
      "cell_type": "code",
      "metadata": {
        "id": "t4BUJ5QBH2hI"
      },
      "source": [
        "X_train = train[features]\n",
        "y_train = train[target]\n",
        "\n",
        "X_val = val[features]\n",
        "y_val = val[target]\n",
        "\n",
        "X_test = test[features]\n",
        "y_test = test[target]\n"
      ],
      "execution_count": 113,
      "outputs": []
    },
    {
      "cell_type": "code",
      "metadata": {
        "colab": {
          "base_uri": "https://localhost:8080/"
        },
        "id": "4dAewQlnH_1_",
        "outputId": "3cd78afe-557b-4f31-ef4a-3fdaa7caabd5"
      },
      "source": [
        "#check the shape\n",
        "X_val.shape"
      ],
      "execution_count": 114,
      "outputs": [
        {
          "output_type": "execute_result",
          "data": {
            "text/plain": [
              "(1257, 25)"
            ]
          },
          "metadata": {
            "tags": []
          },
          "execution_count": 114
        }
      ]
    },
    {
      "cell_type": "code",
      "metadata": {
        "colab": {
          "base_uri": "https://localhost:8080/",
          "height": 542
        },
        "id": "l69KFjSkAY-8",
        "outputId": "41b9e13f-a439-4889-d4a4-800c99d01252"
      },
      "source": [
        "#explore the data w/linear\n",
        "px.scatter(\n",
        "    train, x='tenure', y='Churn', trendline='ols'\n",
        ")"
      ],
      "execution_count": 115,
      "outputs": [
        {
          "output_type": "display_data",
          "data": {
            "text/html": [
              "<html>\n",
              "<head><meta charset=\"utf-8\" /></head>\n",
              "<body>\n",
              "    <div>\n",
              "            <script src=\"https://cdnjs.cloudflare.com/ajax/libs/mathjax/2.7.5/MathJax.js?config=TeX-AMS-MML_SVG\"></script><script type=\"text/javascript\">if (window.MathJax) {MathJax.Hub.Config({SVG: {font: \"STIX-Web\"}});}</script>\n",
              "                <script type=\"text/javascript\">window.PlotlyConfig = {MathJaxConfig: 'local'};</script>\n",
              "        <script src=\"https://cdn.plot.ly/plotly-latest.min.js\"></script>    \n",
              "            <div id=\"01a5f9bb-da92-42f1-b5fc-adf7156f4c11\" class=\"plotly-graph-div\" style=\"height:525px; width:100%;\"></div>\n",
              "            <script type=\"text/javascript\">\n",
              "                \n",
              "                    window.PLOTLYENV=window.PLOTLYENV || {};\n",
              "                    \n",
              "                if (document.getElementById(\"01a5f9bb-da92-42f1-b5fc-adf7156f4c11\")) {\n",
              "                    Plotly.newPlot(\n",
              "                        '01a5f9bb-da92-42f1-b5fc-adf7156f4c11',\n",
              "                        [{\"hoverlabel\": {\"namelength\": 0}, \"hovertemplate\": \"tenure=%{x}<br>Churn=%{y}\", \"legendgroup\": \"\", \"marker\": {\"color\": \"#636efa\", \"symbol\": \"circle\"}, \"mode\": \"markers\", \"name\": \"\", \"showlegend\": false, \"type\": \"scattergl\", \"x\": [35, 72, 16, 52, 70, 23, 72, 35, 72, 36, 71, 72, 4, 1, 22, 22, 33, 3, 11, 19, 51, 1, 18, 50, 2, 50, 1, 1, 24, 50, 71, 71, 28, 5, 50, 3, 55, 72, 30, 11, 66, 2, 2, 3, 12, 72, 68, 65, 67, 13, 32, 23, 53, 62, 60, 5, 1, 8, 43, 4, 11, 36, 65, 52, 23, 63, 15, 25, 67, 9, 4, 52, 57, 7, 48, 72, 8, 7, 72, 62, 4, 18, 18, 64, 17, 21, 13, 1, 1, 1, 59, 1, 47, 54, 17, 45, 70, 13, 53, 42, 68, 14, 56, 46, 12, 38, 17, 38, 1, 3, 65, 72, 72, 22, 1, 44, 67, 15, 2, 2, 3, 21, 1, 34, 11, 23, 59, 53, 37, 5, 28, 59, 38, 54, 1, 6, 18, 59, 29, 1, 38, 9, 67, 5, 5, 31, 43, 2, 18, 15, 8, 1, 49, 63, 55, 57, 37, 1, 4, 55, 7, 12, 65, 72, 26, 53, 31, 60, 24, 6, 56, 3, 59, 11, 16, 8, 68, 65, 9, 19, 18, 29, 68, 48, 71, 20, 35, 32, 3, 34, 2, 18, 27, 9, 66, 4, 44, 1, 64, 71, 5, 16, 22, 12, 72, 71, 13, 68, 22, 20, 69, 12, 8, 46, 64, 14, 26, 3, 54, 61, 1, 1, 15, 13, 70, 27, 67, 10, 1, 72, 66, 2, 13, 27, 37, 47, 9, 33, 21, 35, 55, 72, 47, 20, 31, 32, 1, 67, 1, 65, 47, 62, 3, 55, 1, 9, 8, 49, 14, 30, 38, 4, 1, 70, 27, 64, 42, 53, 7, 27, 50, 5, 17, 34, 15, 58, 1, 34, 8, 61, 25, 45, 1, 35, 25, 70, 17, 51, 3, 7, 2, 36, 2, 35, 50, 30, 69, 31, 58, 72, 24, 69, 16, 29, 25, 1, 4, 5, 6, 20, 3, 55, 52, 71, 20, 59, 64, 25, 39, 72, 59, 44, 35, 10, 37, 53, 55, 12, 46, 43, 42, 11, 1, 32, 69, 11, 37, 5, 70, 46, 14, 17, 1, 25, 24, 12, 26, 67, 2, 39, 4, 11, 13, 68, 49, 70, 72, 26, 47, 67, 50, 8, 1, 2, 25, 37, 9, 43, 3, 31, 63, 69, 7, 26, 26, 17, 64, 71, 29, 64, 25, 36, 29, 1, 57, 47, 72, 22, 54, 1, 15, 34, 51, 49, 67, 65, 45, 20, 1, 23, 36, 55, 3, 7, 27, 27, 72, 6, 68, 27, 1, 30, 55, 5, 56, 34, 72, 71, 40, 47, 71, 71, 40, 4, 2, 1, 67, 59, 15, 1, 10, 38, 29, 25, 17, 8, 8, 24, 16, 42, 56, 15, 29, 5, 2, 7, 63, 1, 4, 48, 1, 19, 56, 72, 23, 50, 23, 69, 54, 24, 14, 19, 27, 45, 46, 13, 44, 70, 24, 1, 43, 27, 11, 1, 40, 56, 7, 19, 14, 1, 48, 58, 8, 53, 23, 45, 56, 25, 40, 60, 7, 21, 16, 71, 51, 26, 34, 68, 62, 15, 70, 8, 13, 7, 59, 14, 51, 45, 35, 18, 10, 51, 68, 39, 1, 61, 33, 56, 4, 45, 69, 72, 12, 34, 71, 43, 72, 23, 66, 16, 26, 43, 14, 1, 44, 9, 45, 7, 36, 59, 10, 9, 8, 1, 2, 42, 31, 16, 3, 41, 3, 28, 50, 13, 67, 6, 58, 44, 67, 1, 66, 65, 7, 62, 47, 15, 51, 1, 71, 26, 70, 19, 61, 2, 44, 44, 27, 5, 42, 3, 3, 9, 22, 24, 16, 59, 1, 41, 6, 4, 4, 32, 10, 41, 21, 37, 36, 67, 10, 18, 51, 29, 13, 56, 11, 54, 43, 35, 8, 32, 49, 58, 33, 30, 43, 36, 29, 24, 33, 67, 17, 68, 72, 38, 1, 46, 72, 54, 52, 12, 3, 72, 30, 38, 8, 72, 29, 50, 70, 20, 2, 11, 1, 21, 64, 19, 71, 51, 24, 4, 24, 12, 10, 45, 1, 7, 1, 1, 45, 49, 50, 9, 33, 1, 28, 55, 1, 70, 59, 48, 63, 66, 71, 24, 38, 10, 28, 41, 24, 72, 64, 20, 3, 10, 70, 71, 71, 18, 4, 16, 70, 5, 34, 16, 38, 38, 64, 51, 6, 64, 4, 72, 61, 55, 21, 72, 72, 15, 4, 42, 44, 40, 52, 62, 16, 15, 64, 42, 68, 1, 62, 3, 34, 25, 1, 68, 26, 2, 15, 5, 6, 67, 1, 1, 29, 43, 61, 64, 1, 66, 48, 7, 70, 57, 11, 51, 32, 72, 62, 15, 10, 16, 7, 53, 37, 1, 8, 63, 4, 18, 18, 70, 57, 71, 59, 35, 65, 51, 14, 1, 1, 40, 5, 15, 69, 22, 72, 57, 70, 10, 55, 1, 12, 4, 27, 3, 3, 7, 1, 55, 50, 27, 11, 3, 68, 11, 69, 10, 51, 17, 6, 4, 1, 1, 6, 2, 23, 44, 69, 44, 68, 44, 19, 72, 71, 71, 19, 53, 68, 41, 31, 33, 56, 13, 18, 46, 22, 72, 64, 9, 41, 41, 13, 1, 14, 2, 64, 33, 42, 55, 18, 8, 71, 38, 66, 37, 55, 69, 50, 49, 19, 40, 1, 1, 1, 69, 31, 70, 23, 1, 32, 58, 29, 55, 26, 67, 1, 4, 37, 2, 61, 4, 20, 67, 24, 49, 42, 1, 66, 15, 3, 46, 58, 3, 8, 71, 51, 36, 34, 60, 11, 1, 60, 1, 1, 50, 12, 72, 7, 72, 9, 26, 63, 27, 71, 10, 36, 71, 71, 72, 39, 71, 11, 2, 51, 37, 26, 3, 47, 7, 49, 7, 51, 64, 49, 30, 2, 72, 42, 21, 40, 57, 24, 24, 32, 19, 68, 68, 17, 3, 1, 18, 67, 71, 1, 18, 22, 11, 5, 18, 39, 70, 25, 26, 1, 44, 62, 72, 43, 48, 71, 25, 69, 59, 9, 1, 5, 4, 72, 64, 53, 8, 58, 11, 1, 30, 33, 70, 4, 1, 30, 42, 69, 24, 2, 21, 22, 1, 40, 57, 60, 1, 20, 67, 64, 3, 61, 1, 66, 16, 52, 40, 34, 3, 7, 11, 16, 61, 51, 2, 28, 1, 32, 35, 63, 10, 11, 3, 8, 72, 71, 6, 2, 25, 9, 1, 60, 27, 34, 41, 36, 1, 54, 66, 15, 27, 29, 31, 68, 9, 2, 67, 1, 17, 17, 3, 26, 10, 15, 23, 13, 58, 41, 60, 14, 1, 62, 11, 69, 3, 45, 1, 63, 7, 56, 6, 59, 15, 23, 29, 22, 66, 40, 57, 13, 12, 45, 20, 58, 61, 1, 58, 1, 71, 64, 14, 11, 21, 20, 9, 6, 72, 23, 0, 21, 72, 64, 69, 28, 16, 24, 24, 71, 1, 59, 70, 9, 26, 58, 71, 1, 5, 3, 32, 42, 72, 64, 7, 1, 12, 25, 70, 6, 46, 1, 56, 25, 4, 34, 72, 13, 1, 30, 58, 63, 34, 8, 37, 5, 15, 56, 31, 15, 23, 24, 2, 72, 7, 55, 2, 23, 13, 1, 4, 52, 39, 55, 6, 15, 12, 63, 6, 33, 60, 27, 25, 69, 68, 70, 28, 22, 26, 11, 64, 37, 10, 18, 10, 39, 8, 72, 57, 37, 35, 72, 14, 44, 43, 39, 67, 26, 44, 69, 39, 60, 69, 1, 64, 72, 34, 44, 3, 17, 31, 66, 18, 6, 41, 43, 18, 62, 50, 71, 50, 47, 18, 16, 1, 2, 21, 66, 50, 2, 45, 51, 60, 41, 6, 72, 62, 68, 64, 67, 29, 8, 65, 64, 54, 2, 15, 1, 3, 26, 16, 1, 37, 44, 7, 15, 2, 66, 1, 65, 1, 5, 3, 42, 43, 16, 47, 44, 4, 12, 52, 4, 12, 16, 16, 19, 13, 45, 61, 1, 1, 56, 0, 36, 44, 39, 72, 13, 12, 72, 7, 65, 1, 21, 67, 68, 13, 51, 58, 58, 38, 1, 7, 20, 8, 2, 49, 45, 24, 1, 68, 55, 67, 29, 50, 2, 69, 57, 7, 22, 19, 59, 64, 4, 27, 54, 19, 55, 61, 17, 52, 63, 66, 67, 14, 4, 61, 5, 1, 2, 5, 72, 26, 45, 54, 17, 65, 20, 52, 1, 1, 68, 58, 34, 63, 55, 3, 24, 15, 60, 4, 72, 52, 72, 10, 3, 51, 70, 67, 2, 1, 12, 24, 38, 28, 47, 19, 5, 2, 14, 68, 23, 67, 22, 15, 48, 31, 1, 60, 2, 12, 72, 1, 1, 72, 32, 12, 15, 1, 12, 35, 24, 27, 68, 7, 22, 17, 67, 63, 1, 2, 2, 9, 56, 8, 68, 58, 50, 63, 1, 60, 6, 69, 59, 54, 32, 7, 64, 35, 48, 21, 54, 71, 9, 42, 67, 1, 16, 41, 25, 58, 72, 66, 31, 1, 3, 2, 27, 72, 1, 55, 57, 62, 12, 6, 25, 33, 58, 66, 71, 31, 8, 20, 4, 2, 1, 1, 60, 3, 69, 7, 2, 1, 9, 8, 1, 9, 7, 6, 42, 29, 1, 29, 57, 65, 57, 27, 1, 4, 71, 67, 68, 21, 1, 4, 27, 35, 41, 40, 2, 23, 4, 15, 56, 4, 2, 11, 32, 4, 46, 46, 71, 22, 68, 36, 67, 5, 60, 1, 49, 8, 26, 64, 41, 11, 7, 49, 58, 7, 6, 8, 61, 57, 33, 1, 47, 34, 3, 18, 54, 3, 41, 11, 71, 45, 43, 72, 49, 1, 71, 29, 1, 4, 7, 4, 72, 17, 47, 2, 19, 68, 40, 52, 71, 72, 72, 13, 66, 1, 15, 8, 1, 12, 72, 9, 28, 20, 9, 30, 52, 11, 55, 1, 34, 1, 29, 68, 70, 72, 69, 9, 35, 54, 65, 52, 2, 67, 65, 4, 24, 37, 2, 42, 43, 51, 2, 30, 61, 1, 33, 38, 70, 17, 54, 41, 3, 71, 33, 66, 7, 12, 3, 7, 68, 52, 1, 65, 22, 3, 71, 3, 70, 19, 2, 70, 27, 37, 20, 72, 65, 38, 52, 18, 67, 18, 37, 41, 9, 58, 64, 20, 17, 1, 1, 69, 48, 1, 11, 19, 65, 18, 71, 16, 1, 71, 18, 41, 1, 1, 66, 63, 25, 37, 66, 9, 42, 9, 13, 2, 12, 34, 36, 24, 53, 23, 42, 13, 59, 59, 63, 55, 35, 24, 3, 66, 10, 53, 46, 1, 38, 46, 22, 51, 22, 1, 18, 3, 7, 5, 58, 47, 11, 63, 72, 30, 28, 30, 45, 72, 33, 72, 10, 57, 14, 55, 13, 28, 1, 72, 9, 10, 7, 44, 3, 70, 58, 33, 10, 34, 12, 13, 39, 70, 19, 1, 8, 24, 54, 33, 1, 27, 72, 72, 18, 68, 5, 56, 20, 16, 66, 3, 17, 64, 1, 52, 14, 72, 66, 14, 1, 1, 2, 9, 7, 4, 11, 72, 46, 58, 72, 70, 33, 48, 3, 68, 22, 72, 33, 25, 60, 1, 11, 3, 72, 31, 64, 40, 71, 9, 1, 9, 42, 24, 29, 54, 48, 69, 9, 57, 33, 56, 69, 49, 1, 72, 30, 30, 63, 1, 2, 35, 52, 1, 1, 64, 55, 63, 5, 7, 67, 17, 4, 2, 71, 32, 38, 1, 33, 4, 15, 71, 34, 63, 1, 14, 71, 1, 50, 19, 31, 35, 27, 71, 1, 1, 2, 43, 11, 51, 2, 31, 1, 43, 8, 35, 66, 23, 42, 14, 29, 9, 34, 3, 35, 45, 4, 60, 50, 31, 66, 8, 14, 9, 5, 66, 3, 33, 6, 41, 15, 36, 12, 41, 18, 14, 13, 59, 58, 69, 62, 35, 11, 1, 32, 61, 4, 70, 41, 31, 6, 29, 27, 35, 12, 1, 22, 5, 30, 30, 17, 48, 39, 47, 1, 48, 22, 72, 18, 1, 32, 1, 71, 1, 70, 47, 5, 50, 72, 1, 71, 12, 25, 1, 18, 43, 35, 1, 2, 17, 28, 11, 20, 1, 48, 29, 69, 65, 27, 69, 1, 25, 46, 2, 8, 22, 1, 5, 35, 51, 55, 52, 16, 58, 1, 1, 22, 24, 6, 1, 12, 33, 1, 53, 17, 3, 24, 54, 19, 1, 72, 66, 71, 68, 56, 40, 43, 13, 12, 31, 17, 52, 46, 11, 60, 49, 24, 22, 21, 28, 72, 50, 14, 40, 8, 67, 66, 34, 43, 63, 68, 32, 51, 1, 72, 3, 28, 1, 62, 19, 3, 1, 3, 24, 9, 24, 46, 1, 68, 23, 68, 25, 3, 49, 68, 4, 48, 1, 70, 63, 47, 56, 14, 15, 60, 40, 30, 2, 37, 62, 4, 5, 10, 51, 71, 72, 51, 71, 66, 49, 14, 15, 7, 1, 39, 2, 72, 10, 2, 8, 38, 1, 15, 52, 5, 63, 37, 43, 2, 9, 25, 6, 15, 35, 20, 72, 44, 72, 57, 62, 15, 25, 19, 7, 46, 13, 30, 59, 50, 72, 68, 25, 30, 43, 1, 34, 15, 43, 72, 1, 64, 72, 52, 7, 63, 56, 52, 22, 3, 2, 34, 72, 72, 28, 4, 2, 9, 1, 4, 30, 12, 72, 3, 54, 2, 70, 66, 46, 4, 56, 72, 57, 37, 55, 35, 40, 17, 10, 33, 19, 39, 42, 52, 1, 4, 1, 57, 2, 21, 23, 57, 53, 72, 10, 56, 1, 1, 15, 42, 60, 62, 14, 18, 63, 1, 72, 19, 72, 36, 66, 48, 14, 14, 32, 71, 25, 1, 1, 50, 4, 12, 38, 1, 62, 26, 20, 4, 1, 1, 65, 1, 15, 28, 5, 64, 52, 41, 10, 72, 3, 31, 26, 32, 10, 41, 54, 62, 9, 23, 13, 51, 59, 25, 72, 4, 40, 6, 58, 0, 9, 66, 57, 2, 64, 26, 49, 1, 35, 61, 57, 58, 35, 20, 3, 72, 3, 5, 4, 59, 5, 49, 35, 63, 71, 34, 72, 72, 15, 68, 1, 14, 9, 1, 72, 16, 1, 19, 72, 9, 64, 1, 7, 46, 15, 1, 54, 1, 61, 26, 1, 70, 61, 12, 15, 4, 61, 10, 72, 20, 72, 13, 69, 29, 41, 1, 6, 1, 55, 48, 41, 1, 71, 71, 1, 24, 70, 58, 65, 1, 28, 68, 61, 39, 3, 23, 58, 72, 40, 32, 16, 29, 4, 24, 45, 72, 69, 44, 1, 63, 53, 17, 30, 1, 1, 6, 71, 41, 24, 72, 71, 11, 2, 3, 13, 32, 28, 71, 9, 4, 48, 62, 27, 64, 3, 68, 10, 54, 69, 46, 72, 11, 20, 72, 72, 3, 11, 71, 58, 48, 16, 27, 62, 61, 47, 71, 10, 10, 71, 13, 16, 1, 15, 44, 5, 39, 54, 1, 1, 30, 64, 72, 62, 56, 72, 38, 24, 2, 5, 28, 4, 40, 68, 5, 54, 49, 21, 50, 70, 58, 50, 23, 69, 38, 11, 62, 22, 55, 26, 66, 6, 39, 65, 66, 1, 65, 1, 20, 13, 10, 32, 4, 57, 44, 48, 71, 71, 38, 3, 68, 67, 12, 49, 1, 27, 62, 14, 20, 1, 22, 43, 2, 23, 25, 57, 29, 4, 38, 67, 35, 52, 49, 24, 1, 17, 68, 7, 9, 1, 33, 23, 30, 11, 30, 54, 28, 4, 35, 39, 1, 11, 2, 46, 68, 6, 54, 53, 51, 63, 38, 32, 72, 54, 68, 20, 16, 9, 1, 41, 57, 24, 54, 2, 72, 10, 9, 4, 11, 34, 34, 1, 34, 12, 11, 58, 40, 17, 41, 38, 61, 65, 22, 10, 12, 26, 7, 1, 63, 8, 50, 51, 56, 68, 53, 26, 72, 47, 2, 46, 72, 1, 5, 66, 7, 18, 5, 59, 11, 24, 16, 12, 59, 27, 26, 43, 41, 42, 3, 71, 51, 19, 7, 70, 31, 72, 61, 66, 25, 57, 51, 2, 1, 52, 53, 6, 46, 48, 69, 18, 52, 30, 34, 64, 72, 1, 17, 19, 60, 4, 56, 1, 51, 8, 13, 1, 24, 64, 43, 1, 17, 5, 28, 30, 26, 1, 5, 52, 66, 3, 72, 3, 10, 6, 29, 43, 15, 38, 71, 37, 4, 27, 53, 3, 68, 47, 23, 45, 72, 53, 59, 72, 4, 71, 58, 4, 33, 2, 7, 1, 57, 41, 1, 68, 65, 18, 27, 11, 71, 22, 1, 1, 70, 35, 34, 31, 44, 58, 17, 18, 62, 39, 6, 23, 60, 63, 6, 3, 1, 6, 25, 69, 1, 59, 60, 45, 51, 52, 65, 21, 38, 22, 6, 14, 54, 67, 67, 4, 60, 71, 63, 25, 51, 35, 44, 62, 72, 4, 61, 71, 50, 8, 56, 70, 15, 1, 64, 62, 31, 27, 72, 9, 12, 19, 46, 48, 40, 72, 16, 61, 4, 55, 51, 7, 1, 22, 11, 4, 60, 1, 8, 4, 45, 13, 56, 22, 32, 12, 35, 2, 1, 29, 54, 13, 2, 18, 46, 66, 56, 1, 64, 33, 9, 1, 4, 1, 35, 1, 69, 69, 4, 67, 42, 13, 17, 63, 27, 15, 26, 4, 3, 26, 12, 15, 66, 1, 51, 1, 72, 25, 72, 1, 29, 26, 72, 22, 41, 22, 11, 13, 20, 63, 12, 42, 28, 38, 49, 72, 23, 56, 2, 71, 5, 47, 52, 52, 29, 30, 47, 21, 2, 63, 3, 10, 51, 24, 11, 4, 69, 1, 1, 34, 54, 42, 2, 3, 33, 68, 72, 55, 60, 12, 65, 37, 1, 37, 66, 39, 72, 56, 45, 10, 31, 60, 63, 71, 66, 71, 24, 28, 2, 6, 64, 12, 26, 61, 2, 19, 13, 72, 36, 28, 52, 24, 2, 12, 2, 1, 35, 69, 72, 3, 17, 45, 7, 43, 46, 18, 68, 3, 20, 24, 50, 67, 10, 41, 2, 38, 1, 36, 1, 2, 58, 22, 40, 26, 72, 31, 4, 2, 5, 5, 61, 6, 71, 32, 70, 40, 11, 10, 34, 35, 46, 2, 35, 41, 5, 17, 66, 63, 23, 14, 43, 58, 57, 59, 61, 21, 17, 4, 1, 60, 2, 2, 3, 29, 40, 53, 1, 6, 71, 39, 71, 21, 42, 1, 53, 1, 7, 72, 25, 25, 11, 31, 20, 24, 17, 1, 21, 1, 3, 11, 71, 38, 68, 61, 69, 19, 1, 6, 72, 29, 60, 14, 1, 12, 72, 16, 47, 72, 32, 22, 70, 11, 1, 72, 6, 71, 61, 72, 52, 10, 29, 19, 5, 54, 12, 35, 35, 21, 4, 31, 43, 6, 70, 33, 18, 68, 2, 65, 24, 54, 10, 3, 32, 23, 6, 20, 72, 18, 40, 17, 20, 1, 1, 12, 3, 45, 58, 7, 10, 7, 52, 28, 4, 5, 71, 5, 19, 70, 71, 18, 25, 8, 1, 22, 9, 72, 41, 64, 39, 59, 37, 2, 13, 10, 8, 56, 41, 49, 27, 72, 33, 67, 53, 51, 19, 12, 67, 72, 62, 54, 3, 36, 72, 61, 1, 53, 71, 70, 41, 15, 26, 43, 35, 2, 35, 8, 4, 18, 3, 18, 70, 70, 1, 61, 66, 1, 0, 12, 36, 67, 23, 52, 14, 2, 59, 55, 51, 10, 57, 53, 32, 70, 8, 57, 72, 7, 28, 24, 54, 13, 32, 7, 37, 16, 71, 47, 2, 1, 4, 22, 30, 1, 9, 29, 67, 60, 36, 1, 2, 23, 2, 5, 6, 7, 7, 2, 68, 58, 4, 48, 2, 26, 9, 66, 16, 32, 1, 43, 8, 52, 1, 52, 11, 59, 50, 41, 12, 3, 8, 1, 58, 58, 27, 1, 48, 1, 3, 59, 56, 1, 1, 65, 2, 45, 43, 71, 5, 1, 41, 28, 61, 71, 54, 8, 48, 67, 72, 55, 51, 72, 9, 3, 31, 36, 29, 64, 66, 16, 56, 67, 26, 13, 8, 2, 10, 72, 8, 66, 51, 22, 5, 5, 14, 61, 9, 72, 69, 16, 2, 34, 23, 2, 23, 69, 57, 63, 8, 3, 3, 14, 71, 60, 5, 1, 42, 10, 10, 72, 54, 6, 16, 54, 68, 13, 37, 10, 1, 17, 35, 67, 7, 62, 13, 72, 2, 13, 2, 1, 24, 9, 53, 40, 52, 64, 14, 65, 2, 32, 18, 1, 2, 40, 53, 1, 16, 20, 26, 1, 40, 40, 11, 8, 8, 28, 0, 7, 3, 3, 24, 1, 7, 50, 30, 13, 27, 18, 2, 34, 9, 55, 62, 65, 8, 24, 47, 35, 65, 48, 21, 1, 58, 39, 1, 65, 55, 27, 58, 45, 6, 6, 33, 20, 65, 18, 29, 6, 1, 17, 34, 47, 12, 25, 3, 48, 66, 35, 60, 24, 3, 10, 35, 5, 42, 12, 13, 7, 60, 19, 56, 28, 1, 17, 8, 2, 12, 20, 66, 17, 30, 54, 1, 5, 21, 59, 25, 1, 8, 53, 72, 26, 62, 17, 1, 33, 71, 9, 70, 72, 56, 18, 1, 8, 4, 60, 40, 13, 72, 2, 17, 53, 12, 1, 16, 29, 67, 3, 67, 17, 60, 27, 1, 47, 19, 47, 67, 21, 27, 42, 58, 16, 16, 24, 1, 39, 10, 62, 40, 9, 23, 12, 16, 30, 3, 68, 29, 4, 46, 58, 3, 66, 1, 13, 56, 14, 54, 19, 4, 17, 2, 64, 3, 27, 46, 23, 10, 3, 3, 8, 63, 6, 31, 16, 27, 40, 1, 36, 2, 42, 56, 14, 15, 72, 48, 56, 54, 13, 67, 15, 57, 41, 42, 64, 43, 2, 71, 50, 4, 48, 10, 18, 14, 2, 61, 50, 14, 13, 18, 48, 4, 71, 4, 6, 10, 35, 72, 43, 35, 1, 13, 3, 69, 7, 30, 20, 20, 4, 58, 7, 56, 53, 20, 1, 32, 57, 18, 27, 61, 6, 33, 52, 52, 16, 1, 44, 7, 14, 28, 71, 1, 0, 71, 1, 44, 32, 11, 1, 1, 70, 1, 13, 63, 72, 52, 1, 72, 45, 0, 20, 24, 10, 25, 26, 5, 6, 25, 64, 19, 39, 71, 31, 4, 27, 15, 11, 72, 68, 61, 58, 71, 65, 72, 4, 4, 56, 62, 15, 25, 38, 38, 68, 29, 2, 5, 72, 10, 72, 47, 68, 12, 9, 1, 48, 16, 7, 1, 60, 1, 42, 1, 12, 27, 1, 30, 17, 12, 72, 11, 30, 72, 31, 5, 53, 33, 32, 72, 72, 51, 30, 66, 53, 25, 71, 50, 26, 49, 2, 42, 71, 58, 57, 13, 32, 4, 22, 1, 19, 72, 1, 36, 62, 68, 11, 56, 65, 36, 53, 66, 10, 1, 24, 8, 17, 38, 35, 1, 3, 11, 66, 60, 68, 21, 23, 8, 67, 58, 39, 50, 52, 7, 48, 20, 68, 71, 46, 26, 1, 3, 70, 1, 54, 62, 3, 2, 27, 55, 1, 60, 12, 53, 14, 18, 25, 60, 72, 21, 70, 1, 31, 10, 9, 72, 33, 12, 37, 12, 68, 4, 64, 1, 4, 13, 1, 41, 6, 33, 8, 21, 2, 72, 1, 8, 1, 62, 11, 5, 10, 47, 49, 51, 9, 68, 35, 55, 49, 3, 16, 1, 62, 19, 72, 40, 11, 38, 72, 19, 18, 9, 39, 2, 71, 69, 41, 39, 53, 19, 29, 12, 46, 72, 72, 35, 11, 65, 41, 28, 72, 35, 54, 15, 72, 47, 61, 25, 6, 71, 30, 24, 34, 13, 3, 23, 72, 57, 72, 6, 48, 60, 4, 2, 60, 20, 33, 10, 29, 29, 10, 48, 5, 41, 44, 38, 4, 45, 21, 10, 2, 18, 54, 35, 70, 66, 26, 45, 33, 71, 72, 47, 40, 62, 72, 13, 4, 4, 49, 62, 40, 13, 4, 21, 72, 32, 43, 4, 3, 44, 17, 19, 72, 26, 27, 61, 40, 20, 4, 10, 71, 8, 28, 64, 67, 42, 1, 69, 18, 39, 47, 33, 47, 19, 39, 67, 11, 4, 4, 67, 3, 29, 1, 24, 7, 1, 58, 71, 1, 12, 63, 5, 43, 26, 1, 72, 52, 72, 72, 50, 65, 5, 70, 1, 67, 64, 32, 7, 55, 27, 72, 61, 11, 1, 60, 15, 59, 22, 1, 71, 12, 19, 64, 16, 2, 10, 2, 42, 3, 16, 55, 72, 50, 48, 9, 4, 47, 1, 22, 2, 72, 61, 48, 61, 21, 29, 48, 25, 72, 12, 42, 51, 1, 61, 16, 31, 1, 46, 14, 24, 71, 71, 27, 72, 42, 62, 38, 1, 2, 13, 1, 59, 64, 1, 72, 6, 40, 72, 15, 72, 11, 6, 27, 50, 14, 26, 72, 1, 72, 65, 19, 24, 2, 49, 5, 61, 67, 13, 16, 67, 69, 16, 43, 3, 3, 1, 31, 52, 8, 72, 43, 62, 2, 6, 25, 38, 43, 22, 1, 24, 12, 72, 10, 14, 32, 14, 1, 67, 51, 1, 9, 3, 10, 70, 67, 43, 22, 44, 12, 21, 63, 72, 46, 1, 2, 29, 41, 37, 23, 72, 71, 14, 1, 28, 4, 1, 30, 1, 66, 1, 49, 5, 42, 62, 55, 34, 72, 2, 61, 53, 72, 68, 6, 8, 31, 1, 43, 22, 4, 34, 2, 10, 51, 28, 36, 2, 19, 50, 17, 31, 70, 3, 45, 28, 55, 1, 1, 7, 12, 6, 53, 20, 10, 72, 12, 68, 42, 60, 1, 68, 8, 26, 8, 13, 2, 1, 72, 72, 61, 44, 1, 50, 70, 9, 71, 31, 23, 17, 2, 25, 72, 42, 9, 3, 23, 40, 45, 4, 27, 40, 2, 11, 53, 59, 0, 7, 24, 19, 62, 51, 65, 65, 7, 70, 1, 1, 44, 63, 31, 65, 43, 56, 26, 3, 18, 1, 30, 1, 71, 36, 31, 9, 14, 11, 19, 13, 2, 1, 25, 50, 31, 2, 20, 37, 59, 26, 70, 37, 17, 41, 2, 23, 64], \"xaxis\": \"x\", \"y\": [0, 0, 1, 0, 0, 1, 0, 0, 0, 0, 0, 0, 1, 1, 1, 0, 0, 0, 0, 0, 0, 1, 1, 0, 1, 0, 1, 1, 0, 0, 0, 0, 0, 0, 0, 0, 0, 0, 0, 0, 0, 1, 0, 1, 0, 0, 1, 0, 0, 1, 0, 1, 0, 0, 0, 1, 0, 0, 1, 1, 0, 0, 1, 0, 1, 0, 1, 0, 0, 0, 0, 1, 0, 0, 0, 0, 1, 0, 0, 0, 1, 0, 0, 0, 0, 0, 0, 1, 0, 1, 0, 0, 0, 0, 0, 0, 0, 0, 0, 0, 0, 1, 0, 0, 0, 0, 0, 0, 1, 1, 0, 0, 0, 0, 0, 0, 0, 0, 0, 1, 1, 1, 1, 1, 0, 0, 0, 0, 0, 0, 0, 0, 0, 0, 1, 0, 0, 0, 0, 0, 0, 0, 0, 1, 0, 0, 0, 0, 1, 0, 0, 1, 0, 0, 0, 0, 0, 1, 0, 0, 1, 0, 0, 0, 0, 0, 1, 0, 1, 0, 1, 1, 0, 1, 0, 1, 0, 0, 0, 1, 0, 0, 1, 1, 0, 0, 0, 0, 0, 0, 1, 1, 1, 0, 0, 0, 1, 0, 0, 0, 0, 0, 0, 1, 0, 0, 0, 0, 1, 0, 0, 1, 0, 0, 0, 0, 0, 0, 1, 0, 1, 1, 0, 0, 0, 0, 0, 1, 0, 0, 0, 1, 1, 1, 0, 0, 0, 0, 0, 0, 1, 0, 0, 0, 0, 0, 1, 0, 0, 0, 0, 0, 1, 0, 0, 1, 0, 1, 0, 0, 0, 1, 1, 0, 1, 0, 0, 1, 0, 0, 0, 1, 1, 0, 0, 0, 1, 0, 0, 1, 0, 0, 0, 0, 0, 0, 0, 0, 1, 0, 1, 0, 0, 0, 0, 0, 0, 1, 0, 0, 0, 0, 0, 1, 1, 0, 0, 0, 0, 0, 1, 0, 0, 0, 0, 1, 0, 0, 1, 0, 0, 1, 0, 0, 0, 0, 0, 0, 1, 0, 1, 1, 1, 0, 0, 0, 0, 0, 0, 1, 0, 0, 1, 1, 1, 0, 0, 0, 1, 0, 0, 0, 1, 0, 0, 0, 0, 0, 1, 0, 1, 1, 1, 1, 0, 0, 1, 0, 0, 0, 0, 0, 0, 1, 1, 0, 0, 0, 0, 0, 0, 1, 0, 1, 0, 0, 0, 0, 0, 1, 1, 0, 0, 0, 0, 0, 0, 1, 1, 0, 0, 0, 0, 1, 0, 0, 0, 1, 0, 0, 1, 0, 0, 0, 0, 0, 0, 0, 0, 0, 0, 0, 0, 1, 1, 0, 0, 0, 1, 1, 1, 0, 0, 0, 0, 0, 0, 1, 1, 0, 0, 1, 0, 1, 0, 1, 0, 0, 1, 0, 1, 0, 1, 0, 1, 0, 0, 0, 0, 0, 0, 0, 0, 0, 0, 1, 0, 0, 1, 1, 1, 1, 0, 1, 0, 1, 0, 0, 1, 1, 0, 0, 0, 0, 1, 0, 0, 1, 0, 0, 0, 0, 0, 0, 0, 0, 1, 0, 0, 1, 0, 0, 1, 0, 1, 1, 0, 0, 0, 0, 0, 0, 0, 1, 1, 0, 1, 0, 0, 0, 0, 0, 0, 0, 0, 1, 0, 0, 1, 0, 0, 0, 0, 1, 0, 1, 1, 0, 0, 0, 0, 1, 0, 1, 0, 1, 0, 1, 1, 0, 0, 0, 0, 0, 0, 0, 0, 0, 0, 1, 0, 0, 0, 0, 0, 0, 0, 1, 0, 0, 0, 0, 0, 0, 0, 0, 0, 0, 0, 1, 0, 1, 1, 0, 0, 0, 1, 0, 0, 1, 1, 0, 1, 1, 0, 1, 0, 0, 0, 0, 0, 0, 1, 1, 1, 1, 0, 0, 1, 1, 0, 0, 0, 0, 0, 1, 0, 1, 0, 0, 0, 0, 0, 0, 1, 0, 0, 0, 0, 0, 1, 0, 0, 0, 0, 0, 1, 0, 0, 0, 1, 0, 1, 1, 0, 0, 0, 0, 0, 0, 0, 1, 0, 0, 1, 0, 0, 1, 0, 1, 0, 1, 1, 1, 0, 1, 1, 0, 0, 0, 0, 0, 0, 0, 0, 0, 0, 0, 1, 0, 0, 0, 1, 1, 0, 0, 0, 0, 1, 0, 0, 1, 0, 0, 0, 0, 0, 0, 0, 0, 0, 0, 1, 1, 0, 0, 0, 0, 0, 0, 0, 0, 0, 0, 0, 0, 1, 0, 0, 1, 0, 0, 1, 0, 1, 0, 0, 0, 0, 0, 0, 1, 1, 1, 0, 0, 0, 0, 0, 0, 0, 0, 0, 0, 0, 0, 0, 0, 0, 0, 1, 0, 0, 0, 0, 1, 0, 0, 1, 0, 0, 1, 0, 0, 0, 1, 1, 0, 0, 0, 1, 0, 1, 1, 0, 0, 0, 0, 0, 0, 0, 0, 1, 1, 0, 0, 0, 0, 1, 0, 0, 0, 1, 1, 0, 0, 0, 0, 0, 0, 1, 1, 1, 1, 0, 1, 0, 0, 0, 0, 1, 0, 0, 0, 0, 0, 0, 0, 0, 0, 0, 0, 0, 0, 0, 0, 0, 0, 0, 0, 0, 0, 1, 0, 1, 1, 0, 0, 0, 0, 0, 0, 0, 0, 0, 0, 0, 0, 0, 0, 0, 0, 0, 0, 0, 0, 1, 0, 0, 0, 0, 0, 0, 0, 0, 0, 1, 1, 0, 0, 0, 1, 0, 0, 0, 0, 0, 1, 0, 0, 0, 0, 0, 0, 0, 0, 0, 1, 0, 0, 1, 0, 0, 1, 0, 0, 0, 0, 0, 0, 0, 0, 0, 1, 0, 1, 0, 0, 0, 0, 1, 0, 0, 0, 1, 0, 0, 0, 0, 0, 0, 0, 0, 0, 0, 0, 0, 0, 0, 1, 0, 0, 0, 1, 0, 1, 0, 0, 1, 1, 1, 0, 0, 0, 0, 0, 0, 0, 0, 0, 0, 0, 0, 0, 0, 0, 0, 0, 1, 0, 0, 1, 1, 0, 1, 1, 1, 0, 0, 0, 0, 1, 0, 0, 1, 0, 0, 0, 1, 0, 0, 1, 0, 1, 1, 0, 0, 1, 0, 0, 0, 1, 0, 1, 0, 1, 0, 1, 0, 1, 0, 0, 1, 1, 1, 0, 0, 0, 0, 1, 0, 0, 0, 1, 0, 0, 0, 0, 1, 0, 0, 0, 1, 0, 1, 1, 1, 0, 0, 0, 0, 1, 1, 0, 0, 0, 1, 0, 1, 1, 1, 0, 1, 0, 1, 1, 1, 1, 0, 1, 1, 0, 0, 0, 1, 1, 0, 1, 0, 0, 0, 0, 0, 1, 0, 0, 0, 0, 0, 0, 0, 1, 1, 0, 1, 0, 0, 0, 0, 0, 0, 1, 1, 0, 0, 1, 0, 0, 0, 0, 1, 0, 0, 0, 0, 0, 0, 0, 0, 1, 0, 0, 0, 1, 0, 0, 0, 1, 0, 0, 0, 0, 1, 1, 0, 0, 0, 1, 1, 1, 0, 0, 1, 1, 0, 0, 0, 0, 1, 0, 0, 1, 1, 1, 0, 0, 1, 0, 0, 0, 1, 1, 1, 0, 0, 1, 0, 0, 0, 0, 0, 0, 1, 0, 0, 1, 0, 0, 0, 1, 0, 1, 0, 0, 0, 0, 0, 0, 0, 0, 0, 1, 1, 0, 0, 1, 0, 0, 0, 1, 0, 0, 1, 0, 0, 0, 0, 0, 0, 0, 0, 0, 0, 0, 0, 0, 1, 0, 0, 0, 0, 1, 0, 1, 0, 1, 0, 0, 0, 0, 0, 0, 0, 1, 0, 0, 0, 1, 0, 1, 0, 0, 1, 0, 0, 0, 0, 0, 0, 0, 0, 0, 0, 0, 0, 0, 0, 1, 1, 0, 0, 0, 0, 0, 1, 0, 0, 1, 1, 0, 0, 0, 0, 1, 0, 0, 0, 1, 0, 0, 0, 1, 1, 0, 0, 0, 0, 0, 0, 1, 1, 0, 0, 0, 0, 0, 1, 1, 0, 0, 0, 0, 0, 0, 0, 0, 0, 0, 1, 1, 0, 1, 1, 0, 1, 0, 0, 0, 1, 0, 1, 0, 1, 0, 0, 1, 1, 0, 1, 0, 0, 0, 1, 0, 0, 0, 0, 0, 0, 0, 0, 0, 0, 0, 0, 0, 0, 0, 0, 0, 0, 0, 1, 0, 0, 0, 0, 1, 0, 1, 0, 0, 0, 0, 0, 0, 0, 0, 1, 0, 0, 1, 0, 0, 0, 0, 0, 1, 1, 0, 1, 0, 1, 1, 0, 0, 1, 0, 0, 0, 1, 0, 0, 0, 0, 0, 0, 0, 0, 0, 1, 0, 0, 0, 0, 1, 1, 0, 1, 0, 1, 0, 0, 0, 0, 0, 0, 0, 0, 1, 0, 0, 0, 0, 1, 0, 0, 0, 0, 0, 1, 0, 0, 0, 0, 0, 0, 0, 1, 0, 0, 0, 0, 1, 0, 0, 0, 1, 0, 1, 0, 1, 0, 0, 0, 0, 1, 0, 0, 1, 0, 0, 0, 0, 0, 0, 0, 0, 0, 0, 0, 0, 0, 1, 1, 0, 0, 0, 1, 1, 0, 0, 0, 1, 0, 0, 0, 0, 1, 0, 1, 0, 0, 0, 1, 0, 0, 0, 0, 0, 1, 0, 0, 1, 1, 0, 1, 0, 0, 0, 1, 0, 0, 0, 1, 0, 0, 0, 1, 1, 0, 0, 0, 0, 0, 0, 0, 0, 0, 0, 1, 1, 0, 0, 0, 0, 0, 1, 0, 0, 0, 1, 0, 0, 0, 0, 0, 1, 0, 1, 0, 0, 0, 1, 0, 0, 0, 0, 0, 0, 1, 0, 0, 0, 1, 0, 0, 1, 0, 1, 0, 0, 1, 0, 1, 0, 0, 0, 0, 0, 1, 1, 1, 1, 1, 1, 0, 1, 1, 1, 0, 0, 0, 0, 0, 0, 0, 1, 0, 0, 0, 0, 0, 0, 0, 0, 0, 0, 0, 0, 0, 0, 0, 1, 0, 0, 0, 0, 1, 0, 0, 0, 1, 1, 0, 0, 0, 0, 0, 0, 1, 0, 1, 0, 0, 0, 0, 0, 1, 0, 1, 1, 0, 0, 0, 0, 0, 0, 0, 0, 1, 0, 0, 0, 0, 1, 1, 1, 0, 1, 1, 1, 0, 1, 0, 0, 1, 0, 0, 1, 1, 0, 0, 0, 0, 1, 1, 0, 0, 0, 0, 1, 0, 0, 0, 1, 1, 1, 0, 1, 0, 1, 0, 0, 0, 0, 0, 1, 1, 0, 0, 1, 1, 0, 0, 1, 0, 1, 1, 0, 0, 1, 0, 1, 0, 0, 0, 0, 0, 1, 0, 1, 0, 1, 1, 0, 0, 0, 0, 1, 1, 0, 0, 0, 1, 0, 0, 1, 0, 0, 0, 0, 1, 1, 0, 1, 0, 0, 0, 0, 0, 0, 0, 0, 0, 0, 1, 0, 1, 0, 0, 1, 0, 0, 0, 0, 0, 0, 1, 0, 0, 0, 0, 1, 0, 0, 1, 1, 1, 1, 0, 0, 1, 0, 1, 0, 1, 1, 0, 0, 0, 1, 0, 0, 0, 0, 0, 0, 1, 0, 1, 0, 0, 1, 0, 0, 0, 0, 0, 0, 0, 0, 1, 0, 0, 0, 0, 1, 1, 0, 0, 0, 0, 0, 0, 0, 1, 0, 0, 0, 0, 1, 0, 0, 0, 1, 0, 0, 0, 0, 0, 1, 1, 0, 1, 1, 0, 0, 0, 1, 0, 0, 0, 0, 0, 0, 0, 0, 0, 0, 0, 0, 1, 0, 0, 0, 0, 0, 1, 0, 1, 0, 1, 0, 1, 1, 1, 0, 0, 0, 1, 1, 0, 0, 0, 1, 0, 1, 1, 1, 0, 1, 0, 1, 1, 0, 0, 0, 1, 1, 0, 0, 0, 0, 0, 0, 0, 0, 0, 0, 0, 0, 0, 0, 1, 1, 1, 0, 0, 0, 0, 1, 1, 1, 0, 1, 0, 1, 0, 1, 0, 1, 1, 0, 0, 0, 1, 0, 1, 0, 0, 1, 0, 1, 0, 0, 1, 0, 0, 0, 0, 0, 0, 1, 0, 0, 0, 0, 0, 1, 1, 1, 1, 0, 0, 1, 1, 0, 0, 0, 0, 0, 1, 0, 1, 0, 0, 1, 0, 0, 0, 0, 0, 0, 1, 0, 1, 0, 0, 0, 0, 0, 0, 0, 1, 1, 0, 1, 1, 0, 0, 1, 0, 0, 0, 0, 1, 0, 0, 0, 0, 0, 0, 0, 0, 0, 0, 0, 0, 0, 1, 1, 0, 0, 1, 0, 0, 0, 0, 0, 0, 0, 0, 0, 0, 0, 0, 0, 0, 1, 0, 0, 1, 1, 0, 0, 0, 0, 1, 0, 0, 1, 0, 0, 0, 0, 0, 1, 0, 1, 1, 0, 0, 0, 0, 0, 0, 0, 0, 1, 0, 0, 0, 0, 1, 0, 0, 0, 0, 1, 0, 1, 0, 0, 1, 1, 1, 1, 0, 1, 1, 0, 0, 1, 0, 0, 0, 0, 0, 1, 0, 1, 0, 1, 0, 0, 0, 0, 0, 0, 0, 0, 0, 0, 0, 1, 0, 1, 0, 0, 0, 0, 0, 0, 1, 0, 0, 0, 0, 0, 0, 1, 0, 0, 0, 0, 0, 0, 0, 0, 0, 0, 0, 0, 0, 0, 0, 1, 0, 1, 0, 0, 1, 0, 0, 0, 0, 0, 0, 0, 1, 0, 0, 0, 0, 0, 0, 1, 0, 1, 0, 0, 0, 0, 0, 1, 0, 0, 0, 0, 0, 0, 0, 0, 0, 0, 1, 1, 1, 1, 0, 0, 0, 0, 0, 1, 1, 0, 0, 0, 0, 0, 1, 0, 1, 0, 0, 1, 1, 0, 1, 0, 0, 0, 1, 0, 0, 1, 1, 1, 1, 0, 1, 0, 0, 0, 0, 0, 0, 0, 0, 0, 0, 0, 1, 0, 0, 0, 0, 1, 0, 0, 1, 0, 1, 0, 1, 0, 1, 0, 0, 0, 0, 0, 0, 0, 0, 1, 0, 0, 1, 0, 0, 0, 1, 0, 0, 1, 1, 1, 1, 1, 0, 0, 0, 0, 0, 0, 1, 0, 0, 0, 0, 0, 0, 0, 0, 1, 0, 0, 1, 0, 0, 1, 0, 1, 1, 0, 1, 0, 0, 1, 0, 1, 0, 1, 0, 1, 0, 0, 1, 1, 0, 0, 0, 0, 1, 0, 1, 0, 0, 0, 1, 0, 0, 0, 0, 0, 0, 0, 0, 1, 0, 0, 0, 0, 0, 0, 0, 0, 0, 1, 0, 0, 0, 0, 0, 0, 0, 0, 0, 0, 0, 0, 1, 0, 0, 0, 0, 0, 0, 0, 0, 1, 0, 1, 0, 0, 0, 0, 1, 0, 1, 0, 0, 1, 0, 1, 1, 0, 0, 0, 1, 0, 0, 0, 1, 0, 0, 0, 0, 0, 0, 1, 0, 0, 0, 1, 0, 0, 0, 0, 0, 0, 1, 1, 0, 0, 1, 0, 0, 0, 0, 0, 1, 0, 0, 0, 0, 0, 0, 0, 1, 0, 1, 0, 1, 1, 0, 0, 0, 0, 0, 0, 0, 0, 0, 0, 0, 1, 0, 1, 0, 0, 0, 1, 0, 1, 0, 0, 1, 0, 1, 0, 0, 0, 0, 1, 0, 1, 0, 1, 0, 0, 0, 1, 0, 0, 0, 1, 0, 0, 1, 0, 1, 0, 0, 1, 0, 0, 1, 0, 0, 0, 0, 0, 0, 0, 1, 1, 0, 0, 1, 1, 0, 1, 1, 0, 0, 0, 1, 1, 1, 0, 1, 0, 0, 0, 0, 0, 1, 0, 0, 1, 0, 1, 1, 0, 1, 0, 0, 0, 0, 0, 0, 1, 1, 0, 0, 0, 0, 1, 0, 0, 0, 1, 0, 1, 0, 0, 0, 0, 0, 1, 0, 0, 0, 1, 0, 0, 0, 0, 0, 0, 0, 0, 0, 0, 0, 0, 0, 1, 1, 1, 1, 0, 0, 0, 0, 0, 0, 1, 0, 0, 0, 0, 0, 0, 0, 0, 0, 0, 0, 0, 0, 0, 0, 1, 0, 0, 0, 0, 1, 0, 0, 0, 0, 1, 0, 0, 0, 1, 0, 0, 0, 1, 1, 0, 0, 1, 0, 0, 0, 0, 0, 0, 1, 0, 0, 1, 0, 0, 0, 0, 0, 1, 0, 0, 1, 1, 0, 1, 0, 0, 0, 0, 1, 0, 0, 0, 1, 0, 0, 0, 0, 0, 0, 0, 0, 1, 0, 0, 1, 0, 0, 0, 0, 0, 1, 1, 0, 0, 1, 0, 0, 0, 0, 1, 0, 1, 1, 0, 0, 0, 0, 0, 0, 0, 1, 0, 0, 0, 1, 0, 0, 0, 0, 0, 1, 0, 0, 0, 1, 0, 0, 0, 0, 0, 0, 0, 1, 1, 1, 1, 0, 0, 0, 1, 0, 0, 0, 1, 1, 0, 0, 0, 0, 1, 0, 0, 0, 1, 0, 0, 0, 0, 0, 0, 0, 0, 0, 0, 0, 1, 0, 0, 1, 0, 0, 0, 0, 0, 0, 0, 1, 0, 0, 0, 0, 1, 1, 1, 0, 1, 0, 0, 0, 1, 0, 1, 0, 1, 0, 0, 1, 1, 0, 0, 0, 1, 0, 0, 0, 1, 0, 0, 0, 0, 1, 0, 0, 0, 0, 1, 0, 0, 0, 1, 0, 1, 0, 0, 1, 1, 0, 1, 0, 1, 0, 0, 0, 1, 0, 0, 0, 0, 0, 0, 0, 1, 0, 0, 0, 0, 0, 0, 0, 0, 0, 0, 0, 0, 0, 0, 0, 0, 0, 0, 0, 0, 1, 0, 0, 0, 0, 0, 0, 1, 0, 1, 0, 0, 0, 0, 1, 0, 0, 0, 0, 1, 0, 0, 0, 0, 1, 0, 0, 1, 0, 1, 0, 0, 1, 0, 0, 0, 0, 0, 0, 0, 1, 0, 1, 1, 0, 0, 1, 0, 0, 0, 1, 0, 0, 0, 1, 0, 0, 1, 0, 1, 0, 0, 1, 0, 1, 0, 0, 0, 0, 1, 1, 0, 0, 0, 0, 1, 1, 0, 0, 0, 0, 0, 1, 0, 0, 1, 0, 0, 0, 0, 0, 0, 0, 0, 0, 0, 1, 1, 0, 0, 0, 0, 0, 1, 0, 0, 0, 1, 1, 0, 0, 0, 0, 1, 0, 0, 0, 0, 0, 0, 1, 0, 1, 0, 1, 1, 1, 0, 1, 1, 0, 0, 0, 0, 1, 0, 1, 0, 0, 0, 0, 0, 0, 0, 0, 0, 0, 0, 1, 0, 0, 1, 0, 1, 0, 0, 0, 0, 1, 0, 1, 1, 0, 1, 1, 0, 0, 1, 1, 0, 1, 1, 0, 0, 0, 0, 1, 0, 0, 0, 0, 0, 1, 0, 1, 0, 0, 1, 0, 0, 0, 0, 0, 1, 0, 0, 0, 0, 1, 1, 0, 1, 0, 1, 1, 0, 1, 0, 0, 0, 0, 0, 0, 1, 1, 1, 1, 0, 0, 0, 0, 1, 0, 1, 0, 0, 0, 1, 0, 0, 0, 0, 1, 0, 1, 1, 0, 0, 0, 0, 0, 0, 0, 0, 0, 0, 0, 0, 0, 0, 0, 0, 0, 1, 0, 0, 0, 0, 0, 0, 0, 0, 1, 0, 0, 0, 0, 0, 0, 0, 1, 0, 0, 1, 0, 0, 0, 0, 1, 0, 0, 0, 0, 0, 0, 0, 0, 1, 0, 0, 1, 0, 1, 0, 0, 1, 0, 0, 0, 0, 0, 0, 0, 0, 0, 0, 0, 1, 0, 0, 0, 0, 1, 0, 0, 0, 0, 1, 1, 0, 1, 1, 0, 0, 1, 0, 0, 0, 1, 1, 1, 0, 0, 1, 0, 0, 0, 0, 0, 1, 0, 0, 1, 0, 1, 0, 0, 0, 1, 1, 1, 0, 0, 0, 0, 0, 0, 1, 0, 1, 0, 0, 0, 0, 0, 0, 0, 1, 0, 0, 0, 1, 1, 1, 0, 0, 1, 0, 0, 1, 0, 0, 0, 0, 0, 1, 0, 0, 0, 0, 0, 0, 0, 0, 0, 0, 0, 0, 0, 0, 0, 0, 0, 1, 0, 1, 0, 0, 0, 0, 0, 0, 1, 0, 0, 0, 0, 0, 0, 1, 0, 0, 0, 0, 0, 0, 0, 0, 1, 0, 1, 0, 0, 0, 1, 0, 0, 0, 0, 0, 0, 0, 0, 0, 0, 0, 0, 0, 0, 0, 1, 0, 1, 0, 0, 0, 1, 0, 1, 1, 0, 1, 0, 0, 1, 0, 0, 0, 0, 1, 1, 0, 1, 0, 0, 0, 1, 0, 0, 0, 0, 0, 0, 0, 0, 0, 0, 0, 0, 0, 0, 1, 0, 0, 0, 0, 0, 0, 0, 0, 0, 0, 0, 0, 1, 0, 0, 1, 0, 0, 0, 0, 0, 0, 1, 0, 0, 0, 0, 0, 1, 1, 0, 0, 0, 0, 0, 0, 0, 0, 0, 0, 0, 0, 1, 0, 0, 1, 0, 0, 1, 0, 0, 1, 1, 1, 0, 0, 0, 0, 0, 0, 0, 0, 0, 1, 0, 1, 0, 0, 0, 0, 1, 0, 0, 0, 0, 1, 0, 0, 0, 0, 0, 0, 0, 1, 0, 1, 0, 0, 0, 0, 0, 1, 1, 0, 0, 0, 0, 1, 0, 0, 1, 1, 0, 0, 0, 1, 0, 1, 0, 0, 1, 1, 1, 0, 0, 0, 0, 0, 0, 0, 1, 1, 1, 0, 1, 0, 0, 0, 0, 0, 0, 0, 0, 0, 0, 0, 0, 0, 1, 0, 1, 0, 0, 1, 0, 1, 0, 1, 1, 0, 1, 1, 0, 0, 0, 1, 0, 1, 0, 1, 0, 1, 0, 0, 1, 0, 0, 0, 0, 0, 0, 0, 0, 0, 0, 0, 0, 1, 0, 0, 0, 0, 0, 0, 0, 1, 1, 0, 1, 1, 0, 0, 0, 0, 0, 0, 0, 0, 0, 0, 1, 0, 0, 0, 0, 0, 0, 0, 0, 0, 0, 0, 0, 0, 0, 1, 0, 1, 0, 1, 0, 0, 0, 0, 0, 0, 0, 1, 0, 0, 1, 0, 1, 0, 0, 0, 1, 0, 0, 0, 0, 0, 0, 0, 1, 0, 0, 1, 0, 1, 0, 0, 0, 0, 0, 0, 0, 0, 0, 0, 1, 0, 1, 0, 1, 0, 0, 0, 0, 0, 0, 0, 1, 0, 0, 0, 0, 0, 0, 0, 0, 0, 1, 0, 0, 1, 0, 1, 0, 0, 0, 1, 0, 0, 0, 0, 1, 0, 0, 0, 1, 0, 0, 0, 0, 0, 0, 0, 0, 0, 1, 1, 0, 0, 1, 0, 0, 1, 0, 0, 1, 1, 0, 0, 0, 0, 0, 0, 0, 0, 0, 0, 0, 1, 0, 1, 0, 0, 0, 0, 0, 0, 0, 0, 0, 0, 0, 1, 0, 1, 0, 1, 0, 0, 0, 0, 0, 0, 0, 0, 0, 0, 0, 1, 1, 1, 1, 0, 1, 0, 1, 0, 0, 0, 0, 1, 0, 0, 0, 1, 0, 0, 0, 0, 0, 1, 0, 0, 1, 0, 0, 1, 0, 0, 0, 0, 0, 1, 1, 0, 0, 0, 0, 0, 0, 0, 0, 0, 1, 0, 0, 0, 0, 0, 0, 0, 0, 0, 1, 1, 0, 0, 0, 0, 0, 0, 0, 1, 0, 1, 0, 0, 0, 0, 0, 1, 0, 0, 0, 0, 0, 0, 0, 1, 1, 0, 0, 0, 0, 0, 0, 0, 0, 0, 0, 0, 0, 0, 1, 0, 1, 0, 0, 0, 0, 1, 0, 1, 0, 0, 0, 0, 0, 0, 0, 0, 0, 1, 0, 0, 1, 0, 0, 0, 0, 1, 0, 0, 0, 1, 0, 0, 0, 0, 1, 0, 0, 0, 0, 0, 0, 0, 0, 0, 1, 1, 0, 0, 0, 0, 1, 0, 0, 0, 1, 0, 0, 0, 0, 0, 1, 1, 0, 0, 0, 0, 0, 0, 0, 0, 1, 0, 1, 0, 0, 1, 0, 1, 0, 0, 0, 0, 0, 0, 0, 0, 1, 0, 0, 0, 0, 0, 0, 0, 1, 0, 1, 0, 0, 0, 0, 1, 0, 0, 1, 0, 0, 0, 1, 1, 0, 1, 1, 1, 0, 1, 0, 1, 0, 0, 0, 0, 0, 0, 0, 0, 0, 0, 1, 1, 0, 0, 0, 0, 0, 1, 0, 0, 0, 0, 0, 0, 0, 0, 0, 0, 1, 0, 1, 0, 0, 1, 0, 1, 0, 0, 1, 0, 0, 0, 1, 1, 0, 1, 1, 0, 0, 0, 0, 0, 1, 0, 0, 1, 1, 0, 0, 0, 0, 0, 1, 1, 0, 0, 1, 1, 1, 0, 0, 0, 0, 1, 0, 1, 1, 1, 0, 0, 0, 0, 0, 1, 1, 1, 1, 1, 0, 0, 1, 0, 0, 1, 0, 0, 0, 0, 0, 0, 0, 1, 0, 0, 0, 0, 0, 0, 1, 1, 1, 0, 0, 0, 1, 0, 0, 1, 0, 0, 0, 0, 1, 0, 1, 0, 0, 0, 0, 0, 0, 0, 0, 0, 0, 1, 0, 0, 0, 0, 0, 1, 0, 1, 0, 0, 1, 0, 1, 1, 0, 0, 0, 0, 0, 1, 1, 0, 0, 1, 0, 0, 1, 0, 1, 0, 0, 0, 0, 0, 0, 0, 0, 1, 0, 0, 0, 0, 1, 0, 0, 0, 0, 0, 1, 0, 0, 0, 0, 1, 1, 0, 1, 0, 1, 1, 0, 0, 0, 0, 0, 1, 1, 0, 1, 1, 1, 0, 0, 0, 0, 0, 1, 1, 1, 1, 0, 0, 0, 0, 0, 0, 0, 1, 0, 1, 0, 0, 0, 0, 0, 0, 1, 0, 0, 0, 0, 1, 0, 1, 0, 0, 0, 0, 0, 0, 0, 0, 0, 1, 1, 0, 0, 0, 1, 0, 0, 0, 1, 1, 0, 0, 0, 0, 1, 0, 0, 1, 0, 0, 0, 1, 0, 0, 0, 0, 1, 1, 0, 0, 1, 0, 1, 1, 1, 0, 0, 0, 0, 1, 1, 1, 0, 1, 0, 1, 0, 1, 0, 0, 0, 0, 0, 0, 0, 0, 0, 1, 0, 0], \"yaxis\": \"y\"}, {\"hoverlabel\": {\"namelength\": 0}, \"hovertemplate\": \"<b>OLS trendline</b><br>Churn = -0.005948 * tenure + 0.458465<br>R<sup>2</sup>=0.108976<br><br>tenure=%{x}<br>Churn=%{y} <b>(trend)</b>\", \"legendgroup\": \"\", \"marker\": {\"color\": \"#636efa\", \"symbol\": \"circle\"}, \"mode\": \"lines\", \"name\": \"\", \"showlegend\": false, \"type\": \"scattergl\", \"x\": [0, 0, 0, 0, 0, 0, 0, 0, 1, 1, 1, 1, 1, 1, 1, 1, 1, 1, 1, 1, 1, 1, 1, 1, 1, 1, 1, 1, 1, 1, 1, 1, 1, 1, 1, 1, 1, 1, 1, 1, 1, 1, 1, 1, 1, 1, 1, 1, 1, 1, 1, 1, 1, 1, 1, 1, 1, 1, 1, 1, 1, 1, 1, 1, 1, 1, 1, 1, 1, 1, 1, 1, 1, 1, 1, 1, 1, 1, 1, 1, 1, 1, 1, 1, 1, 1, 1, 1, 1, 1, 1, 1, 1, 1, 1, 1, 1, 1, 1, 1, 1, 1, 1, 1, 1, 1, 1, 1, 1, 1, 1, 1, 1, 1, 1, 1, 1, 1, 1, 1, 1, 1, 1, 1, 1, 1, 1, 1, 1, 1, 1, 1, 1, 1, 1, 1, 1, 1, 1, 1, 1, 1, 1, 1, 1, 1, 1, 1, 1, 1, 1, 1, 1, 1, 1, 1, 1, 1, 1, 1, 1, 1, 1, 1, 1, 1, 1, 1, 1, 1, 1, 1, 1, 1, 1, 1, 1, 1, 1, 1, 1, 1, 1, 1, 1, 1, 1, 1, 1, 1, 1, 1, 1, 1, 1, 1, 1, 1, 1, 1, 1, 1, 1, 1, 1, 1, 1, 1, 1, 1, 1, 1, 1, 1, 1, 1, 1, 1, 1, 1, 1, 1, 1, 1, 1, 1, 1, 1, 1, 1, 1, 1, 1, 1, 1, 1, 1, 1, 1, 1, 1, 1, 1, 1, 1, 1, 1, 1, 1, 1, 1, 1, 1, 1, 1, 1, 1, 1, 1, 1, 1, 1, 1, 1, 1, 1, 1, 1, 1, 1, 1, 1, 1, 1, 1, 1, 1, 1, 1, 1, 1, 1, 1, 1, 1, 1, 1, 1, 1, 1, 1, 1, 1, 1, 1, 1, 1, 1, 1, 1, 1, 1, 1, 1, 1, 1, 1, 1, 1, 1, 1, 1, 1, 1, 1, 1, 1, 1, 1, 1, 1, 1, 1, 1, 1, 1, 1, 1, 1, 1, 1, 1, 1, 1, 1, 1, 1, 1, 1, 1, 1, 1, 1, 1, 1, 1, 1, 1, 1, 1, 1, 1, 1, 1, 1, 1, 1, 1, 1, 1, 1, 1, 1, 1, 1, 1, 1, 1, 1, 1, 1, 1, 1, 1, 1, 1, 1, 1, 1, 2, 2, 2, 2, 2, 2, 2, 2, 2, 2, 2, 2, 2, 2, 2, 2, 2, 2, 2, 2, 2, 2, 2, 2, 2, 2, 2, 2, 2, 2, 2, 2, 2, 2, 2, 2, 2, 2, 2, 2, 2, 2, 2, 2, 2, 2, 2, 2, 2, 2, 2, 2, 2, 2, 2, 2, 2, 2, 2, 2, 2, 2, 2, 2, 2, 2, 2, 2, 2, 2, 2, 2, 2, 2, 2, 2, 2, 2, 2, 2, 2, 2, 2, 2, 2, 2, 2, 2, 2, 2, 2, 2, 2, 2, 2, 2, 2, 2, 2, 2, 2, 2, 2, 2, 2, 2, 2, 2, 2, 2, 2, 2, 2, 2, 2, 2, 2, 2, 2, 2, 2, 2, 2, 2, 2, 2, 2, 2, 2, 2, 2, 2, 2, 2, 2, 2, 2, 2, 3, 3, 3, 3, 3, 3, 3, 3, 3, 3, 3, 3, 3, 3, 3, 3, 3, 3, 3, 3, 3, 3, 3, 3, 3, 3, 3, 3, 3, 3, 3, 3, 3, 3, 3, 3, 3, 3, 3, 3, 3, 3, 3, 3, 3, 3, 3, 3, 3, 3, 3, 3, 3, 3, 3, 3, 3, 3, 3, 3, 3, 3, 3, 3, 3, 3, 3, 3, 3, 3, 3, 3, 3, 3, 3, 3, 3, 3, 3, 3, 3, 3, 3, 3, 3, 3, 3, 3, 3, 3, 3, 3, 3, 3, 3, 3, 3, 3, 3, 3, 3, 3, 3, 3, 3, 3, 3, 3, 3, 3, 3, 3, 3, 3, 3, 4, 4, 4, 4, 4, 4, 4, 4, 4, 4, 4, 4, 4, 4, 4, 4, 4, 4, 4, 4, 4, 4, 4, 4, 4, 4, 4, 4, 4, 4, 4, 4, 4, 4, 4, 4, 4, 4, 4, 4, 4, 4, 4, 4, 4, 4, 4, 4, 4, 4, 4, 4, 4, 4, 4, 4, 4, 4, 4, 4, 4, 4, 4, 4, 4, 4, 4, 4, 4, 4, 4, 4, 4, 4, 4, 4, 4, 4, 4, 4, 4, 4, 4, 4, 4, 4, 4, 4, 4, 4, 4, 4, 4, 4, 4, 4, 4, 4, 4, 4, 4, 4, 4, 4, 4, 4, 4, 4, 4, 4, 5, 5, 5, 5, 5, 5, 5, 5, 5, 5, 5, 5, 5, 5, 5, 5, 5, 5, 5, 5, 5, 5, 5, 5, 5, 5, 5, 5, 5, 5, 5, 5, 5, 5, 5, 5, 5, 5, 5, 5, 5, 5, 5, 5, 5, 5, 5, 5, 5, 5, 5, 5, 5, 5, 5, 5, 5, 5, 5, 5, 5, 5, 5, 5, 5, 5, 6, 6, 6, 6, 6, 6, 6, 6, 6, 6, 6, 6, 6, 6, 6, 6, 6, 6, 6, 6, 6, 6, 6, 6, 6, 6, 6, 6, 6, 6, 6, 6, 6, 6, 6, 6, 6, 6, 6, 6, 6, 6, 6, 6, 6, 6, 6, 6, 6, 6, 6, 6, 6, 6, 6, 6, 6, 6, 6, 6, 6, 7, 7, 7, 7, 7, 7, 7, 7, 7, 7, 7, 7, 7, 7, 7, 7, 7, 7, 7, 7, 7, 7, 7, 7, 7, 7, 7, 7, 7, 7, 7, 7, 7, 7, 7, 7, 7, 7, 7, 7, 7, 7, 7, 7, 7, 7, 7, 7, 7, 7, 7, 7, 7, 7, 7, 7, 7, 7, 7, 7, 7, 7, 7, 7, 7, 7, 7, 7, 7, 7, 7, 7, 7, 8, 8, 8, 8, 8, 8, 8, 8, 8, 8, 8, 8, 8, 8, 8, 8, 8, 8, 8, 8, 8, 8, 8, 8, 8, 8, 8, 8, 8, 8, 8, 8, 8, 8, 8, 8, 8, 8, 8, 8, 8, 8, 8, 8, 8, 8, 8, 8, 8, 8, 8, 8, 8, 8, 8, 8, 8, 8, 8, 8, 8, 8, 8, 8, 8, 8, 9, 9, 9, 9, 9, 9, 9, 9, 9, 9, 9, 9, 9, 9, 9, 9, 9, 9, 9, 9, 9, 9, 9, 9, 9, 9, 9, 9, 9, 9, 9, 9, 9, 9, 9, 9, 9, 9, 9, 9, 9, 9, 9, 9, 9, 9, 9, 9, 9, 9, 9, 9, 9, 9, 9, 9, 9, 9, 9, 9, 9, 9, 9, 9, 9, 9, 10, 10, 10, 10, 10, 10, 10, 10, 10, 10, 10, 10, 10, 10, 10, 10, 10, 10, 10, 10, 10, 10, 10, 10, 10, 10, 10, 10, 10, 10, 10, 10, 10, 10, 10, 10, 10, 10, 10, 10, 10, 10, 10, 10, 10, 10, 10, 10, 10, 10, 10, 10, 10, 10, 10, 10, 10, 10, 10, 10, 10, 10, 10, 10, 10, 10, 10, 10, 10, 11, 11, 11, 11, 11, 11, 11, 11, 11, 11, 11, 11, 11, 11, 11, 11, 11, 11, 11, 11, 11, 11, 11, 11, 11, 11, 11, 11, 11, 11, 11, 11, 11, 11, 11, 11, 11, 11, 11, 11, 11, 11, 11, 11, 11, 11, 11, 11, 11, 11, 11, 11, 11, 11, 11, 11, 11, 11, 11, 11, 11, 11, 11, 11, 11, 11, 11, 12, 12, 12, 12, 12, 12, 12, 12, 12, 12, 12, 12, 12, 12, 12, 12, 12, 12, 12, 12, 12, 12, 12, 12, 12, 12, 12, 12, 12, 12, 12, 12, 12, 12, 12, 12, 12, 12, 12, 12, 12, 12, 12, 12, 12, 12, 12, 12, 12, 12, 12, 12, 12, 12, 12, 12, 12, 12, 12, 12, 12, 12, 12, 12, 12, 12, 12, 12, 12, 12, 12, 13, 13, 13, 13, 13, 13, 13, 13, 13, 13, 13, 13, 13, 13, 13, 13, 13, 13, 13, 13, 13, 13, 13, 13, 13, 13, 13, 13, 13, 13, 13, 13, 13, 13, 13, 13, 13, 13, 13, 13, 13, 13, 13, 13, 13, 13, 13, 13, 13, 13, 13, 13, 13, 13, 13, 13, 13, 13, 13, 13, 13, 13, 14, 14, 14, 14, 14, 14, 14, 14, 14, 14, 14, 14, 14, 14, 14, 14, 14, 14, 14, 14, 14, 14, 14, 14, 14, 14, 14, 14, 14, 14, 14, 14, 14, 14, 14, 14, 14, 14, 14, 14, 14, 14, 14, 14, 14, 14, 14, 14, 14, 15, 15, 15, 15, 15, 15, 15, 15, 15, 15, 15, 15, 15, 15, 15, 15, 15, 15, 15, 15, 15, 15, 15, 15, 15, 15, 15, 15, 15, 15, 15, 15, 15, 15, 15, 15, 15, 15, 15, 15, 15, 15, 15, 15, 15, 15, 15, 15, 15, 15, 15, 15, 15, 15, 15, 16, 16, 16, 16, 16, 16, 16, 16, 16, 16, 16, 16, 16, 16, 16, 16, 16, 16, 16, 16, 16, 16, 16, 16, 16, 16, 16, 16, 16, 16, 16, 16, 16, 16, 16, 16, 16, 16, 16, 16, 16, 16, 16, 16, 16, 16, 16, 16, 16, 16, 16, 16, 17, 17, 17, 17, 17, 17, 17, 17, 17, 17, 17, 17, 17, 17, 17, 17, 17, 17, 17, 17, 17, 17, 17, 17, 17, 17, 17, 17, 17, 17, 17, 17, 17, 17, 17, 17, 17, 17, 17, 17, 17, 17, 17, 17, 17, 17, 17, 17, 17, 17, 17, 17, 17, 18, 18, 18, 18, 18, 18, 18, 18, 18, 18, 18, 18, 18, 18, 18, 18, 18, 18, 18, 18, 18, 18, 18, 18, 18, 18, 18, 18, 18, 18, 18, 18, 18, 18, 18, 18, 18, 18, 18, 18, 18, 18, 18, 18, 18, 18, 18, 18, 18, 18, 18, 18, 18, 18, 18, 19, 19, 19, 19, 19, 19, 19, 19, 19, 19, 19, 19, 19, 19, 19, 19, 19, 19, 19, 19, 19, 19, 19, 19, 19, 19, 19, 19, 19, 19, 19, 19, 19, 19, 19, 19, 19, 19, 19, 19, 19, 19, 19, 19, 19, 19, 19, 19, 19, 20, 20, 20, 20, 20, 20, 20, 20, 20, 20, 20, 20, 20, 20, 20, 20, 20, 20, 20, 20, 20, 20, 20, 20, 20, 20, 20, 20, 20, 20, 20, 20, 20, 20, 20, 20, 20, 20, 20, 20, 20, 20, 20, 20, 20, 21, 21, 21, 21, 21, 21, 21, 21, 21, 21, 21, 21, 21, 21, 21, 21, 21, 21, 21, 21, 21, 21, 21, 21, 21, 21, 21, 21, 21, 21, 21, 21, 21, 21, 22, 22, 22, 22, 22, 22, 22, 22, 22, 22, 22, 22, 22, 22, 22, 22, 22, 22, 22, 22, 22, 22, 22, 22, 22, 22, 22, 22, 22, 22, 22, 22, 22, 22, 22, 22, 22, 22, 22, 22, 22, 22, 22, 22, 22, 22, 22, 23, 23, 23, 23, 23, 23, 23, 23, 23, 23, 23, 23, 23, 23, 23, 23, 23, 23, 23, 23, 23, 23, 23, 23, 23, 23, 23, 23, 23, 23, 23, 23, 23, 23, 23, 23, 23, 23, 23, 23, 23, 23, 23, 23, 24, 24, 24, 24, 24, 24, 24, 24, 24, 24, 24, 24, 24, 24, 24, 24, 24, 24, 24, 24, 24, 24, 24, 24, 24, 24, 24, 24, 24, 24, 24, 24, 24, 24, 24, 24, 24, 24, 24, 24, 24, 24, 24, 24, 24, 24, 24, 24, 24, 24, 24, 24, 24, 24, 24, 24, 24, 24, 24, 24, 24, 24, 25, 25, 25, 25, 25, 25, 25, 25, 25, 25, 25, 25, 25, 25, 25, 25, 25, 25, 25, 25, 25, 25, 25, 25, 25, 25, 25, 25, 25, 25, 25, 25, 25, 25, 25, 25, 25, 25, 25, 25, 25, 25, 25, 25, 25, 25, 25, 25, 25, 26, 26, 26, 26, 26, 26, 26, 26, 26, 26, 26, 26, 26, 26, 26, 26, 26, 26, 26, 26, 26, 26, 26, 26, 26, 26, 26, 26, 26, 26, 26, 26, 26, 26, 26, 26, 26, 26, 26, 26, 26, 26, 26, 26, 26, 26, 26, 26, 26, 26, 27, 27, 27, 27, 27, 27, 27, 27, 27, 27, 27, 27, 27, 27, 27, 27, 27, 27, 27, 27, 27, 27, 27, 27, 27, 27, 27, 27, 27, 27, 27, 27, 27, 27, 27, 27, 27, 27, 27, 27, 27, 27, 27, 27, 27, 27, 27, 27, 27, 27, 27, 27, 28, 28, 28, 28, 28, 28, 28, 28, 28, 28, 28, 28, 28, 28, 28, 28, 28, 28, 28, 28, 28, 28, 28, 28, 28, 28, 28, 28, 28, 28, 28, 28, 28, 28, 28, 28, 29, 29, 29, 29, 29, 29, 29, 29, 29, 29, 29, 29, 29, 29, 29, 29, 29, 29, 29, 29, 29, 29, 29, 29, 29, 29, 29, 29, 29, 29, 29, 29, 29, 29, 29, 29, 29, 29, 29, 29, 29, 29, 29, 29, 29, 29, 30, 30, 30, 30, 30, 30, 30, 30, 30, 30, 30, 30, 30, 30, 30, 30, 30, 30, 30, 30, 30, 30, 30, 30, 30, 30, 30, 30, 30, 30, 30, 30, 30, 30, 30, 30, 30, 30, 30, 30, 31, 31, 31, 31, 31, 31, 31, 31, 31, 31, 31, 31, 31, 31, 31, 31, 31, 31, 31, 31, 31, 31, 31, 31, 31, 31, 31, 31, 31, 31, 31, 31, 31, 31, 31, 31, 31, 31, 31, 31, 31, 32, 32, 32, 32, 32, 32, 32, 32, 32, 32, 32, 32, 32, 32, 32, 32, 32, 32, 32, 32, 32, 32, 32, 32, 32, 32, 32, 32, 32, 32, 32, 32, 32, 32, 32, 32, 32, 32, 32, 33, 33, 33, 33, 33, 33, 33, 33, 33, 33, 33, 33, 33, 33, 33, 33, 33, 33, 33, 33, 33, 33, 33, 33, 33, 33, 33, 33, 33, 33, 33, 33, 33, 33, 33, 33, 33, 33, 33, 34, 34, 34, 34, 34, 34, 34, 34, 34, 34, 34, 34, 34, 34, 34, 34, 34, 34, 34, 34, 34, 34, 34, 34, 34, 34, 34, 34, 34, 34, 34, 34, 34, 34, 34, 34, 34, 34, 34, 34, 35, 35, 35, 35, 35, 35, 35, 35, 35, 35, 35, 35, 35, 35, 35, 35, 35, 35, 35, 35, 35, 35, 35, 35, 35, 35, 35, 35, 35, 35, 35, 35, 35, 35, 35, 35, 35, 35, 35, 35, 35, 35, 35, 35, 35, 35, 35, 35, 35, 35, 35, 35, 35, 35, 36, 36, 36, 36, 36, 36, 36, 36, 36, 36, 36, 36, 36, 36, 36, 36, 36, 36, 36, 36, 36, 36, 36, 36, 36, 36, 36, 37, 37, 37, 37, 37, 37, 37, 37, 37, 37, 37, 37, 37, 37, 37, 37, 37, 37, 37, 37, 37, 37, 37, 37, 37, 37, 37, 37, 37, 37, 37, 37, 38, 38, 38, 38, 38, 38, 38, 38, 38, 38, 38, 38, 38, 38, 38, 38, 38, 38, 38, 38, 38, 38, 38, 38, 38, 38, 38, 38, 38, 38, 38, 38, 38, 38, 38, 38, 38, 38, 39, 39, 39, 39, 39, 39, 39, 39, 39, 39, 39, 39, 39, 39, 39, 39, 39, 39, 39, 39, 39, 39, 39, 39, 39, 39, 39, 39, 39, 39, 40, 40, 40, 40, 40, 40, 40, 40, 40, 40, 40, 40, 40, 40, 40, 40, 40, 40, 40, 40, 40, 40, 40, 40, 40, 40, 40, 40, 40, 40, 40, 40, 40, 40, 40, 40, 40, 40, 40, 40, 40, 41, 41, 41, 41, 41, 41, 41, 41, 41, 41, 41, 41, 41, 41, 41, 41, 41, 41, 41, 41, 41, 41, 41, 41, 41, 41, 41, 41, 41, 41, 41, 41, 41, 41, 41, 41, 41, 41, 41, 41, 41, 41, 41, 41, 41, 42, 42, 42, 42, 42, 42, 42, 42, 42, 42, 42, 42, 42, 42, 42, 42, 42, 42, 42, 42, 42, 42, 42, 42, 42, 42, 42, 42, 42, 42, 42, 42, 42, 42, 42, 42, 42, 42, 42, 42, 42, 42, 43, 43, 43, 43, 43, 43, 43, 43, 43, 43, 43, 43, 43, 43, 43, 43, 43, 43, 43, 43, 43, 43, 43, 43, 43, 43, 43, 43, 43, 43, 43, 43, 43, 43, 43, 43, 43, 43, 43, 43, 43, 43, 43, 43, 44, 44, 44, 44, 44, 44, 44, 44, 44, 44, 44, 44, 44, 44, 44, 44, 44, 44, 44, 44, 44, 44, 44, 44, 44, 44, 44, 44, 44, 44, 44, 44, 44, 45, 45, 45, 45, 45, 45, 45, 45, 45, 45, 45, 45, 45, 45, 45, 45, 45, 45, 45, 45, 45, 45, 45, 45, 45, 45, 45, 45, 45, 45, 45, 45, 45, 46, 46, 46, 46, 46, 46, 46, 46, 46, 46, 46, 46, 46, 46, 46, 46, 46, 46, 46, 46, 46, 46, 46, 46, 46, 46, 46, 46, 46, 46, 46, 46, 46, 46, 47, 47, 47, 47, 47, 47, 47, 47, 47, 47, 47, 47, 47, 47, 47, 47, 47, 47, 47, 47, 47, 47, 47, 47, 47, 47, 47, 47, 47, 47, 47, 47, 47, 47, 47, 47, 48, 48, 48, 48, 48, 48, 48, 48, 48, 48, 48, 48, 48, 48, 48, 48, 48, 48, 48, 48, 48, 48, 48, 48, 48, 48, 48, 48, 48, 48, 48, 48, 48, 48, 48, 48, 48, 48, 49, 49, 49, 49, 49, 49, 49, 49, 49, 49, 49, 49, 49, 49, 49, 49, 49, 49, 49, 49, 49, 49, 49, 49, 49, 49, 49, 49, 49, 49, 49, 50, 50, 50, 50, 50, 50, 50, 50, 50, 50, 50, 50, 50, 50, 50, 50, 50, 50, 50, 50, 50, 50, 50, 50, 50, 50, 50, 50, 50, 50, 50, 50, 50, 50, 50, 50, 50, 50, 50, 50, 50, 50, 51, 51, 51, 51, 51, 51, 51, 51, 51, 51, 51, 51, 51, 51, 51, 51, 51, 51, 51, 51, 51, 51, 51, 51, 51, 51, 51, 51, 51, 51, 51, 51, 51, 51, 51, 51, 51, 51, 51, 51, 51, 51, 51, 51, 51, 51, 51, 51, 52, 52, 52, 52, 52, 52, 52, 52, 52, 52, 52, 52, 52, 52, 52, 52, 52, 52, 52, 52, 52, 52, 52, 52, 52, 52, 52, 52, 52, 52, 52, 52, 52, 52, 52, 52, 52, 52, 52, 52, 52, 52, 52, 52, 52, 52, 53, 53, 53, 53, 53, 53, 53, 53, 53, 53, 53, 53, 53, 53, 53, 53, 53, 53, 53, 53, 53, 53, 53, 53, 53, 53, 53, 53, 53, 53, 53, 53, 53, 53, 53, 53, 53, 53, 54, 54, 54, 54, 54, 54, 54, 54, 54, 54, 54, 54, 54, 54, 54, 54, 54, 54, 54, 54, 54, 54, 54, 54, 54, 54, 54, 54, 54, 54, 54, 54, 54, 54, 54, 54, 54, 54, 54, 54, 54, 54, 54, 54, 54, 55, 55, 55, 55, 55, 55, 55, 55, 55, 55, 55, 55, 55, 55, 55, 55, 55, 55, 55, 55, 55, 55, 55, 55, 55, 55, 55, 55, 55, 55, 55, 55, 55, 55, 55, 55, 55, 55, 55, 55, 55, 55, 56, 56, 56, 56, 56, 56, 56, 56, 56, 56, 56, 56, 56, 56, 56, 56, 56, 56, 56, 56, 56, 56, 56, 56, 56, 56, 56, 56, 56, 56, 56, 56, 56, 56, 56, 56, 56, 56, 56, 56, 56, 56, 56, 57, 57, 57, 57, 57, 57, 57, 57, 57, 57, 57, 57, 57, 57, 57, 57, 57, 57, 57, 57, 57, 57, 57, 57, 57, 57, 57, 57, 57, 57, 57, 57, 57, 57, 57, 57, 58, 58, 58, 58, 58, 58, 58, 58, 58, 58, 58, 58, 58, 58, 58, 58, 58, 58, 58, 58, 58, 58, 58, 58, 58, 58, 58, 58, 58, 58, 58, 58, 58, 58, 58, 58, 58, 58, 58, 58, 58, 58, 58, 58, 58, 58, 58, 58, 58, 58, 59, 59, 59, 59, 59, 59, 59, 59, 59, 59, 59, 59, 59, 59, 59, 59, 59, 59, 59, 59, 59, 59, 59, 59, 59, 59, 59, 59, 59, 59, 59, 59, 59, 59, 59, 59, 59, 59, 60, 60, 60, 60, 60, 60, 60, 60, 60, 60, 60, 60, 60, 60, 60, 60, 60, 60, 60, 60, 60, 60, 60, 60, 60, 60, 60, 60, 60, 60, 60, 60, 60, 60, 60, 60, 60, 60, 60, 60, 60, 60, 60, 60, 61, 61, 61, 61, 61, 61, 61, 61, 61, 61, 61, 61, 61, 61, 61, 61, 61, 61, 61, 61, 61, 61, 61, 61, 61, 61, 61, 61, 61, 61, 61, 61, 61, 61, 61, 61, 61, 61, 61, 61, 61, 61, 61, 61, 61, 61, 61, 62, 62, 62, 62, 62, 62, 62, 62, 62, 62, 62, 62, 62, 62, 62, 62, 62, 62, 62, 62, 62, 62, 62, 62, 62, 62, 62, 62, 62, 62, 62, 62, 62, 62, 62, 62, 62, 62, 62, 62, 62, 62, 62, 62, 63, 63, 63, 63, 63, 63, 63, 63, 63, 63, 63, 63, 63, 63, 63, 63, 63, 63, 63, 63, 63, 63, 63, 63, 63, 63, 63, 63, 63, 63, 63, 63, 63, 63, 63, 63, 63, 63, 63, 63, 63, 63, 63, 64, 64, 64, 64, 64, 64, 64, 64, 64, 64, 64, 64, 64, 64, 64, 64, 64, 64, 64, 64, 64, 64, 64, 64, 64, 64, 64, 64, 64, 64, 64, 64, 64, 64, 64, 64, 64, 64, 64, 64, 64, 64, 64, 64, 64, 64, 64, 64, 64, 64, 64, 64, 64, 64, 64, 65, 65, 65, 65, 65, 65, 65, 65, 65, 65, 65, 65, 65, 65, 65, 65, 65, 65, 65, 65, 65, 65, 65, 65, 65, 65, 65, 65, 65, 65, 65, 65, 65, 65, 65, 65, 65, 65, 65, 65, 65, 65, 65, 66, 66, 66, 66, 66, 66, 66, 66, 66, 66, 66, 66, 66, 66, 66, 66, 66, 66, 66, 66, 66, 66, 66, 66, 66, 66, 66, 66, 66, 66, 66, 66, 66, 66, 66, 66, 66, 66, 66, 66, 66, 66, 66, 66, 66, 66, 66, 66, 66, 66, 66, 66, 66, 66, 66, 66, 67, 67, 67, 67, 67, 67, 67, 67, 67, 67, 67, 67, 67, 67, 67, 67, 67, 67, 67, 67, 67, 67, 67, 67, 67, 67, 67, 67, 67, 67, 67, 67, 67, 67, 67, 67, 67, 67, 67, 67, 67, 67, 67, 67, 67, 67, 67, 67, 67, 67, 67, 67, 67, 67, 67, 67, 67, 67, 67, 67, 67, 68, 68, 68, 68, 68, 68, 68, 68, 68, 68, 68, 68, 68, 68, 68, 68, 68, 68, 68, 68, 68, 68, 68, 68, 68, 68, 68, 68, 68, 68, 68, 68, 68, 68, 68, 68, 68, 68, 68, 68, 68, 68, 68, 68, 68, 68, 68, 68, 68, 68, 68, 68, 68, 68, 68, 68, 68, 68, 68, 68, 68, 68, 68, 68, 68, 68, 68, 68, 69, 69, 69, 69, 69, 69, 69, 69, 69, 69, 69, 69, 69, 69, 69, 69, 69, 69, 69, 69, 69, 69, 69, 69, 69, 69, 69, 69, 69, 69, 69, 69, 69, 69, 69, 69, 69, 69, 69, 69, 69, 69, 69, 69, 69, 69, 70, 70, 70, 70, 70, 70, 70, 70, 70, 70, 70, 70, 70, 70, 70, 70, 70, 70, 70, 70, 70, 70, 70, 70, 70, 70, 70, 70, 70, 70, 70, 70, 70, 70, 70, 70, 70, 70, 70, 70, 70, 70, 70, 70, 70, 70, 70, 70, 70, 70, 70, 70, 70, 70, 70, 70, 70, 70, 70, 70, 71, 71, 71, 71, 71, 71, 71, 71, 71, 71, 71, 71, 71, 71, 71, 71, 71, 71, 71, 71, 71, 71, 71, 71, 71, 71, 71, 71, 71, 71, 71, 71, 71, 71, 71, 71, 71, 71, 71, 71, 71, 71, 71, 71, 71, 71, 71, 71, 71, 71, 71, 71, 71, 71, 71, 71, 71, 71, 71, 71, 71, 71, 71, 71, 71, 71, 71, 71, 71, 71, 71, 71, 71, 71, 71, 71, 71, 71, 71, 71, 71, 71, 71, 71, 71, 71, 71, 71, 71, 71, 71, 71, 71, 71, 71, 71, 71, 71, 71, 71, 71, 71, 71, 71, 71, 71, 71, 71, 71, 72, 72, 72, 72, 72, 72, 72, 72, 72, 72, 72, 72, 72, 72, 72, 72, 72, 72, 72, 72, 72, 72, 72, 72, 72, 72, 72, 72, 72, 72, 72, 72, 72, 72, 72, 72, 72, 72, 72, 72, 72, 72, 72, 72, 72, 72, 72, 72, 72, 72, 72, 72, 72, 72, 72, 72, 72, 72, 72, 72, 72, 72, 72, 72, 72, 72, 72, 72, 72, 72, 72, 72, 72, 72, 72, 72, 72, 72, 72, 72, 72, 72, 72, 72, 72, 72, 72, 72, 72, 72, 72, 72, 72, 72, 72, 72, 72, 72, 72, 72, 72, 72, 72, 72, 72, 72, 72, 72, 72, 72, 72, 72, 72, 72, 72, 72, 72, 72, 72, 72, 72, 72, 72, 72, 72, 72, 72, 72, 72, 72, 72, 72, 72, 72, 72, 72, 72, 72, 72, 72, 72, 72, 72, 72, 72, 72, 72, 72, 72, 72, 72, 72, 72, 72, 72, 72, 72, 72, 72, 72, 72, 72, 72, 72, 72, 72, 72, 72, 72, 72, 72, 72, 72, 72, 72, 72, 72, 72, 72, 72, 72, 72, 72, 72, 72, 72, 72, 72, 72, 72, 72, 72, 72, 72, 72, 72, 72, 72, 72, 72, 72, 72, 72, 72, 72, 72, 72, 72], \"xaxis\": \"x\", \"y\": [0.45846487369700545, 0.45846487369700545, 0.45846487369700545, 0.45846487369700545, 0.45846487369700545, 0.45846487369700545, 0.45846487369700545, 0.45846487369700545, 0.45251727470747327, 0.45251727470747327, 0.45251727470747327, 0.45251727470747327, 0.45251727470747327, 0.45251727470747327, 0.45251727470747327, 0.45251727470747327, 0.45251727470747327, 0.45251727470747327, 0.45251727470747327, 0.45251727470747327, 0.45251727470747327, 0.45251727470747327, 0.45251727470747327, 0.45251727470747327, 0.45251727470747327, 0.45251727470747327, 0.45251727470747327, 0.45251727470747327, 0.45251727470747327, 0.45251727470747327, 0.45251727470747327, 0.45251727470747327, 0.45251727470747327, 0.45251727470747327, 0.45251727470747327, 0.45251727470747327, 0.45251727470747327, 0.45251727470747327, 0.45251727470747327, 0.45251727470747327, 0.45251727470747327, 0.45251727470747327, 0.45251727470747327, 0.45251727470747327, 0.45251727470747327, 0.45251727470747327, 0.45251727470747327, 0.45251727470747327, 0.45251727470747327, 0.45251727470747327, 0.45251727470747327, 0.45251727470747327, 0.45251727470747327, 0.45251727470747327, 0.45251727470747327, 0.45251727470747327, 0.45251727470747327, 0.45251727470747327, 0.45251727470747327, 0.45251727470747327, 0.45251727470747327, 0.45251727470747327, 0.45251727470747327, 0.45251727470747327, 0.45251727470747327, 0.45251727470747327, 0.45251727470747327, 0.45251727470747327, 0.45251727470747327, 0.45251727470747327, 0.45251727470747327, 0.45251727470747327, 0.45251727470747327, 0.45251727470747327, 0.45251727470747327, 0.45251727470747327, 0.45251727470747327, 0.45251727470747327, 0.45251727470747327, 0.45251727470747327, 0.45251727470747327, 0.45251727470747327, 0.45251727470747327, 0.45251727470747327, 0.45251727470747327, 0.45251727470747327, 0.45251727470747327, 0.45251727470747327, 0.45251727470747327, 0.45251727470747327, 0.45251727470747327, 0.45251727470747327, 0.45251727470747327, 0.45251727470747327, 0.45251727470747327, 0.45251727470747327, 0.45251727470747327, 0.45251727470747327, 0.45251727470747327, 0.45251727470747327, 0.45251727470747327, 0.45251727470747327, 0.45251727470747327, 0.45251727470747327, 0.45251727470747327, 0.45251727470747327, 0.45251727470747327, 0.45251727470747327, 0.45251727470747327, 0.45251727470747327, 0.45251727470747327, 0.45251727470747327, 0.45251727470747327, 0.45251727470747327, 0.45251727470747327, 0.45251727470747327, 0.45251727470747327, 0.45251727470747327, 0.45251727470747327, 0.45251727470747327, 0.45251727470747327, 0.45251727470747327, 0.45251727470747327, 0.45251727470747327, 0.45251727470747327, 0.45251727470747327, 0.45251727470747327, 0.45251727470747327, 0.45251727470747327, 0.45251727470747327, 0.45251727470747327, 0.45251727470747327, 0.45251727470747327, 0.45251727470747327, 0.45251727470747327, 0.45251727470747327, 0.45251727470747327, 0.45251727470747327, 0.45251727470747327, 0.45251727470747327, 0.45251727470747327, 0.45251727470747327, 0.45251727470747327, 0.45251727470747327, 0.45251727470747327, 0.45251727470747327, 0.45251727470747327, 0.45251727470747327, 0.45251727470747327, 0.45251727470747327, 0.45251727470747327, 0.45251727470747327, 0.45251727470747327, 0.45251727470747327, 0.45251727470747327, 0.45251727470747327, 0.45251727470747327, 0.45251727470747327, 0.45251727470747327, 0.45251727470747327, 0.45251727470747327, 0.45251727470747327, 0.45251727470747327, 0.45251727470747327, 0.45251727470747327, 0.45251727470747327, 0.45251727470747327, 0.45251727470747327, 0.45251727470747327, 0.45251727470747327, 0.45251727470747327, 0.45251727470747327, 0.45251727470747327, 0.45251727470747327, 0.45251727470747327, 0.45251727470747327, 0.45251727470747327, 0.45251727470747327, 0.45251727470747327, 0.45251727470747327, 0.45251727470747327, 0.45251727470747327, 0.45251727470747327, 0.45251727470747327, 0.45251727470747327, 0.45251727470747327, 0.45251727470747327, 0.45251727470747327, 0.45251727470747327, 0.45251727470747327, 0.45251727470747327, 0.45251727470747327, 0.45251727470747327, 0.45251727470747327, 0.45251727470747327, 0.45251727470747327, 0.45251727470747327, 0.45251727470747327, 0.45251727470747327, 0.45251727470747327, 0.45251727470747327, 0.45251727470747327, 0.45251727470747327, 0.45251727470747327, 0.45251727470747327, 0.45251727470747327, 0.45251727470747327, 0.45251727470747327, 0.45251727470747327, 0.45251727470747327, 0.45251727470747327, 0.45251727470747327, 0.45251727470747327, 0.45251727470747327, 0.45251727470747327, 0.45251727470747327, 0.45251727470747327, 0.45251727470747327, 0.45251727470747327, 0.45251727470747327, 0.45251727470747327, 0.45251727470747327, 0.45251727470747327, 0.45251727470747327, 0.45251727470747327, 0.45251727470747327, 0.45251727470747327, 0.45251727470747327, 0.45251727470747327, 0.45251727470747327, 0.45251727470747327, 0.45251727470747327, 0.45251727470747327, 0.45251727470747327, 0.45251727470747327, 0.45251727470747327, 0.45251727470747327, 0.45251727470747327, 0.45251727470747327, 0.45251727470747327, 0.45251727470747327, 0.45251727470747327, 0.45251727470747327, 0.45251727470747327, 0.45251727470747327, 0.45251727470747327, 0.45251727470747327, 0.45251727470747327, 0.45251727470747327, 0.45251727470747327, 0.45251727470747327, 0.45251727470747327, 0.45251727470747327, 0.45251727470747327, 0.45251727470747327, 0.45251727470747327, 0.45251727470747327, 0.45251727470747327, 0.45251727470747327, 0.45251727470747327, 0.45251727470747327, 0.45251727470747327, 0.45251727470747327, 0.45251727470747327, 0.45251727470747327, 0.45251727470747327, 0.45251727470747327, 0.45251727470747327, 0.45251727470747327, 0.45251727470747327, 0.45251727470747327, 0.45251727470747327, 0.45251727470747327, 0.45251727470747327, 0.45251727470747327, 0.45251727470747327, 0.45251727470747327, 0.45251727470747327, 0.45251727470747327, 0.45251727470747327, 0.45251727470747327, 0.45251727470747327, 0.45251727470747327, 0.45251727470747327, 0.45251727470747327, 0.45251727470747327, 0.45251727470747327, 0.45251727470747327, 0.45251727470747327, 0.45251727470747327, 0.45251727470747327, 0.45251727470747327, 0.45251727470747327, 0.45251727470747327, 0.45251727470747327, 0.45251727470747327, 0.45251727470747327, 0.45251727470747327, 0.45251727470747327, 0.45251727470747327, 0.45251727470747327, 0.45251727470747327, 0.45251727470747327, 0.45251727470747327, 0.45251727470747327, 0.45251727470747327, 0.45251727470747327, 0.45251727470747327, 0.45251727470747327, 0.45251727470747327, 0.45251727470747327, 0.45251727470747327, 0.45251727470747327, 0.45251727470747327, 0.45251727470747327, 0.45251727470747327, 0.45251727470747327, 0.45251727470747327, 0.45251727470747327, 0.45251727470747327, 0.45251727470747327, 0.45251727470747327, 0.45251727470747327, 0.45251727470747327, 0.45251727470747327, 0.45251727470747327, 0.45251727470747327, 0.45251727470747327, 0.45251727470747327, 0.45251727470747327, 0.45251727470747327, 0.45251727470747327, 0.45251727470747327, 0.45251727470747327, 0.45251727470747327, 0.45251727470747327, 0.45251727470747327, 0.45251727470747327, 0.45251727470747327, 0.45251727470747327, 0.45251727470747327, 0.45251727470747327, 0.45251727470747327, 0.45251727470747327, 0.45251727470747327, 0.45251727470747327, 0.45251727470747327, 0.45251727470747327, 0.45251727470747327, 0.45251727470747327, 0.45251727470747327, 0.45251727470747327, 0.45251727470747327, 0.45251727470747327, 0.45251727470747327, 0.45251727470747327, 0.45251727470747327, 0.45251727470747327, 0.45251727470747327, 0.45251727470747327, 0.45251727470747327, 0.45251727470747327, 0.45251727470747327, 0.45251727470747327, 0.45251727470747327, 0.45251727470747327, 0.45251727470747327, 0.45251727470747327, 0.45251727470747327, 0.45251727470747327, 0.45251727470747327, 0.45251727470747327, 0.45251727470747327, 0.45251727470747327, 0.45251727470747327, 0.45251727470747327, 0.45251727470747327, 0.45251727470747327, 0.45251727470747327, 0.4465696757179411, 0.4465696757179411, 0.4465696757179411, 0.4465696757179411, 0.4465696757179411, 0.4465696757179411, 0.4465696757179411, 0.4465696757179411, 0.4465696757179411, 0.4465696757179411, 0.4465696757179411, 0.4465696757179411, 0.4465696757179411, 0.4465696757179411, 0.4465696757179411, 0.4465696757179411, 0.4465696757179411, 0.4465696757179411, 0.4465696757179411, 0.4465696757179411, 0.4465696757179411, 0.4465696757179411, 0.4465696757179411, 0.4465696757179411, 0.4465696757179411, 0.4465696757179411, 0.4465696757179411, 0.4465696757179411, 0.4465696757179411, 0.4465696757179411, 0.4465696757179411, 0.4465696757179411, 0.4465696757179411, 0.4465696757179411, 0.4465696757179411, 0.4465696757179411, 0.4465696757179411, 0.4465696757179411, 0.4465696757179411, 0.4465696757179411, 0.4465696757179411, 0.4465696757179411, 0.4465696757179411, 0.4465696757179411, 0.4465696757179411, 0.4465696757179411, 0.4465696757179411, 0.4465696757179411, 0.4465696757179411, 0.4465696757179411, 0.4465696757179411, 0.4465696757179411, 0.4465696757179411, 0.4465696757179411, 0.4465696757179411, 0.4465696757179411, 0.4465696757179411, 0.4465696757179411, 0.4465696757179411, 0.4465696757179411, 0.4465696757179411, 0.4465696757179411, 0.4465696757179411, 0.4465696757179411, 0.4465696757179411, 0.4465696757179411, 0.4465696757179411, 0.4465696757179411, 0.4465696757179411, 0.4465696757179411, 0.4465696757179411, 0.4465696757179411, 0.4465696757179411, 0.4465696757179411, 0.4465696757179411, 0.4465696757179411, 0.4465696757179411, 0.4465696757179411, 0.4465696757179411, 0.4465696757179411, 0.4465696757179411, 0.4465696757179411, 0.4465696757179411, 0.4465696757179411, 0.4465696757179411, 0.4465696757179411, 0.4465696757179411, 0.4465696757179411, 0.4465696757179411, 0.4465696757179411, 0.4465696757179411, 0.4465696757179411, 0.4465696757179411, 0.4465696757179411, 0.4465696757179411, 0.4465696757179411, 0.4465696757179411, 0.4465696757179411, 0.4465696757179411, 0.4465696757179411, 0.4465696757179411, 0.4465696757179411, 0.4465696757179411, 0.4465696757179411, 0.4465696757179411, 0.4465696757179411, 0.4465696757179411, 0.4465696757179411, 0.4465696757179411, 0.4465696757179411, 0.4465696757179411, 0.4465696757179411, 0.4465696757179411, 0.4465696757179411, 0.4465696757179411, 0.4465696757179411, 0.4465696757179411, 0.4465696757179411, 0.4465696757179411, 0.4465696757179411, 0.4465696757179411, 0.4465696757179411, 0.4465696757179411, 0.4465696757179411, 0.4465696757179411, 0.4465696757179411, 0.4465696757179411, 0.4465696757179411, 0.4465696757179411, 0.4465696757179411, 0.4465696757179411, 0.4465696757179411, 0.4465696757179411, 0.4465696757179411, 0.4465696757179411, 0.4465696757179411, 0.4465696757179411, 0.4465696757179411, 0.4406220767284089, 0.4406220767284089, 0.4406220767284089, 0.4406220767284089, 0.4406220767284089, 0.4406220767284089, 0.4406220767284089, 0.4406220767284089, 0.4406220767284089, 0.4406220767284089, 0.4406220767284089, 0.4406220767284089, 0.4406220767284089, 0.4406220767284089, 0.4406220767284089, 0.4406220767284089, 0.4406220767284089, 0.4406220767284089, 0.4406220767284089, 0.4406220767284089, 0.4406220767284089, 0.4406220767284089, 0.4406220767284089, 0.4406220767284089, 0.4406220767284089, 0.4406220767284089, 0.4406220767284089, 0.4406220767284089, 0.4406220767284089, 0.4406220767284089, 0.4406220767284089, 0.4406220767284089, 0.4406220767284089, 0.4406220767284089, 0.4406220767284089, 0.4406220767284089, 0.4406220767284089, 0.4406220767284089, 0.4406220767284089, 0.4406220767284089, 0.4406220767284089, 0.4406220767284089, 0.4406220767284089, 0.4406220767284089, 0.4406220767284089, 0.4406220767284089, 0.4406220767284089, 0.4406220767284089, 0.4406220767284089, 0.4406220767284089, 0.4406220767284089, 0.4406220767284089, 0.4406220767284089, 0.4406220767284089, 0.4406220767284089, 0.4406220767284089, 0.4406220767284089, 0.4406220767284089, 0.4406220767284089, 0.4406220767284089, 0.4406220767284089, 0.4406220767284089, 0.4406220767284089, 0.4406220767284089, 0.4406220767284089, 0.4406220767284089, 0.4406220767284089, 0.4406220767284089, 0.4406220767284089, 0.4406220767284089, 0.4406220767284089, 0.4406220767284089, 0.4406220767284089, 0.4406220767284089, 0.4406220767284089, 0.4406220767284089, 0.4406220767284089, 0.4406220767284089, 0.4406220767284089, 0.4406220767284089, 0.4406220767284089, 0.4406220767284089, 0.4406220767284089, 0.4406220767284089, 0.4406220767284089, 0.4406220767284089, 0.4406220767284089, 0.4406220767284089, 0.4406220767284089, 0.4406220767284089, 0.4406220767284089, 0.4406220767284089, 0.4406220767284089, 0.4406220767284089, 0.4406220767284089, 0.4406220767284089, 0.4406220767284089, 0.4406220767284089, 0.4406220767284089, 0.4406220767284089, 0.4406220767284089, 0.4406220767284089, 0.4406220767284089, 0.4406220767284089, 0.4406220767284089, 0.4406220767284089, 0.4406220767284089, 0.4406220767284089, 0.4406220767284089, 0.4406220767284089, 0.4406220767284089, 0.4406220767284089, 0.4406220767284089, 0.4406220767284089, 0.4406220767284089, 0.43467447773887674, 0.43467447773887674, 0.43467447773887674, 0.43467447773887674, 0.43467447773887674, 0.43467447773887674, 0.43467447773887674, 0.43467447773887674, 0.43467447773887674, 0.43467447773887674, 0.43467447773887674, 0.43467447773887674, 0.43467447773887674, 0.43467447773887674, 0.43467447773887674, 0.43467447773887674, 0.43467447773887674, 0.43467447773887674, 0.43467447773887674, 0.43467447773887674, 0.43467447773887674, 0.43467447773887674, 0.43467447773887674, 0.43467447773887674, 0.43467447773887674, 0.43467447773887674, 0.43467447773887674, 0.43467447773887674, 0.43467447773887674, 0.43467447773887674, 0.43467447773887674, 0.43467447773887674, 0.43467447773887674, 0.43467447773887674, 0.43467447773887674, 0.43467447773887674, 0.43467447773887674, 0.43467447773887674, 0.43467447773887674, 0.43467447773887674, 0.43467447773887674, 0.43467447773887674, 0.43467447773887674, 0.43467447773887674, 0.43467447773887674, 0.43467447773887674, 0.43467447773887674, 0.43467447773887674, 0.43467447773887674, 0.43467447773887674, 0.43467447773887674, 0.43467447773887674, 0.43467447773887674, 0.43467447773887674, 0.43467447773887674, 0.43467447773887674, 0.43467447773887674, 0.43467447773887674, 0.43467447773887674, 0.43467447773887674, 0.43467447773887674, 0.43467447773887674, 0.43467447773887674, 0.43467447773887674, 0.43467447773887674, 0.43467447773887674, 0.43467447773887674, 0.43467447773887674, 0.43467447773887674, 0.43467447773887674, 0.43467447773887674, 0.43467447773887674, 0.43467447773887674, 0.43467447773887674, 0.43467447773887674, 0.43467447773887674, 0.43467447773887674, 0.43467447773887674, 0.43467447773887674, 0.43467447773887674, 0.43467447773887674, 0.43467447773887674, 0.43467447773887674, 0.43467447773887674, 0.43467447773887674, 0.43467447773887674, 0.43467447773887674, 0.43467447773887674, 0.43467447773887674, 0.43467447773887674, 0.43467447773887674, 0.43467447773887674, 0.43467447773887674, 0.43467447773887674, 0.43467447773887674, 0.43467447773887674, 0.43467447773887674, 0.43467447773887674, 0.43467447773887674, 0.43467447773887674, 0.43467447773887674, 0.43467447773887674, 0.43467447773887674, 0.43467447773887674, 0.43467447773887674, 0.43467447773887674, 0.43467447773887674, 0.43467447773887674, 0.43467447773887674, 0.43467447773887674, 0.4287268787493446, 0.4287268787493446, 0.4287268787493446, 0.4287268787493446, 0.4287268787493446, 0.4287268787493446, 0.4287268787493446, 0.4287268787493446, 0.4287268787493446, 0.4287268787493446, 0.4287268787493446, 0.4287268787493446, 0.4287268787493446, 0.4287268787493446, 0.4287268787493446, 0.4287268787493446, 0.4287268787493446, 0.4287268787493446, 0.4287268787493446, 0.4287268787493446, 0.4287268787493446, 0.4287268787493446, 0.4287268787493446, 0.4287268787493446, 0.4287268787493446, 0.4287268787493446, 0.4287268787493446, 0.4287268787493446, 0.4287268787493446, 0.4287268787493446, 0.4287268787493446, 0.4287268787493446, 0.4287268787493446, 0.4287268787493446, 0.4287268787493446, 0.4287268787493446, 0.4287268787493446, 0.4287268787493446, 0.4287268787493446, 0.4287268787493446, 0.4287268787493446, 0.4287268787493446, 0.4287268787493446, 0.4287268787493446, 0.4287268787493446, 0.4287268787493446, 0.4287268787493446, 0.4287268787493446, 0.4287268787493446, 0.4287268787493446, 0.4287268787493446, 0.4287268787493446, 0.4287268787493446, 0.4287268787493446, 0.4287268787493446, 0.4287268787493446, 0.4287268787493446, 0.4287268787493446, 0.4287268787493446, 0.4287268787493446, 0.4287268787493446, 0.4287268787493446, 0.4287268787493446, 0.4287268787493446, 0.4287268787493446, 0.4287268787493446, 0.42277927975981244, 0.42277927975981244, 0.42277927975981244, 0.42277927975981244, 0.42277927975981244, 0.42277927975981244, 0.42277927975981244, 0.42277927975981244, 0.42277927975981244, 0.42277927975981244, 0.42277927975981244, 0.42277927975981244, 0.42277927975981244, 0.42277927975981244, 0.42277927975981244, 0.42277927975981244, 0.42277927975981244, 0.42277927975981244, 0.42277927975981244, 0.42277927975981244, 0.42277927975981244, 0.42277927975981244, 0.42277927975981244, 0.42277927975981244, 0.42277927975981244, 0.42277927975981244, 0.42277927975981244, 0.42277927975981244, 0.42277927975981244, 0.42277927975981244, 0.42277927975981244, 0.42277927975981244, 0.42277927975981244, 0.42277927975981244, 0.42277927975981244, 0.42277927975981244, 0.42277927975981244, 0.42277927975981244, 0.42277927975981244, 0.42277927975981244, 0.42277927975981244, 0.42277927975981244, 0.42277927975981244, 0.42277927975981244, 0.42277927975981244, 0.42277927975981244, 0.42277927975981244, 0.42277927975981244, 0.42277927975981244, 0.42277927975981244, 0.42277927975981244, 0.42277927975981244, 0.42277927975981244, 0.42277927975981244, 0.42277927975981244, 0.42277927975981244, 0.42277927975981244, 0.42277927975981244, 0.42277927975981244, 0.42277927975981244, 0.42277927975981244, 0.41683168077028027, 0.41683168077028027, 0.41683168077028027, 0.41683168077028027, 0.41683168077028027, 0.41683168077028027, 0.41683168077028027, 0.41683168077028027, 0.41683168077028027, 0.41683168077028027, 0.41683168077028027, 0.41683168077028027, 0.41683168077028027, 0.41683168077028027, 0.41683168077028027, 0.41683168077028027, 0.41683168077028027, 0.41683168077028027, 0.41683168077028027, 0.41683168077028027, 0.41683168077028027, 0.41683168077028027, 0.41683168077028027, 0.41683168077028027, 0.41683168077028027, 0.41683168077028027, 0.41683168077028027, 0.41683168077028027, 0.41683168077028027, 0.41683168077028027, 0.41683168077028027, 0.41683168077028027, 0.41683168077028027, 0.41683168077028027, 0.41683168077028027, 0.41683168077028027, 0.41683168077028027, 0.41683168077028027, 0.41683168077028027, 0.41683168077028027, 0.41683168077028027, 0.41683168077028027, 0.41683168077028027, 0.41683168077028027, 0.41683168077028027, 0.41683168077028027, 0.41683168077028027, 0.41683168077028027, 0.41683168077028027, 0.41683168077028027, 0.41683168077028027, 0.41683168077028027, 0.41683168077028027, 0.41683168077028027, 0.41683168077028027, 0.41683168077028027, 0.41683168077028027, 0.41683168077028027, 0.41683168077028027, 0.41683168077028027, 0.41683168077028027, 0.41683168077028027, 0.41683168077028027, 0.41683168077028027, 0.41683168077028027, 0.41683168077028027, 0.41683168077028027, 0.41683168077028027, 0.41683168077028027, 0.41683168077028027, 0.41683168077028027, 0.41683168077028027, 0.41683168077028027, 0.4108840817807481, 0.4108840817807481, 0.4108840817807481, 0.4108840817807481, 0.4108840817807481, 0.4108840817807481, 0.4108840817807481, 0.4108840817807481, 0.4108840817807481, 0.4108840817807481, 0.4108840817807481, 0.4108840817807481, 0.4108840817807481, 0.4108840817807481, 0.4108840817807481, 0.4108840817807481, 0.4108840817807481, 0.4108840817807481, 0.4108840817807481, 0.4108840817807481, 0.4108840817807481, 0.4108840817807481, 0.4108840817807481, 0.4108840817807481, 0.4108840817807481, 0.4108840817807481, 0.4108840817807481, 0.4108840817807481, 0.4108840817807481, 0.4108840817807481, 0.4108840817807481, 0.4108840817807481, 0.4108840817807481, 0.4108840817807481, 0.4108840817807481, 0.4108840817807481, 0.4108840817807481, 0.4108840817807481, 0.4108840817807481, 0.4108840817807481, 0.4108840817807481, 0.4108840817807481, 0.4108840817807481, 0.4108840817807481, 0.4108840817807481, 0.4108840817807481, 0.4108840817807481, 0.4108840817807481, 0.4108840817807481, 0.4108840817807481, 0.4108840817807481, 0.4108840817807481, 0.4108840817807481, 0.4108840817807481, 0.4108840817807481, 0.4108840817807481, 0.4108840817807481, 0.4108840817807481, 0.4108840817807481, 0.4108840817807481, 0.4108840817807481, 0.4108840817807481, 0.4108840817807481, 0.4108840817807481, 0.4108840817807481, 0.4108840817807481, 0.4049364827912159, 0.4049364827912159, 0.4049364827912159, 0.4049364827912159, 0.4049364827912159, 0.4049364827912159, 0.4049364827912159, 0.4049364827912159, 0.4049364827912159, 0.4049364827912159, 0.4049364827912159, 0.4049364827912159, 0.4049364827912159, 0.4049364827912159, 0.4049364827912159, 0.4049364827912159, 0.4049364827912159, 0.4049364827912159, 0.4049364827912159, 0.4049364827912159, 0.4049364827912159, 0.4049364827912159, 0.4049364827912159, 0.4049364827912159, 0.4049364827912159, 0.4049364827912159, 0.4049364827912159, 0.4049364827912159, 0.4049364827912159, 0.4049364827912159, 0.4049364827912159, 0.4049364827912159, 0.4049364827912159, 0.4049364827912159, 0.4049364827912159, 0.4049364827912159, 0.4049364827912159, 0.4049364827912159, 0.4049364827912159, 0.4049364827912159, 0.4049364827912159, 0.4049364827912159, 0.4049364827912159, 0.4049364827912159, 0.4049364827912159, 0.4049364827912159, 0.4049364827912159, 0.4049364827912159, 0.4049364827912159, 0.4049364827912159, 0.4049364827912159, 0.4049364827912159, 0.4049364827912159, 0.4049364827912159, 0.4049364827912159, 0.4049364827912159, 0.4049364827912159, 0.4049364827912159, 0.4049364827912159, 0.4049364827912159, 0.4049364827912159, 0.4049364827912159, 0.4049364827912159, 0.4049364827912159, 0.4049364827912159, 0.4049364827912159, 0.39898888380168374, 0.39898888380168374, 0.39898888380168374, 0.39898888380168374, 0.39898888380168374, 0.39898888380168374, 0.39898888380168374, 0.39898888380168374, 0.39898888380168374, 0.39898888380168374, 0.39898888380168374, 0.39898888380168374, 0.39898888380168374, 0.39898888380168374, 0.39898888380168374, 0.39898888380168374, 0.39898888380168374, 0.39898888380168374, 0.39898888380168374, 0.39898888380168374, 0.39898888380168374, 0.39898888380168374, 0.39898888380168374, 0.39898888380168374, 0.39898888380168374, 0.39898888380168374, 0.39898888380168374, 0.39898888380168374, 0.39898888380168374, 0.39898888380168374, 0.39898888380168374, 0.39898888380168374, 0.39898888380168374, 0.39898888380168374, 0.39898888380168374, 0.39898888380168374, 0.39898888380168374, 0.39898888380168374, 0.39898888380168374, 0.39898888380168374, 0.39898888380168374, 0.39898888380168374, 0.39898888380168374, 0.39898888380168374, 0.39898888380168374, 0.39898888380168374, 0.39898888380168374, 0.39898888380168374, 0.39898888380168374, 0.39898888380168374, 0.39898888380168374, 0.39898888380168374, 0.39898888380168374, 0.39898888380168374, 0.39898888380168374, 0.39898888380168374, 0.39898888380168374, 0.39898888380168374, 0.39898888380168374, 0.39898888380168374, 0.39898888380168374, 0.39898888380168374, 0.39898888380168374, 0.39898888380168374, 0.39898888380168374, 0.39898888380168374, 0.39898888380168374, 0.39898888380168374, 0.39898888380168374, 0.39304128481215156, 0.39304128481215156, 0.39304128481215156, 0.39304128481215156, 0.39304128481215156, 0.39304128481215156, 0.39304128481215156, 0.39304128481215156, 0.39304128481215156, 0.39304128481215156, 0.39304128481215156, 0.39304128481215156, 0.39304128481215156, 0.39304128481215156, 0.39304128481215156, 0.39304128481215156, 0.39304128481215156, 0.39304128481215156, 0.39304128481215156, 0.39304128481215156, 0.39304128481215156, 0.39304128481215156, 0.39304128481215156, 0.39304128481215156, 0.39304128481215156, 0.39304128481215156, 0.39304128481215156, 0.39304128481215156, 0.39304128481215156, 0.39304128481215156, 0.39304128481215156, 0.39304128481215156, 0.39304128481215156, 0.39304128481215156, 0.39304128481215156, 0.39304128481215156, 0.39304128481215156, 0.39304128481215156, 0.39304128481215156, 0.39304128481215156, 0.39304128481215156, 0.39304128481215156, 0.39304128481215156, 0.39304128481215156, 0.39304128481215156, 0.39304128481215156, 0.39304128481215156, 0.39304128481215156, 0.39304128481215156, 0.39304128481215156, 0.39304128481215156, 0.39304128481215156, 0.39304128481215156, 0.39304128481215156, 0.39304128481215156, 0.39304128481215156, 0.39304128481215156, 0.39304128481215156, 0.39304128481215156, 0.39304128481215156, 0.39304128481215156, 0.39304128481215156, 0.39304128481215156, 0.39304128481215156, 0.39304128481215156, 0.39304128481215156, 0.39304128481215156, 0.3870936858226194, 0.3870936858226194, 0.3870936858226194, 0.3870936858226194, 0.3870936858226194, 0.3870936858226194, 0.3870936858226194, 0.3870936858226194, 0.3870936858226194, 0.3870936858226194, 0.3870936858226194, 0.3870936858226194, 0.3870936858226194, 0.3870936858226194, 0.3870936858226194, 0.3870936858226194, 0.3870936858226194, 0.3870936858226194, 0.3870936858226194, 0.3870936858226194, 0.3870936858226194, 0.3870936858226194, 0.3870936858226194, 0.3870936858226194, 0.3870936858226194, 0.3870936858226194, 0.3870936858226194, 0.3870936858226194, 0.3870936858226194, 0.3870936858226194, 0.3870936858226194, 0.3870936858226194, 0.3870936858226194, 0.3870936858226194, 0.3870936858226194, 0.3870936858226194, 0.3870936858226194, 0.3870936858226194, 0.3870936858226194, 0.3870936858226194, 0.3870936858226194, 0.3870936858226194, 0.3870936858226194, 0.3870936858226194, 0.3870936858226194, 0.3870936858226194, 0.3870936858226194, 0.3870936858226194, 0.3870936858226194, 0.3870936858226194, 0.3870936858226194, 0.3870936858226194, 0.3870936858226194, 0.3870936858226194, 0.3870936858226194, 0.3870936858226194, 0.3870936858226194, 0.3870936858226194, 0.3870936858226194, 0.3870936858226194, 0.3870936858226194, 0.3870936858226194, 0.3870936858226194, 0.3870936858226194, 0.3870936858226194, 0.3870936858226194, 0.3870936858226194, 0.3870936858226194, 0.3870936858226194, 0.3870936858226194, 0.3870936858226194, 0.38114608683308726, 0.38114608683308726, 0.38114608683308726, 0.38114608683308726, 0.38114608683308726, 0.38114608683308726, 0.38114608683308726, 0.38114608683308726, 0.38114608683308726, 0.38114608683308726, 0.38114608683308726, 0.38114608683308726, 0.38114608683308726, 0.38114608683308726, 0.38114608683308726, 0.38114608683308726, 0.38114608683308726, 0.38114608683308726, 0.38114608683308726, 0.38114608683308726, 0.38114608683308726, 0.38114608683308726, 0.38114608683308726, 0.38114608683308726, 0.38114608683308726, 0.38114608683308726, 0.38114608683308726, 0.38114608683308726, 0.38114608683308726, 0.38114608683308726, 0.38114608683308726, 0.38114608683308726, 0.38114608683308726, 0.38114608683308726, 0.38114608683308726, 0.38114608683308726, 0.38114608683308726, 0.38114608683308726, 0.38114608683308726, 0.38114608683308726, 0.38114608683308726, 0.38114608683308726, 0.38114608683308726, 0.38114608683308726, 0.38114608683308726, 0.38114608683308726, 0.38114608683308726, 0.38114608683308726, 0.38114608683308726, 0.38114608683308726, 0.38114608683308726, 0.38114608683308726, 0.38114608683308726, 0.38114608683308726, 0.38114608683308726, 0.38114608683308726, 0.38114608683308726, 0.38114608683308726, 0.38114608683308726, 0.38114608683308726, 0.38114608683308726, 0.38114608683308726, 0.37519848784355503, 0.37519848784355503, 0.37519848784355503, 0.37519848784355503, 0.37519848784355503, 0.37519848784355503, 0.37519848784355503, 0.37519848784355503, 0.37519848784355503, 0.37519848784355503, 0.37519848784355503, 0.37519848784355503, 0.37519848784355503, 0.37519848784355503, 0.37519848784355503, 0.37519848784355503, 0.37519848784355503, 0.37519848784355503, 0.37519848784355503, 0.37519848784355503, 0.37519848784355503, 0.37519848784355503, 0.37519848784355503, 0.37519848784355503, 0.37519848784355503, 0.37519848784355503, 0.37519848784355503, 0.37519848784355503, 0.37519848784355503, 0.37519848784355503, 0.37519848784355503, 0.37519848784355503, 0.37519848784355503, 0.37519848784355503, 0.37519848784355503, 0.37519848784355503, 0.37519848784355503, 0.37519848784355503, 0.37519848784355503, 0.37519848784355503, 0.37519848784355503, 0.37519848784355503, 0.37519848784355503, 0.37519848784355503, 0.37519848784355503, 0.37519848784355503, 0.37519848784355503, 0.37519848784355503, 0.37519848784355503, 0.3692508888540229, 0.3692508888540229, 0.3692508888540229, 0.3692508888540229, 0.3692508888540229, 0.3692508888540229, 0.3692508888540229, 0.3692508888540229, 0.3692508888540229, 0.3692508888540229, 0.3692508888540229, 0.3692508888540229, 0.3692508888540229, 0.3692508888540229, 0.3692508888540229, 0.3692508888540229, 0.3692508888540229, 0.3692508888540229, 0.3692508888540229, 0.3692508888540229, 0.3692508888540229, 0.3692508888540229, 0.3692508888540229, 0.3692508888540229, 0.3692508888540229, 0.3692508888540229, 0.3692508888540229, 0.3692508888540229, 0.3692508888540229, 0.3692508888540229, 0.3692508888540229, 0.3692508888540229, 0.3692508888540229, 0.3692508888540229, 0.3692508888540229, 0.3692508888540229, 0.3692508888540229, 0.3692508888540229, 0.3692508888540229, 0.3692508888540229, 0.3692508888540229, 0.3692508888540229, 0.3692508888540229, 0.3692508888540229, 0.3692508888540229, 0.3692508888540229, 0.3692508888540229, 0.3692508888540229, 0.3692508888540229, 0.3692508888540229, 0.3692508888540229, 0.3692508888540229, 0.3692508888540229, 0.3692508888540229, 0.3692508888540229, 0.36330328986449073, 0.36330328986449073, 0.36330328986449073, 0.36330328986449073, 0.36330328986449073, 0.36330328986449073, 0.36330328986449073, 0.36330328986449073, 0.36330328986449073, 0.36330328986449073, 0.36330328986449073, 0.36330328986449073, 0.36330328986449073, 0.36330328986449073, 0.36330328986449073, 0.36330328986449073, 0.36330328986449073, 0.36330328986449073, 0.36330328986449073, 0.36330328986449073, 0.36330328986449073, 0.36330328986449073, 0.36330328986449073, 0.36330328986449073, 0.36330328986449073, 0.36330328986449073, 0.36330328986449073, 0.36330328986449073, 0.36330328986449073, 0.36330328986449073, 0.36330328986449073, 0.36330328986449073, 0.36330328986449073, 0.36330328986449073, 0.36330328986449073, 0.36330328986449073, 0.36330328986449073, 0.36330328986449073, 0.36330328986449073, 0.36330328986449073, 0.36330328986449073, 0.36330328986449073, 0.36330328986449073, 0.36330328986449073, 0.36330328986449073, 0.36330328986449073, 0.36330328986449073, 0.36330328986449073, 0.36330328986449073, 0.36330328986449073, 0.36330328986449073, 0.36330328986449073, 0.35735569087495855, 0.35735569087495855, 0.35735569087495855, 0.35735569087495855, 0.35735569087495855, 0.35735569087495855, 0.35735569087495855, 0.35735569087495855, 0.35735569087495855, 0.35735569087495855, 0.35735569087495855, 0.35735569087495855, 0.35735569087495855, 0.35735569087495855, 0.35735569087495855, 0.35735569087495855, 0.35735569087495855, 0.35735569087495855, 0.35735569087495855, 0.35735569087495855, 0.35735569087495855, 0.35735569087495855, 0.35735569087495855, 0.35735569087495855, 0.35735569087495855, 0.35735569087495855, 0.35735569087495855, 0.35735569087495855, 0.35735569087495855, 0.35735569087495855, 0.35735569087495855, 0.35735569087495855, 0.35735569087495855, 0.35735569087495855, 0.35735569087495855, 0.35735569087495855, 0.35735569087495855, 0.35735569087495855, 0.35735569087495855, 0.35735569087495855, 0.35735569087495855, 0.35735569087495855, 0.35735569087495855, 0.35735569087495855, 0.35735569087495855, 0.35735569087495855, 0.35735569087495855, 0.35735569087495855, 0.35735569087495855, 0.35735569087495855, 0.35735569087495855, 0.35735569087495855, 0.35735569087495855, 0.3514080918854264, 0.3514080918854264, 0.3514080918854264, 0.3514080918854264, 0.3514080918854264, 0.3514080918854264, 0.3514080918854264, 0.3514080918854264, 0.3514080918854264, 0.3514080918854264, 0.3514080918854264, 0.3514080918854264, 0.3514080918854264, 0.3514080918854264, 0.3514080918854264, 0.3514080918854264, 0.3514080918854264, 0.3514080918854264, 0.3514080918854264, 0.3514080918854264, 0.3514080918854264, 0.3514080918854264, 0.3514080918854264, 0.3514080918854264, 0.3514080918854264, 0.3514080918854264, 0.3514080918854264, 0.3514080918854264, 0.3514080918854264, 0.3514080918854264, 0.3514080918854264, 0.3514080918854264, 0.3514080918854264, 0.3514080918854264, 0.3514080918854264, 0.3514080918854264, 0.3514080918854264, 0.3514080918854264, 0.3514080918854264, 0.3514080918854264, 0.3514080918854264, 0.3514080918854264, 0.3514080918854264, 0.3514080918854264, 0.3514080918854264, 0.3514080918854264, 0.3514080918854264, 0.3514080918854264, 0.3514080918854264, 0.3514080918854264, 0.3514080918854264, 0.3514080918854264, 0.3514080918854264, 0.3514080918854264, 0.3514080918854264, 0.3454604928958942, 0.3454604928958942, 0.3454604928958942, 0.3454604928958942, 0.3454604928958942, 0.3454604928958942, 0.3454604928958942, 0.3454604928958942, 0.3454604928958942, 0.3454604928958942, 0.3454604928958942, 0.3454604928958942, 0.3454604928958942, 0.3454604928958942, 0.3454604928958942, 0.3454604928958942, 0.3454604928958942, 0.3454604928958942, 0.3454604928958942, 0.3454604928958942, 0.3454604928958942, 0.3454604928958942, 0.3454604928958942, 0.3454604928958942, 0.3454604928958942, 0.3454604928958942, 0.3454604928958942, 0.3454604928958942, 0.3454604928958942, 0.3454604928958942, 0.3454604928958942, 0.3454604928958942, 0.3454604928958942, 0.3454604928958942, 0.3454604928958942, 0.3454604928958942, 0.3454604928958942, 0.3454604928958942, 0.3454604928958942, 0.3454604928958942, 0.3454604928958942, 0.3454604928958942, 0.3454604928958942, 0.3454604928958942, 0.3454604928958942, 0.3454604928958942, 0.3454604928958942, 0.3454604928958942, 0.3454604928958942, 0.339512893906362, 0.339512893906362, 0.339512893906362, 0.339512893906362, 0.339512893906362, 0.339512893906362, 0.339512893906362, 0.339512893906362, 0.339512893906362, 0.339512893906362, 0.339512893906362, 0.339512893906362, 0.339512893906362, 0.339512893906362, 0.339512893906362, 0.339512893906362, 0.339512893906362, 0.339512893906362, 0.339512893906362, 0.339512893906362, 0.339512893906362, 0.339512893906362, 0.339512893906362, 0.339512893906362, 0.339512893906362, 0.339512893906362, 0.339512893906362, 0.339512893906362, 0.339512893906362, 0.339512893906362, 0.339512893906362, 0.339512893906362, 0.339512893906362, 0.339512893906362, 0.339512893906362, 0.339512893906362, 0.339512893906362, 0.339512893906362, 0.339512893906362, 0.339512893906362, 0.339512893906362, 0.339512893906362, 0.339512893906362, 0.339512893906362, 0.339512893906362, 0.33356529491682985, 0.33356529491682985, 0.33356529491682985, 0.33356529491682985, 0.33356529491682985, 0.33356529491682985, 0.33356529491682985, 0.33356529491682985, 0.33356529491682985, 0.33356529491682985, 0.33356529491682985, 0.33356529491682985, 0.33356529491682985, 0.33356529491682985, 0.33356529491682985, 0.33356529491682985, 0.33356529491682985, 0.33356529491682985, 0.33356529491682985, 0.33356529491682985, 0.33356529491682985, 0.33356529491682985, 0.33356529491682985, 0.33356529491682985, 0.33356529491682985, 0.33356529491682985, 0.33356529491682985, 0.33356529491682985, 0.33356529491682985, 0.33356529491682985, 0.33356529491682985, 0.33356529491682985, 0.33356529491682985, 0.33356529491682985, 0.3276176959272977, 0.3276176959272977, 0.3276176959272977, 0.3276176959272977, 0.3276176959272977, 0.3276176959272977, 0.3276176959272977, 0.3276176959272977, 0.3276176959272977, 0.3276176959272977, 0.3276176959272977, 0.3276176959272977, 0.3276176959272977, 0.3276176959272977, 0.3276176959272977, 0.3276176959272977, 0.3276176959272977, 0.3276176959272977, 0.3276176959272977, 0.3276176959272977, 0.3276176959272977, 0.3276176959272977, 0.3276176959272977, 0.3276176959272977, 0.3276176959272977, 0.3276176959272977, 0.3276176959272977, 0.3276176959272977, 0.3276176959272977, 0.3276176959272977, 0.3276176959272977, 0.3276176959272977, 0.3276176959272977, 0.3276176959272977, 0.3276176959272977, 0.3276176959272977, 0.3276176959272977, 0.3276176959272977, 0.3276176959272977, 0.3276176959272977, 0.3276176959272977, 0.3276176959272977, 0.3276176959272977, 0.3276176959272977, 0.3276176959272977, 0.3276176959272977, 0.3276176959272977, 0.3216700969377655, 0.3216700969377655, 0.3216700969377655, 0.3216700969377655, 0.3216700969377655, 0.3216700969377655, 0.3216700969377655, 0.3216700969377655, 0.3216700969377655, 0.3216700969377655, 0.3216700969377655, 0.3216700969377655, 0.3216700969377655, 0.3216700969377655, 0.3216700969377655, 0.3216700969377655, 0.3216700969377655, 0.3216700969377655, 0.3216700969377655, 0.3216700969377655, 0.3216700969377655, 0.3216700969377655, 0.3216700969377655, 0.3216700969377655, 0.3216700969377655, 0.3216700969377655, 0.3216700969377655, 0.3216700969377655, 0.3216700969377655, 0.3216700969377655, 0.3216700969377655, 0.3216700969377655, 0.3216700969377655, 0.3216700969377655, 0.3216700969377655, 0.3216700969377655, 0.3216700969377655, 0.3216700969377655, 0.3216700969377655, 0.3216700969377655, 0.3216700969377655, 0.3216700969377655, 0.3216700969377655, 0.3216700969377655, 0.31572249794823337, 0.31572249794823337, 0.31572249794823337, 0.31572249794823337, 0.31572249794823337, 0.31572249794823337, 0.31572249794823337, 0.31572249794823337, 0.31572249794823337, 0.31572249794823337, 0.31572249794823337, 0.31572249794823337, 0.31572249794823337, 0.31572249794823337, 0.31572249794823337, 0.31572249794823337, 0.31572249794823337, 0.31572249794823337, 0.31572249794823337, 0.31572249794823337, 0.31572249794823337, 0.31572249794823337, 0.31572249794823337, 0.31572249794823337, 0.31572249794823337, 0.31572249794823337, 0.31572249794823337, 0.31572249794823337, 0.31572249794823337, 0.31572249794823337, 0.31572249794823337, 0.31572249794823337, 0.31572249794823337, 0.31572249794823337, 0.31572249794823337, 0.31572249794823337, 0.31572249794823337, 0.31572249794823337, 0.31572249794823337, 0.31572249794823337, 0.31572249794823337, 0.31572249794823337, 0.31572249794823337, 0.31572249794823337, 0.31572249794823337, 0.31572249794823337, 0.31572249794823337, 0.31572249794823337, 0.31572249794823337, 0.31572249794823337, 0.31572249794823337, 0.31572249794823337, 0.31572249794823337, 0.31572249794823337, 0.31572249794823337, 0.31572249794823337, 0.31572249794823337, 0.31572249794823337, 0.31572249794823337, 0.31572249794823337, 0.31572249794823337, 0.31572249794823337, 0.30977489895870114, 0.30977489895870114, 0.30977489895870114, 0.30977489895870114, 0.30977489895870114, 0.30977489895870114, 0.30977489895870114, 0.30977489895870114, 0.30977489895870114, 0.30977489895870114, 0.30977489895870114, 0.30977489895870114, 0.30977489895870114, 0.30977489895870114, 0.30977489895870114, 0.30977489895870114, 0.30977489895870114, 0.30977489895870114, 0.30977489895870114, 0.30977489895870114, 0.30977489895870114, 0.30977489895870114, 0.30977489895870114, 0.30977489895870114, 0.30977489895870114, 0.30977489895870114, 0.30977489895870114, 0.30977489895870114, 0.30977489895870114, 0.30977489895870114, 0.30977489895870114, 0.30977489895870114, 0.30977489895870114, 0.30977489895870114, 0.30977489895870114, 0.30977489895870114, 0.30977489895870114, 0.30977489895870114, 0.30977489895870114, 0.30977489895870114, 0.30977489895870114, 0.30977489895870114, 0.30977489895870114, 0.30977489895870114, 0.30977489895870114, 0.30977489895870114, 0.30977489895870114, 0.30977489895870114, 0.30977489895870114, 0.303827299969169, 0.303827299969169, 0.303827299969169, 0.303827299969169, 0.303827299969169, 0.303827299969169, 0.303827299969169, 0.303827299969169, 0.303827299969169, 0.303827299969169, 0.303827299969169, 0.303827299969169, 0.303827299969169, 0.303827299969169, 0.303827299969169, 0.303827299969169, 0.303827299969169, 0.303827299969169, 0.303827299969169, 0.303827299969169, 0.303827299969169, 0.303827299969169, 0.303827299969169, 0.303827299969169, 0.303827299969169, 0.303827299969169, 0.303827299969169, 0.303827299969169, 0.303827299969169, 0.303827299969169, 0.303827299969169, 0.303827299969169, 0.303827299969169, 0.303827299969169, 0.303827299969169, 0.303827299969169, 0.303827299969169, 0.303827299969169, 0.303827299969169, 0.303827299969169, 0.303827299969169, 0.303827299969169, 0.303827299969169, 0.303827299969169, 0.303827299969169, 0.303827299969169, 0.303827299969169, 0.303827299969169, 0.303827299969169, 0.303827299969169, 0.29787970097963684, 0.29787970097963684, 0.29787970097963684, 0.29787970097963684, 0.29787970097963684, 0.29787970097963684, 0.29787970097963684, 0.29787970097963684, 0.29787970097963684, 0.29787970097963684, 0.29787970097963684, 0.29787970097963684, 0.29787970097963684, 0.29787970097963684, 0.29787970097963684, 0.29787970097963684, 0.29787970097963684, 0.29787970097963684, 0.29787970097963684, 0.29787970097963684, 0.29787970097963684, 0.29787970097963684, 0.29787970097963684, 0.29787970097963684, 0.29787970097963684, 0.29787970097963684, 0.29787970097963684, 0.29787970097963684, 0.29787970097963684, 0.29787970097963684, 0.29787970097963684, 0.29787970097963684, 0.29787970097963684, 0.29787970097963684, 0.29787970097963684, 0.29787970097963684, 0.29787970097963684, 0.29787970097963684, 0.29787970097963684, 0.29787970097963684, 0.29787970097963684, 0.29787970097963684, 0.29787970097963684, 0.29787970097963684, 0.29787970097963684, 0.29787970097963684, 0.29787970097963684, 0.29787970097963684, 0.29787970097963684, 0.29787970097963684, 0.29787970097963684, 0.29787970097963684, 0.29193210199010466, 0.29193210199010466, 0.29193210199010466, 0.29193210199010466, 0.29193210199010466, 0.29193210199010466, 0.29193210199010466, 0.29193210199010466, 0.29193210199010466, 0.29193210199010466, 0.29193210199010466, 0.29193210199010466, 0.29193210199010466, 0.29193210199010466, 0.29193210199010466, 0.29193210199010466, 0.29193210199010466, 0.29193210199010466, 0.29193210199010466, 0.29193210199010466, 0.29193210199010466, 0.29193210199010466, 0.29193210199010466, 0.29193210199010466, 0.29193210199010466, 0.29193210199010466, 0.29193210199010466, 0.29193210199010466, 0.29193210199010466, 0.29193210199010466, 0.29193210199010466, 0.29193210199010466, 0.29193210199010466, 0.29193210199010466, 0.29193210199010466, 0.29193210199010466, 0.2859845030005725, 0.2859845030005725, 0.2859845030005725, 0.2859845030005725, 0.2859845030005725, 0.2859845030005725, 0.2859845030005725, 0.2859845030005725, 0.2859845030005725, 0.2859845030005725, 0.2859845030005725, 0.2859845030005725, 0.2859845030005725, 0.2859845030005725, 0.2859845030005725, 0.2859845030005725, 0.2859845030005725, 0.2859845030005725, 0.2859845030005725, 0.2859845030005725, 0.2859845030005725, 0.2859845030005725, 0.2859845030005725, 0.2859845030005725, 0.2859845030005725, 0.2859845030005725, 0.2859845030005725, 0.2859845030005725, 0.2859845030005725, 0.2859845030005725, 0.2859845030005725, 0.2859845030005725, 0.2859845030005725, 0.2859845030005725, 0.2859845030005725, 0.2859845030005725, 0.2859845030005725, 0.2859845030005725, 0.2859845030005725, 0.2859845030005725, 0.2859845030005725, 0.2859845030005725, 0.2859845030005725, 0.2859845030005725, 0.2859845030005725, 0.2859845030005725, 0.2800369040110403, 0.2800369040110403, 0.2800369040110403, 0.2800369040110403, 0.2800369040110403, 0.2800369040110403, 0.2800369040110403, 0.2800369040110403, 0.2800369040110403, 0.2800369040110403, 0.2800369040110403, 0.2800369040110403, 0.2800369040110403, 0.2800369040110403, 0.2800369040110403, 0.2800369040110403, 0.2800369040110403, 0.2800369040110403, 0.2800369040110403, 0.2800369040110403, 0.2800369040110403, 0.2800369040110403, 0.2800369040110403, 0.2800369040110403, 0.2800369040110403, 0.2800369040110403, 0.2800369040110403, 0.2800369040110403, 0.2800369040110403, 0.2800369040110403, 0.2800369040110403, 0.2800369040110403, 0.2800369040110403, 0.2800369040110403, 0.2800369040110403, 0.2800369040110403, 0.2800369040110403, 0.2800369040110403, 0.2800369040110403, 0.2800369040110403, 0.2740893050215082, 0.2740893050215082, 0.2740893050215082, 0.2740893050215082, 0.2740893050215082, 0.2740893050215082, 0.2740893050215082, 0.2740893050215082, 0.2740893050215082, 0.2740893050215082, 0.2740893050215082, 0.2740893050215082, 0.2740893050215082, 0.2740893050215082, 0.2740893050215082, 0.2740893050215082, 0.2740893050215082, 0.2740893050215082, 0.2740893050215082, 0.2740893050215082, 0.2740893050215082, 0.2740893050215082, 0.2740893050215082, 0.2740893050215082, 0.2740893050215082, 0.2740893050215082, 0.2740893050215082, 0.2740893050215082, 0.2740893050215082, 0.2740893050215082, 0.2740893050215082, 0.2740893050215082, 0.2740893050215082, 0.2740893050215082, 0.2740893050215082, 0.2740893050215082, 0.2740893050215082, 0.2740893050215082, 0.2740893050215082, 0.2740893050215082, 0.2740893050215082, 0.26814170603197596, 0.26814170603197596, 0.26814170603197596, 0.26814170603197596, 0.26814170603197596, 0.26814170603197596, 0.26814170603197596, 0.26814170603197596, 0.26814170603197596, 0.26814170603197596, 0.26814170603197596, 0.26814170603197596, 0.26814170603197596, 0.26814170603197596, 0.26814170603197596, 0.26814170603197596, 0.26814170603197596, 0.26814170603197596, 0.26814170603197596, 0.26814170603197596, 0.26814170603197596, 0.26814170603197596, 0.26814170603197596, 0.26814170603197596, 0.26814170603197596, 0.26814170603197596, 0.26814170603197596, 0.26814170603197596, 0.26814170603197596, 0.26814170603197596, 0.26814170603197596, 0.26814170603197596, 0.26814170603197596, 0.26814170603197596, 0.26814170603197596, 0.26814170603197596, 0.26814170603197596, 0.26814170603197596, 0.26814170603197596, 0.26219410704244384, 0.26219410704244384, 0.26219410704244384, 0.26219410704244384, 0.26219410704244384, 0.26219410704244384, 0.26219410704244384, 0.26219410704244384, 0.26219410704244384, 0.26219410704244384, 0.26219410704244384, 0.26219410704244384, 0.26219410704244384, 0.26219410704244384, 0.26219410704244384, 0.26219410704244384, 0.26219410704244384, 0.26219410704244384, 0.26219410704244384, 0.26219410704244384, 0.26219410704244384, 0.26219410704244384, 0.26219410704244384, 0.26219410704244384, 0.26219410704244384, 0.26219410704244384, 0.26219410704244384, 0.26219410704244384, 0.26219410704244384, 0.26219410704244384, 0.26219410704244384, 0.26219410704244384, 0.26219410704244384, 0.26219410704244384, 0.26219410704244384, 0.26219410704244384, 0.26219410704244384, 0.26219410704244384, 0.26219410704244384, 0.2562465080529116, 0.2562465080529116, 0.2562465080529116, 0.2562465080529116, 0.2562465080529116, 0.2562465080529116, 0.2562465080529116, 0.2562465080529116, 0.2562465080529116, 0.2562465080529116, 0.2562465080529116, 0.2562465080529116, 0.2562465080529116, 0.2562465080529116, 0.2562465080529116, 0.2562465080529116, 0.2562465080529116, 0.2562465080529116, 0.2562465080529116, 0.2562465080529116, 0.2562465080529116, 0.2562465080529116, 0.2562465080529116, 0.2562465080529116, 0.2562465080529116, 0.2562465080529116, 0.2562465080529116, 0.2562465080529116, 0.2562465080529116, 0.2562465080529116, 0.2562465080529116, 0.2562465080529116, 0.2562465080529116, 0.2562465080529116, 0.2562465080529116, 0.2562465080529116, 0.2562465080529116, 0.2562465080529116, 0.2562465080529116, 0.2562465080529116, 0.2502989090633795, 0.2502989090633795, 0.2502989090633795, 0.2502989090633795, 0.2502989090633795, 0.2502989090633795, 0.2502989090633795, 0.2502989090633795, 0.2502989090633795, 0.2502989090633795, 0.2502989090633795, 0.2502989090633795, 0.2502989090633795, 0.2502989090633795, 0.2502989090633795, 0.2502989090633795, 0.2502989090633795, 0.2502989090633795, 0.2502989090633795, 0.2502989090633795, 0.2502989090633795, 0.2502989090633795, 0.2502989090633795, 0.2502989090633795, 0.2502989090633795, 0.2502989090633795, 0.2502989090633795, 0.2502989090633795, 0.2502989090633795, 0.2502989090633795, 0.2502989090633795, 0.2502989090633795, 0.2502989090633795, 0.2502989090633795, 0.2502989090633795, 0.2502989090633795, 0.2502989090633795, 0.2502989090633795, 0.2502989090633795, 0.2502989090633795, 0.2502989090633795, 0.2502989090633795, 0.2502989090633795, 0.2502989090633795, 0.2502989090633795, 0.2502989090633795, 0.2502989090633795, 0.2502989090633795, 0.2502989090633795, 0.2502989090633795, 0.2502989090633795, 0.2502989090633795, 0.2502989090633795, 0.2502989090633795, 0.2443513100738473, 0.2443513100738473, 0.2443513100738473, 0.2443513100738473, 0.2443513100738473, 0.2443513100738473, 0.2443513100738473, 0.2443513100738473, 0.2443513100738473, 0.2443513100738473, 0.2443513100738473, 0.2443513100738473, 0.2443513100738473, 0.2443513100738473, 0.2443513100738473, 0.2443513100738473, 0.2443513100738473, 0.2443513100738473, 0.2443513100738473, 0.2443513100738473, 0.2443513100738473, 0.2443513100738473, 0.2443513100738473, 0.2443513100738473, 0.2443513100738473, 0.2443513100738473, 0.2443513100738473, 0.23840371108431513, 0.23840371108431513, 0.23840371108431513, 0.23840371108431513, 0.23840371108431513, 0.23840371108431513, 0.23840371108431513, 0.23840371108431513, 0.23840371108431513, 0.23840371108431513, 0.23840371108431513, 0.23840371108431513, 0.23840371108431513, 0.23840371108431513, 0.23840371108431513, 0.23840371108431513, 0.23840371108431513, 0.23840371108431513, 0.23840371108431513, 0.23840371108431513, 0.23840371108431513, 0.23840371108431513, 0.23840371108431513, 0.23840371108431513, 0.23840371108431513, 0.23840371108431513, 0.23840371108431513, 0.23840371108431513, 0.23840371108431513, 0.23840371108431513, 0.23840371108431513, 0.23840371108431513, 0.23245611209478295, 0.23245611209478295, 0.23245611209478295, 0.23245611209478295, 0.23245611209478295, 0.23245611209478295, 0.23245611209478295, 0.23245611209478295, 0.23245611209478295, 0.23245611209478295, 0.23245611209478295, 0.23245611209478295, 0.23245611209478295, 0.23245611209478295, 0.23245611209478295, 0.23245611209478295, 0.23245611209478295, 0.23245611209478295, 0.23245611209478295, 0.23245611209478295, 0.23245611209478295, 0.23245611209478295, 0.23245611209478295, 0.23245611209478295, 0.23245611209478295, 0.23245611209478295, 0.23245611209478295, 0.23245611209478295, 0.23245611209478295, 0.23245611209478295, 0.23245611209478295, 0.23245611209478295, 0.23245611209478295, 0.23245611209478295, 0.23245611209478295, 0.23245611209478295, 0.23245611209478295, 0.23245611209478295, 0.2265085131052508, 0.2265085131052508, 0.2265085131052508, 0.2265085131052508, 0.2265085131052508, 0.2265085131052508, 0.2265085131052508, 0.2265085131052508, 0.2265085131052508, 0.2265085131052508, 0.2265085131052508, 0.2265085131052508, 0.2265085131052508, 0.2265085131052508, 0.2265085131052508, 0.2265085131052508, 0.2265085131052508, 0.2265085131052508, 0.2265085131052508, 0.2265085131052508, 0.2265085131052508, 0.2265085131052508, 0.2265085131052508, 0.2265085131052508, 0.2265085131052508, 0.2265085131052508, 0.2265085131052508, 0.2265085131052508, 0.2265085131052508, 0.2265085131052508, 0.22056091411571863, 0.22056091411571863, 0.22056091411571863, 0.22056091411571863, 0.22056091411571863, 0.22056091411571863, 0.22056091411571863, 0.22056091411571863, 0.22056091411571863, 0.22056091411571863, 0.22056091411571863, 0.22056091411571863, 0.22056091411571863, 0.22056091411571863, 0.22056091411571863, 0.22056091411571863, 0.22056091411571863, 0.22056091411571863, 0.22056091411571863, 0.22056091411571863, 0.22056091411571863, 0.22056091411571863, 0.22056091411571863, 0.22056091411571863, 0.22056091411571863, 0.22056091411571863, 0.22056091411571863, 0.22056091411571863, 0.22056091411571863, 0.22056091411571863, 0.22056091411571863, 0.22056091411571863, 0.22056091411571863, 0.22056091411571863, 0.22056091411571863, 0.22056091411571863, 0.22056091411571863, 0.22056091411571863, 0.22056091411571863, 0.22056091411571863, 0.22056091411571863, 0.21461331512618645, 0.21461331512618645, 0.21461331512618645, 0.21461331512618645, 0.21461331512618645, 0.21461331512618645, 0.21461331512618645, 0.21461331512618645, 0.21461331512618645, 0.21461331512618645, 0.21461331512618645, 0.21461331512618645, 0.21461331512618645, 0.21461331512618645, 0.21461331512618645, 0.21461331512618645, 0.21461331512618645, 0.21461331512618645, 0.21461331512618645, 0.21461331512618645, 0.21461331512618645, 0.21461331512618645, 0.21461331512618645, 0.21461331512618645, 0.21461331512618645, 0.21461331512618645, 0.21461331512618645, 0.21461331512618645, 0.21461331512618645, 0.21461331512618645, 0.21461331512618645, 0.21461331512618645, 0.21461331512618645, 0.21461331512618645, 0.21461331512618645, 0.21461331512618645, 0.21461331512618645, 0.21461331512618645, 0.21461331512618645, 0.21461331512618645, 0.21461331512618645, 0.21461331512618645, 0.21461331512618645, 0.21461331512618645, 0.21461331512618645, 0.20866571613665427, 0.20866571613665427, 0.20866571613665427, 0.20866571613665427, 0.20866571613665427, 0.20866571613665427, 0.20866571613665427, 0.20866571613665427, 0.20866571613665427, 0.20866571613665427, 0.20866571613665427, 0.20866571613665427, 0.20866571613665427, 0.20866571613665427, 0.20866571613665427, 0.20866571613665427, 0.20866571613665427, 0.20866571613665427, 0.20866571613665427, 0.20866571613665427, 0.20866571613665427, 0.20866571613665427, 0.20866571613665427, 0.20866571613665427, 0.20866571613665427, 0.20866571613665427, 0.20866571613665427, 0.20866571613665427, 0.20866571613665427, 0.20866571613665427, 0.20866571613665427, 0.20866571613665427, 0.20866571613665427, 0.20866571613665427, 0.20866571613665427, 0.20866571613665427, 0.20866571613665427, 0.20866571613665427, 0.20866571613665427, 0.20866571613665427, 0.20866571613665427, 0.20866571613665427, 0.20271811714712212, 0.20271811714712212, 0.20271811714712212, 0.20271811714712212, 0.20271811714712212, 0.20271811714712212, 0.20271811714712212, 0.20271811714712212, 0.20271811714712212, 0.20271811714712212, 0.20271811714712212, 0.20271811714712212, 0.20271811714712212, 0.20271811714712212, 0.20271811714712212, 0.20271811714712212, 0.20271811714712212, 0.20271811714712212, 0.20271811714712212, 0.20271811714712212, 0.20271811714712212, 0.20271811714712212, 0.20271811714712212, 0.20271811714712212, 0.20271811714712212, 0.20271811714712212, 0.20271811714712212, 0.20271811714712212, 0.20271811714712212, 0.20271811714712212, 0.20271811714712212, 0.20271811714712212, 0.20271811714712212, 0.20271811714712212, 0.20271811714712212, 0.20271811714712212, 0.20271811714712212, 0.20271811714712212, 0.20271811714712212, 0.20271811714712212, 0.20271811714712212, 0.20271811714712212, 0.20271811714712212, 0.20271811714712212, 0.19677051815758995, 0.19677051815758995, 0.19677051815758995, 0.19677051815758995, 0.19677051815758995, 0.19677051815758995, 0.19677051815758995, 0.19677051815758995, 0.19677051815758995, 0.19677051815758995, 0.19677051815758995, 0.19677051815758995, 0.19677051815758995, 0.19677051815758995, 0.19677051815758995, 0.19677051815758995, 0.19677051815758995, 0.19677051815758995, 0.19677051815758995, 0.19677051815758995, 0.19677051815758995, 0.19677051815758995, 0.19677051815758995, 0.19677051815758995, 0.19677051815758995, 0.19677051815758995, 0.19677051815758995, 0.19677051815758995, 0.19677051815758995, 0.19677051815758995, 0.19677051815758995, 0.19677051815758995, 0.19677051815758995, 0.19082291916805777, 0.19082291916805777, 0.19082291916805777, 0.19082291916805777, 0.19082291916805777, 0.19082291916805777, 0.19082291916805777, 0.19082291916805777, 0.19082291916805777, 0.19082291916805777, 0.19082291916805777, 0.19082291916805777, 0.19082291916805777, 0.19082291916805777, 0.19082291916805777, 0.19082291916805777, 0.19082291916805777, 0.19082291916805777, 0.19082291916805777, 0.19082291916805777, 0.19082291916805777, 0.19082291916805777, 0.19082291916805777, 0.19082291916805777, 0.19082291916805777, 0.19082291916805777, 0.19082291916805777, 0.19082291916805777, 0.19082291916805777, 0.19082291916805777, 0.19082291916805777, 0.19082291916805777, 0.19082291916805777, 0.1848753201785256, 0.1848753201785256, 0.1848753201785256, 0.1848753201785256, 0.1848753201785256, 0.1848753201785256, 0.1848753201785256, 0.1848753201785256, 0.1848753201785256, 0.1848753201785256, 0.1848753201785256, 0.1848753201785256, 0.1848753201785256, 0.1848753201785256, 0.1848753201785256, 0.1848753201785256, 0.1848753201785256, 0.1848753201785256, 0.1848753201785256, 0.1848753201785256, 0.1848753201785256, 0.1848753201785256, 0.1848753201785256, 0.1848753201785256, 0.1848753201785256, 0.1848753201785256, 0.1848753201785256, 0.1848753201785256, 0.1848753201785256, 0.1848753201785256, 0.1848753201785256, 0.1848753201785256, 0.1848753201785256, 0.1848753201785256, 0.17892772118899342, 0.17892772118899342, 0.17892772118899342, 0.17892772118899342, 0.17892772118899342, 0.17892772118899342, 0.17892772118899342, 0.17892772118899342, 0.17892772118899342, 0.17892772118899342, 0.17892772118899342, 0.17892772118899342, 0.17892772118899342, 0.17892772118899342, 0.17892772118899342, 0.17892772118899342, 0.17892772118899342, 0.17892772118899342, 0.17892772118899342, 0.17892772118899342, 0.17892772118899342, 0.17892772118899342, 0.17892772118899342, 0.17892772118899342, 0.17892772118899342, 0.17892772118899342, 0.17892772118899342, 0.17892772118899342, 0.17892772118899342, 0.17892772118899342, 0.17892772118899342, 0.17892772118899342, 0.17892772118899342, 0.17892772118899342, 0.17892772118899342, 0.17892772118899342, 0.17298012219946124, 0.17298012219946124, 0.17298012219946124, 0.17298012219946124, 0.17298012219946124, 0.17298012219946124, 0.17298012219946124, 0.17298012219946124, 0.17298012219946124, 0.17298012219946124, 0.17298012219946124, 0.17298012219946124, 0.17298012219946124, 0.17298012219946124, 0.17298012219946124, 0.17298012219946124, 0.17298012219946124, 0.17298012219946124, 0.17298012219946124, 0.17298012219946124, 0.17298012219946124, 0.17298012219946124, 0.17298012219946124, 0.17298012219946124, 0.17298012219946124, 0.17298012219946124, 0.17298012219946124, 0.17298012219946124, 0.17298012219946124, 0.17298012219946124, 0.17298012219946124, 0.17298012219946124, 0.17298012219946124, 0.17298012219946124, 0.17298012219946124, 0.17298012219946124, 0.17298012219946124, 0.17298012219946124, 0.16703252320992906, 0.16703252320992906, 0.16703252320992906, 0.16703252320992906, 0.16703252320992906, 0.16703252320992906, 0.16703252320992906, 0.16703252320992906, 0.16703252320992906, 0.16703252320992906, 0.16703252320992906, 0.16703252320992906, 0.16703252320992906, 0.16703252320992906, 0.16703252320992906, 0.16703252320992906, 0.16703252320992906, 0.16703252320992906, 0.16703252320992906, 0.16703252320992906, 0.16703252320992906, 0.16703252320992906, 0.16703252320992906, 0.16703252320992906, 0.16703252320992906, 0.16703252320992906, 0.16703252320992906, 0.16703252320992906, 0.16703252320992906, 0.16703252320992906, 0.16703252320992906, 0.16108492422039689, 0.16108492422039689, 0.16108492422039689, 0.16108492422039689, 0.16108492422039689, 0.16108492422039689, 0.16108492422039689, 0.16108492422039689, 0.16108492422039689, 0.16108492422039689, 0.16108492422039689, 0.16108492422039689, 0.16108492422039689, 0.16108492422039689, 0.16108492422039689, 0.16108492422039689, 0.16108492422039689, 0.16108492422039689, 0.16108492422039689, 0.16108492422039689, 0.16108492422039689, 0.16108492422039689, 0.16108492422039689, 0.16108492422039689, 0.16108492422039689, 0.16108492422039689, 0.16108492422039689, 0.16108492422039689, 0.16108492422039689, 0.16108492422039689, 0.16108492422039689, 0.16108492422039689, 0.16108492422039689, 0.16108492422039689, 0.16108492422039689, 0.16108492422039689, 0.16108492422039689, 0.16108492422039689, 0.16108492422039689, 0.16108492422039689, 0.16108492422039689, 0.16108492422039689, 0.15513732523086476, 0.15513732523086476, 0.15513732523086476, 0.15513732523086476, 0.15513732523086476, 0.15513732523086476, 0.15513732523086476, 0.15513732523086476, 0.15513732523086476, 0.15513732523086476, 0.15513732523086476, 0.15513732523086476, 0.15513732523086476, 0.15513732523086476, 0.15513732523086476, 0.15513732523086476, 0.15513732523086476, 0.15513732523086476, 0.15513732523086476, 0.15513732523086476, 0.15513732523086476, 0.15513732523086476, 0.15513732523086476, 0.15513732523086476, 0.15513732523086476, 0.15513732523086476, 0.15513732523086476, 0.15513732523086476, 0.15513732523086476, 0.15513732523086476, 0.15513732523086476, 0.15513732523086476, 0.15513732523086476, 0.15513732523086476, 0.15513732523086476, 0.15513732523086476, 0.15513732523086476, 0.15513732523086476, 0.15513732523086476, 0.15513732523086476, 0.15513732523086476, 0.15513732523086476, 0.15513732523086476, 0.15513732523086476, 0.15513732523086476, 0.15513732523086476, 0.15513732523086476, 0.15513732523086476, 0.1491897262413326, 0.1491897262413326, 0.1491897262413326, 0.1491897262413326, 0.1491897262413326, 0.1491897262413326, 0.1491897262413326, 0.1491897262413326, 0.1491897262413326, 0.1491897262413326, 0.1491897262413326, 0.1491897262413326, 0.1491897262413326, 0.1491897262413326, 0.1491897262413326, 0.1491897262413326, 0.1491897262413326, 0.1491897262413326, 0.1491897262413326, 0.1491897262413326, 0.1491897262413326, 0.1491897262413326, 0.1491897262413326, 0.1491897262413326, 0.1491897262413326, 0.1491897262413326, 0.1491897262413326, 0.1491897262413326, 0.1491897262413326, 0.1491897262413326, 0.1491897262413326, 0.1491897262413326, 0.1491897262413326, 0.1491897262413326, 0.1491897262413326, 0.1491897262413326, 0.1491897262413326, 0.1491897262413326, 0.1491897262413326, 0.1491897262413326, 0.1491897262413326, 0.1491897262413326, 0.1491897262413326, 0.1491897262413326, 0.1491897262413326, 0.1491897262413326, 0.1432421272518004, 0.1432421272518004, 0.1432421272518004, 0.1432421272518004, 0.1432421272518004, 0.1432421272518004, 0.1432421272518004, 0.1432421272518004, 0.1432421272518004, 0.1432421272518004, 0.1432421272518004, 0.1432421272518004, 0.1432421272518004, 0.1432421272518004, 0.1432421272518004, 0.1432421272518004, 0.1432421272518004, 0.1432421272518004, 0.1432421272518004, 0.1432421272518004, 0.1432421272518004, 0.1432421272518004, 0.1432421272518004, 0.1432421272518004, 0.1432421272518004, 0.1432421272518004, 0.1432421272518004, 0.1432421272518004, 0.1432421272518004, 0.1432421272518004, 0.1432421272518004, 0.1432421272518004, 0.1432421272518004, 0.1432421272518004, 0.1432421272518004, 0.1432421272518004, 0.1432421272518004, 0.1432421272518004, 0.13729452826226823, 0.13729452826226823, 0.13729452826226823, 0.13729452826226823, 0.13729452826226823, 0.13729452826226823, 0.13729452826226823, 0.13729452826226823, 0.13729452826226823, 0.13729452826226823, 0.13729452826226823, 0.13729452826226823, 0.13729452826226823, 0.13729452826226823, 0.13729452826226823, 0.13729452826226823, 0.13729452826226823, 0.13729452826226823, 0.13729452826226823, 0.13729452826226823, 0.13729452826226823, 0.13729452826226823, 0.13729452826226823, 0.13729452826226823, 0.13729452826226823, 0.13729452826226823, 0.13729452826226823, 0.13729452826226823, 0.13729452826226823, 0.13729452826226823, 0.13729452826226823, 0.13729452826226823, 0.13729452826226823, 0.13729452826226823, 0.13729452826226823, 0.13729452826226823, 0.13729452826226823, 0.13729452826226823, 0.13729452826226823, 0.13729452826226823, 0.13729452826226823, 0.13729452826226823, 0.13729452826226823, 0.13729452826226823, 0.13729452826226823, 0.13134692927273606, 0.13134692927273606, 0.13134692927273606, 0.13134692927273606, 0.13134692927273606, 0.13134692927273606, 0.13134692927273606, 0.13134692927273606, 0.13134692927273606, 0.13134692927273606, 0.13134692927273606, 0.13134692927273606, 0.13134692927273606, 0.13134692927273606, 0.13134692927273606, 0.13134692927273606, 0.13134692927273606, 0.13134692927273606, 0.13134692927273606, 0.13134692927273606, 0.13134692927273606, 0.13134692927273606, 0.13134692927273606, 0.13134692927273606, 0.13134692927273606, 0.13134692927273606, 0.13134692927273606, 0.13134692927273606, 0.13134692927273606, 0.13134692927273606, 0.13134692927273606, 0.13134692927273606, 0.13134692927273606, 0.13134692927273606, 0.13134692927273606, 0.13134692927273606, 0.13134692927273606, 0.13134692927273606, 0.13134692927273606, 0.13134692927273606, 0.13134692927273606, 0.13134692927273606, 0.12539933028320388, 0.12539933028320388, 0.12539933028320388, 0.12539933028320388, 0.12539933028320388, 0.12539933028320388, 0.12539933028320388, 0.12539933028320388, 0.12539933028320388, 0.12539933028320388, 0.12539933028320388, 0.12539933028320388, 0.12539933028320388, 0.12539933028320388, 0.12539933028320388, 0.12539933028320388, 0.12539933028320388, 0.12539933028320388, 0.12539933028320388, 0.12539933028320388, 0.12539933028320388, 0.12539933028320388, 0.12539933028320388, 0.12539933028320388, 0.12539933028320388, 0.12539933028320388, 0.12539933028320388, 0.12539933028320388, 0.12539933028320388, 0.12539933028320388, 0.12539933028320388, 0.12539933028320388, 0.12539933028320388, 0.12539933028320388, 0.12539933028320388, 0.12539933028320388, 0.12539933028320388, 0.12539933028320388, 0.12539933028320388, 0.12539933028320388, 0.12539933028320388, 0.12539933028320388, 0.12539933028320388, 0.1194517312936717, 0.1194517312936717, 0.1194517312936717, 0.1194517312936717, 0.1194517312936717, 0.1194517312936717, 0.1194517312936717, 0.1194517312936717, 0.1194517312936717, 0.1194517312936717, 0.1194517312936717, 0.1194517312936717, 0.1194517312936717, 0.1194517312936717, 0.1194517312936717, 0.1194517312936717, 0.1194517312936717, 0.1194517312936717, 0.1194517312936717, 0.1194517312936717, 0.1194517312936717, 0.1194517312936717, 0.1194517312936717, 0.1194517312936717, 0.1194517312936717, 0.1194517312936717, 0.1194517312936717, 0.1194517312936717, 0.1194517312936717, 0.1194517312936717, 0.1194517312936717, 0.1194517312936717, 0.1194517312936717, 0.1194517312936717, 0.1194517312936717, 0.1194517312936717, 0.11350413230413953, 0.11350413230413953, 0.11350413230413953, 0.11350413230413953, 0.11350413230413953, 0.11350413230413953, 0.11350413230413953, 0.11350413230413953, 0.11350413230413953, 0.11350413230413953, 0.11350413230413953, 0.11350413230413953, 0.11350413230413953, 0.11350413230413953, 0.11350413230413953, 0.11350413230413953, 0.11350413230413953, 0.11350413230413953, 0.11350413230413953, 0.11350413230413953, 0.11350413230413953, 0.11350413230413953, 0.11350413230413953, 0.11350413230413953, 0.11350413230413953, 0.11350413230413953, 0.11350413230413953, 0.11350413230413953, 0.11350413230413953, 0.11350413230413953, 0.11350413230413953, 0.11350413230413953, 0.11350413230413953, 0.11350413230413953, 0.11350413230413953, 0.11350413230413953, 0.11350413230413953, 0.11350413230413953, 0.11350413230413953, 0.11350413230413953, 0.11350413230413953, 0.11350413230413953, 0.11350413230413953, 0.11350413230413953, 0.11350413230413953, 0.11350413230413953, 0.11350413230413953, 0.11350413230413953, 0.11350413230413953, 0.11350413230413953, 0.10755653331460735, 0.10755653331460735, 0.10755653331460735, 0.10755653331460735, 0.10755653331460735, 0.10755653331460735, 0.10755653331460735, 0.10755653331460735, 0.10755653331460735, 0.10755653331460735, 0.10755653331460735, 0.10755653331460735, 0.10755653331460735, 0.10755653331460735, 0.10755653331460735, 0.10755653331460735, 0.10755653331460735, 0.10755653331460735, 0.10755653331460735, 0.10755653331460735, 0.10755653331460735, 0.10755653331460735, 0.10755653331460735, 0.10755653331460735, 0.10755653331460735, 0.10755653331460735, 0.10755653331460735, 0.10755653331460735, 0.10755653331460735, 0.10755653331460735, 0.10755653331460735, 0.10755653331460735, 0.10755653331460735, 0.10755653331460735, 0.10755653331460735, 0.10755653331460735, 0.10755653331460735, 0.10755653331460735, 0.10160893432507523, 0.10160893432507523, 0.10160893432507523, 0.10160893432507523, 0.10160893432507523, 0.10160893432507523, 0.10160893432507523, 0.10160893432507523, 0.10160893432507523, 0.10160893432507523, 0.10160893432507523, 0.10160893432507523, 0.10160893432507523, 0.10160893432507523, 0.10160893432507523, 0.10160893432507523, 0.10160893432507523, 0.10160893432507523, 0.10160893432507523, 0.10160893432507523, 0.10160893432507523, 0.10160893432507523, 0.10160893432507523, 0.10160893432507523, 0.10160893432507523, 0.10160893432507523, 0.10160893432507523, 0.10160893432507523, 0.10160893432507523, 0.10160893432507523, 0.10160893432507523, 0.10160893432507523, 0.10160893432507523, 0.10160893432507523, 0.10160893432507523, 0.10160893432507523, 0.10160893432507523, 0.10160893432507523, 0.10160893432507523, 0.10160893432507523, 0.10160893432507523, 0.10160893432507523, 0.10160893432507523, 0.10160893432507523, 0.09566133533554305, 0.09566133533554305, 0.09566133533554305, 0.09566133533554305, 0.09566133533554305, 0.09566133533554305, 0.09566133533554305, 0.09566133533554305, 0.09566133533554305, 0.09566133533554305, 0.09566133533554305, 0.09566133533554305, 0.09566133533554305, 0.09566133533554305, 0.09566133533554305, 0.09566133533554305, 0.09566133533554305, 0.09566133533554305, 0.09566133533554305, 0.09566133533554305, 0.09566133533554305, 0.09566133533554305, 0.09566133533554305, 0.09566133533554305, 0.09566133533554305, 0.09566133533554305, 0.09566133533554305, 0.09566133533554305, 0.09566133533554305, 0.09566133533554305, 0.09566133533554305, 0.09566133533554305, 0.09566133533554305, 0.09566133533554305, 0.09566133533554305, 0.09566133533554305, 0.09566133533554305, 0.09566133533554305, 0.09566133533554305, 0.09566133533554305, 0.09566133533554305, 0.09566133533554305, 0.09566133533554305, 0.09566133533554305, 0.09566133533554305, 0.09566133533554305, 0.09566133533554305, 0.08971373634601087, 0.08971373634601087, 0.08971373634601087, 0.08971373634601087, 0.08971373634601087, 0.08971373634601087, 0.08971373634601087, 0.08971373634601087, 0.08971373634601087, 0.08971373634601087, 0.08971373634601087, 0.08971373634601087, 0.08971373634601087, 0.08971373634601087, 0.08971373634601087, 0.08971373634601087, 0.08971373634601087, 0.08971373634601087, 0.08971373634601087, 0.08971373634601087, 0.08971373634601087, 0.08971373634601087, 0.08971373634601087, 0.08971373634601087, 0.08971373634601087, 0.08971373634601087, 0.08971373634601087, 0.08971373634601087, 0.08971373634601087, 0.08971373634601087, 0.08971373634601087, 0.08971373634601087, 0.08971373634601087, 0.08971373634601087, 0.08971373634601087, 0.08971373634601087, 0.08971373634601087, 0.08971373634601087, 0.08971373634601087, 0.08971373634601087, 0.08971373634601087, 0.08971373634601087, 0.08971373634601087, 0.08971373634601087, 0.0837661373564787, 0.0837661373564787, 0.0837661373564787, 0.0837661373564787, 0.0837661373564787, 0.0837661373564787, 0.0837661373564787, 0.0837661373564787, 0.0837661373564787, 0.0837661373564787, 0.0837661373564787, 0.0837661373564787, 0.0837661373564787, 0.0837661373564787, 0.0837661373564787, 0.0837661373564787, 0.0837661373564787, 0.0837661373564787, 0.0837661373564787, 0.0837661373564787, 0.0837661373564787, 0.0837661373564787, 0.0837661373564787, 0.0837661373564787, 0.0837661373564787, 0.0837661373564787, 0.0837661373564787, 0.0837661373564787, 0.0837661373564787, 0.0837661373564787, 0.0837661373564787, 0.0837661373564787, 0.0837661373564787, 0.0837661373564787, 0.0837661373564787, 0.0837661373564787, 0.0837661373564787, 0.0837661373564787, 0.0837661373564787, 0.0837661373564787, 0.0837661373564787, 0.0837661373564787, 0.0837661373564787, 0.07781853836694652, 0.07781853836694652, 0.07781853836694652, 0.07781853836694652, 0.07781853836694652, 0.07781853836694652, 0.07781853836694652, 0.07781853836694652, 0.07781853836694652, 0.07781853836694652, 0.07781853836694652, 0.07781853836694652, 0.07781853836694652, 0.07781853836694652, 0.07781853836694652, 0.07781853836694652, 0.07781853836694652, 0.07781853836694652, 0.07781853836694652, 0.07781853836694652, 0.07781853836694652, 0.07781853836694652, 0.07781853836694652, 0.07781853836694652, 0.07781853836694652, 0.07781853836694652, 0.07781853836694652, 0.07781853836694652, 0.07781853836694652, 0.07781853836694652, 0.07781853836694652, 0.07781853836694652, 0.07781853836694652, 0.07781853836694652, 0.07781853836694652, 0.07781853836694652, 0.07781853836694652, 0.07781853836694652, 0.07781853836694652, 0.07781853836694652, 0.07781853836694652, 0.07781853836694652, 0.07781853836694652, 0.07781853836694652, 0.07781853836694652, 0.07781853836694652, 0.07781853836694652, 0.07781853836694652, 0.07781853836694652, 0.07781853836694652, 0.07781853836694652, 0.07781853836694652, 0.07781853836694652, 0.07781853836694652, 0.07781853836694652, 0.07187093937741434, 0.07187093937741434, 0.07187093937741434, 0.07187093937741434, 0.07187093937741434, 0.07187093937741434, 0.07187093937741434, 0.07187093937741434, 0.07187093937741434, 0.07187093937741434, 0.07187093937741434, 0.07187093937741434, 0.07187093937741434, 0.07187093937741434, 0.07187093937741434, 0.07187093937741434, 0.07187093937741434, 0.07187093937741434, 0.07187093937741434, 0.07187093937741434, 0.07187093937741434, 0.07187093937741434, 0.07187093937741434, 0.07187093937741434, 0.07187093937741434, 0.07187093937741434, 0.07187093937741434, 0.07187093937741434, 0.07187093937741434, 0.07187093937741434, 0.07187093937741434, 0.07187093937741434, 0.07187093937741434, 0.07187093937741434, 0.07187093937741434, 0.07187093937741434, 0.07187093937741434, 0.07187093937741434, 0.07187093937741434, 0.07187093937741434, 0.07187093937741434, 0.07187093937741434, 0.07187093937741434, 0.06592334038788217, 0.06592334038788217, 0.06592334038788217, 0.06592334038788217, 0.06592334038788217, 0.06592334038788217, 0.06592334038788217, 0.06592334038788217, 0.06592334038788217, 0.06592334038788217, 0.06592334038788217, 0.06592334038788217, 0.06592334038788217, 0.06592334038788217, 0.06592334038788217, 0.06592334038788217, 0.06592334038788217, 0.06592334038788217, 0.06592334038788217, 0.06592334038788217, 0.06592334038788217, 0.06592334038788217, 0.06592334038788217, 0.06592334038788217, 0.06592334038788217, 0.06592334038788217, 0.06592334038788217, 0.06592334038788217, 0.06592334038788217, 0.06592334038788217, 0.06592334038788217, 0.06592334038788217, 0.06592334038788217, 0.06592334038788217, 0.06592334038788217, 0.06592334038788217, 0.06592334038788217, 0.06592334038788217, 0.06592334038788217, 0.06592334038788217, 0.06592334038788217, 0.06592334038788217, 0.06592334038788217, 0.06592334038788217, 0.06592334038788217, 0.06592334038788217, 0.06592334038788217, 0.06592334038788217, 0.06592334038788217, 0.06592334038788217, 0.06592334038788217, 0.06592334038788217, 0.06592334038788217, 0.06592334038788217, 0.06592334038788217, 0.06592334038788217, 0.05997574139834999, 0.05997574139834999, 0.05997574139834999, 0.05997574139834999, 0.05997574139834999, 0.05997574139834999, 0.05997574139834999, 0.05997574139834999, 0.05997574139834999, 0.05997574139834999, 0.05997574139834999, 0.05997574139834999, 0.05997574139834999, 0.05997574139834999, 0.05997574139834999, 0.05997574139834999, 0.05997574139834999, 0.05997574139834999, 0.05997574139834999, 0.05997574139834999, 0.05997574139834999, 0.05997574139834999, 0.05997574139834999, 0.05997574139834999, 0.05997574139834999, 0.05997574139834999, 0.05997574139834999, 0.05997574139834999, 0.05997574139834999, 0.05997574139834999, 0.05997574139834999, 0.05997574139834999, 0.05997574139834999, 0.05997574139834999, 0.05997574139834999, 0.05997574139834999, 0.05997574139834999, 0.05997574139834999, 0.05997574139834999, 0.05997574139834999, 0.05997574139834999, 0.05997574139834999, 0.05997574139834999, 0.05997574139834999, 0.05997574139834999, 0.05997574139834999, 0.05997574139834999, 0.05997574139834999, 0.05997574139834999, 0.05997574139834999, 0.05997574139834999, 0.05997574139834999, 0.05997574139834999, 0.05997574139834999, 0.05997574139834999, 0.05997574139834999, 0.05997574139834999, 0.05997574139834999, 0.05997574139834999, 0.05997574139834999, 0.05997574139834999, 0.054028142408817814, 0.054028142408817814, 0.054028142408817814, 0.054028142408817814, 0.054028142408817814, 0.054028142408817814, 0.054028142408817814, 0.054028142408817814, 0.054028142408817814, 0.054028142408817814, 0.054028142408817814, 0.054028142408817814, 0.054028142408817814, 0.054028142408817814, 0.054028142408817814, 0.054028142408817814, 0.054028142408817814, 0.054028142408817814, 0.054028142408817814, 0.054028142408817814, 0.054028142408817814, 0.054028142408817814, 0.054028142408817814, 0.054028142408817814, 0.054028142408817814, 0.054028142408817814, 0.054028142408817814, 0.054028142408817814, 0.054028142408817814, 0.054028142408817814, 0.054028142408817814, 0.054028142408817814, 0.054028142408817814, 0.054028142408817814, 0.054028142408817814, 0.054028142408817814, 0.054028142408817814, 0.054028142408817814, 0.054028142408817814, 0.054028142408817814, 0.054028142408817814, 0.054028142408817814, 0.054028142408817814, 0.054028142408817814, 0.054028142408817814, 0.054028142408817814, 0.054028142408817814, 0.054028142408817814, 0.054028142408817814, 0.054028142408817814, 0.054028142408817814, 0.054028142408817814, 0.054028142408817814, 0.054028142408817814, 0.054028142408817814, 0.054028142408817814, 0.054028142408817814, 0.054028142408817814, 0.054028142408817814, 0.054028142408817814, 0.054028142408817814, 0.054028142408817814, 0.054028142408817814, 0.054028142408817814, 0.054028142408817814, 0.054028142408817814, 0.054028142408817814, 0.054028142408817814, 0.04808054341928569, 0.04808054341928569, 0.04808054341928569, 0.04808054341928569, 0.04808054341928569, 0.04808054341928569, 0.04808054341928569, 0.04808054341928569, 0.04808054341928569, 0.04808054341928569, 0.04808054341928569, 0.04808054341928569, 0.04808054341928569, 0.04808054341928569, 0.04808054341928569, 0.04808054341928569, 0.04808054341928569, 0.04808054341928569, 0.04808054341928569, 0.04808054341928569, 0.04808054341928569, 0.04808054341928569, 0.04808054341928569, 0.04808054341928569, 0.04808054341928569, 0.04808054341928569, 0.04808054341928569, 0.04808054341928569, 0.04808054341928569, 0.04808054341928569, 0.04808054341928569, 0.04808054341928569, 0.04808054341928569, 0.04808054341928569, 0.04808054341928569, 0.04808054341928569, 0.04808054341928569, 0.04808054341928569, 0.04808054341928569, 0.04808054341928569, 0.04808054341928569, 0.04808054341928569, 0.04808054341928569, 0.04808054341928569, 0.04808054341928569, 0.04808054341928569, 0.042132944429753516, 0.042132944429753516, 0.042132944429753516, 0.042132944429753516, 0.042132944429753516, 0.042132944429753516, 0.042132944429753516, 0.042132944429753516, 0.042132944429753516, 0.042132944429753516, 0.042132944429753516, 0.042132944429753516, 0.042132944429753516, 0.042132944429753516, 0.042132944429753516, 0.042132944429753516, 0.042132944429753516, 0.042132944429753516, 0.042132944429753516, 0.042132944429753516, 0.042132944429753516, 0.042132944429753516, 0.042132944429753516, 0.042132944429753516, 0.042132944429753516, 0.042132944429753516, 0.042132944429753516, 0.042132944429753516, 0.042132944429753516, 0.042132944429753516, 0.042132944429753516, 0.042132944429753516, 0.042132944429753516, 0.042132944429753516, 0.042132944429753516, 0.042132944429753516, 0.042132944429753516, 0.042132944429753516, 0.042132944429753516, 0.042132944429753516, 0.042132944429753516, 0.042132944429753516, 0.042132944429753516, 0.042132944429753516, 0.042132944429753516, 0.042132944429753516, 0.042132944429753516, 0.042132944429753516, 0.042132944429753516, 0.042132944429753516, 0.042132944429753516, 0.042132944429753516, 0.042132944429753516, 0.042132944429753516, 0.042132944429753516, 0.042132944429753516, 0.042132944429753516, 0.042132944429753516, 0.042132944429753516, 0.042132944429753516, 0.03618534544022134, 0.03618534544022134, 0.03618534544022134, 0.03618534544022134, 0.03618534544022134, 0.03618534544022134, 0.03618534544022134, 0.03618534544022134, 0.03618534544022134, 0.03618534544022134, 0.03618534544022134, 0.03618534544022134, 0.03618534544022134, 0.03618534544022134, 0.03618534544022134, 0.03618534544022134, 0.03618534544022134, 0.03618534544022134, 0.03618534544022134, 0.03618534544022134, 0.03618534544022134, 0.03618534544022134, 0.03618534544022134, 0.03618534544022134, 0.03618534544022134, 0.03618534544022134, 0.03618534544022134, 0.03618534544022134, 0.03618534544022134, 0.03618534544022134, 0.03618534544022134, 0.03618534544022134, 0.03618534544022134, 0.03618534544022134, 0.03618534544022134, 0.03618534544022134, 0.03618534544022134, 0.03618534544022134, 0.03618534544022134, 0.03618534544022134, 0.03618534544022134, 0.03618534544022134, 0.03618534544022134, 0.03618534544022134, 0.03618534544022134, 0.03618534544022134, 0.03618534544022134, 0.03618534544022134, 0.03618534544022134, 0.03618534544022134, 0.03618534544022134, 0.03618534544022134, 0.03618534544022134, 0.03618534544022134, 0.03618534544022134, 0.03618534544022134, 0.03618534544022134, 0.03618534544022134, 0.03618534544022134, 0.03618534544022134, 0.03618534544022134, 0.03618534544022134, 0.03618534544022134, 0.03618534544022134, 0.03618534544022134, 0.03618534544022134, 0.03618534544022134, 0.03618534544022134, 0.03618534544022134, 0.03618534544022134, 0.03618534544022134, 0.03618534544022134, 0.03618534544022134, 0.03618534544022134, 0.03618534544022134, 0.03618534544022134, 0.03618534544022134, 0.03618534544022134, 0.03618534544022134, 0.03618534544022134, 0.03618534544022134, 0.03618534544022134, 0.03618534544022134, 0.03618534544022134, 0.03618534544022134, 0.03618534544022134, 0.03618534544022134, 0.03618534544022134, 0.03618534544022134, 0.03618534544022134, 0.03618534544022134, 0.03618534544022134, 0.03618534544022134, 0.03618534544022134, 0.03618534544022134, 0.03618534544022134, 0.03618534544022134, 0.03618534544022134, 0.03618534544022134, 0.03618534544022134, 0.03618534544022134, 0.03618534544022134, 0.03618534544022134, 0.03618534544022134, 0.03618534544022134, 0.03618534544022134, 0.03618534544022134, 0.03618534544022134, 0.03618534544022134, 0.030237746450689162, 0.030237746450689162, 0.030237746450689162, 0.030237746450689162, 0.030237746450689162, 0.030237746450689162, 0.030237746450689162, 0.030237746450689162, 0.030237746450689162, 0.030237746450689162, 0.030237746450689162, 0.030237746450689162, 0.030237746450689162, 0.030237746450689162, 0.030237746450689162, 0.030237746450689162, 0.030237746450689162, 0.030237746450689162, 0.030237746450689162, 0.030237746450689162, 0.030237746450689162, 0.030237746450689162, 0.030237746450689162, 0.030237746450689162, 0.030237746450689162, 0.030237746450689162, 0.030237746450689162, 0.030237746450689162, 0.030237746450689162, 0.030237746450689162, 0.030237746450689162, 0.030237746450689162, 0.030237746450689162, 0.030237746450689162, 0.030237746450689162, 0.030237746450689162, 0.030237746450689162, 0.030237746450689162, 0.030237746450689162, 0.030237746450689162, 0.030237746450689162, 0.030237746450689162, 0.030237746450689162, 0.030237746450689162, 0.030237746450689162, 0.030237746450689162, 0.030237746450689162, 0.030237746450689162, 0.030237746450689162, 0.030237746450689162, 0.030237746450689162, 0.030237746450689162, 0.030237746450689162, 0.030237746450689162, 0.030237746450689162, 0.030237746450689162, 0.030237746450689162, 0.030237746450689162, 0.030237746450689162, 0.030237746450689162, 0.030237746450689162, 0.030237746450689162, 0.030237746450689162, 0.030237746450689162, 0.030237746450689162, 0.030237746450689162, 0.030237746450689162, 0.030237746450689162, 0.030237746450689162, 0.030237746450689162, 0.030237746450689162, 0.030237746450689162, 0.030237746450689162, 0.030237746450689162, 0.030237746450689162, 0.030237746450689162, 0.030237746450689162, 0.030237746450689162, 0.030237746450689162, 0.030237746450689162, 0.030237746450689162, 0.030237746450689162, 0.030237746450689162, 0.030237746450689162, 0.030237746450689162, 0.030237746450689162, 0.030237746450689162, 0.030237746450689162, 0.030237746450689162, 0.030237746450689162, 0.030237746450689162, 0.030237746450689162, 0.030237746450689162, 0.030237746450689162, 0.030237746450689162, 0.030237746450689162, 0.030237746450689162, 0.030237746450689162, 0.030237746450689162, 0.030237746450689162, 0.030237746450689162, 0.030237746450689162, 0.030237746450689162, 0.030237746450689162, 0.030237746450689162, 0.030237746450689162, 0.030237746450689162, 0.030237746450689162, 0.030237746450689162, 0.030237746450689162, 0.030237746450689162, 0.030237746450689162, 0.030237746450689162, 0.030237746450689162, 0.030237746450689162, 0.030237746450689162, 0.030237746450689162, 0.030237746450689162, 0.030237746450689162, 0.030237746450689162, 0.030237746450689162, 0.030237746450689162, 0.030237746450689162, 0.030237746450689162, 0.030237746450689162, 0.030237746450689162, 0.030237746450689162, 0.030237746450689162, 0.030237746450689162, 0.030237746450689162, 0.030237746450689162, 0.030237746450689162, 0.030237746450689162, 0.030237746450689162, 0.030237746450689162, 0.030237746450689162, 0.030237746450689162, 0.030237746450689162, 0.030237746450689162, 0.030237746450689162, 0.030237746450689162, 0.030237746450689162, 0.030237746450689162, 0.030237746450689162, 0.030237746450689162, 0.030237746450689162, 0.030237746450689162, 0.030237746450689162, 0.030237746450689162, 0.030237746450689162, 0.030237746450689162, 0.030237746450689162, 0.030237746450689162, 0.030237746450689162, 0.030237746450689162, 0.030237746450689162, 0.030237746450689162, 0.030237746450689162, 0.030237746450689162, 0.030237746450689162, 0.030237746450689162, 0.030237746450689162, 0.030237746450689162, 0.030237746450689162, 0.030237746450689162, 0.030237746450689162, 0.030237746450689162, 0.030237746450689162, 0.030237746450689162, 0.030237746450689162, 0.030237746450689162, 0.030237746450689162, 0.030237746450689162, 0.030237746450689162, 0.030237746450689162, 0.030237746450689162, 0.030237746450689162, 0.030237746450689162, 0.030237746450689162, 0.030237746450689162, 0.030237746450689162, 0.030237746450689162, 0.030237746450689162, 0.030237746450689162, 0.030237746450689162, 0.030237746450689162, 0.030237746450689162, 0.030237746450689162, 0.030237746450689162, 0.030237746450689162, 0.030237746450689162, 0.030237746450689162, 0.030237746450689162, 0.030237746450689162, 0.030237746450689162, 0.030237746450689162, 0.030237746450689162, 0.030237746450689162, 0.030237746450689162, 0.030237746450689162, 0.030237746450689162, 0.030237746450689162, 0.030237746450689162, 0.030237746450689162, 0.030237746450689162, 0.030237746450689162, 0.030237746450689162, 0.030237746450689162], \"yaxis\": \"y\"}],\n",
              "                        {\"legend\": {\"tracegroupgap\": 0}, \"margin\": {\"t\": 60}, \"template\": {\"data\": {\"bar\": [{\"error_x\": {\"color\": \"#2a3f5f\"}, \"error_y\": {\"color\": \"#2a3f5f\"}, \"marker\": {\"line\": {\"color\": \"#E5ECF6\", \"width\": 0.5}}, \"type\": \"bar\"}], \"barpolar\": [{\"marker\": {\"line\": {\"color\": \"#E5ECF6\", \"width\": 0.5}}, \"type\": \"barpolar\"}], \"carpet\": [{\"aaxis\": {\"endlinecolor\": \"#2a3f5f\", \"gridcolor\": \"white\", \"linecolor\": \"white\", \"minorgridcolor\": \"white\", \"startlinecolor\": \"#2a3f5f\"}, \"baxis\": {\"endlinecolor\": \"#2a3f5f\", \"gridcolor\": \"white\", \"linecolor\": \"white\", \"minorgridcolor\": \"white\", \"startlinecolor\": \"#2a3f5f\"}, \"type\": \"carpet\"}], \"choropleth\": [{\"colorbar\": {\"outlinewidth\": 0, \"ticks\": \"\"}, \"type\": \"choropleth\"}], \"contour\": [{\"colorbar\": {\"outlinewidth\": 0, \"ticks\": \"\"}, \"colorscale\": [[0.0, \"#0d0887\"], [0.1111111111111111, \"#46039f\"], [0.2222222222222222, \"#7201a8\"], [0.3333333333333333, \"#9c179e\"], [0.4444444444444444, \"#bd3786\"], [0.5555555555555556, \"#d8576b\"], [0.6666666666666666, \"#ed7953\"], [0.7777777777777778, \"#fb9f3a\"], [0.8888888888888888, \"#fdca26\"], [1.0, \"#f0f921\"]], \"type\": \"contour\"}], \"contourcarpet\": [{\"colorbar\": {\"outlinewidth\": 0, \"ticks\": \"\"}, \"type\": \"contourcarpet\"}], \"heatmap\": [{\"colorbar\": {\"outlinewidth\": 0, \"ticks\": \"\"}, \"colorscale\": [[0.0, \"#0d0887\"], [0.1111111111111111, \"#46039f\"], [0.2222222222222222, \"#7201a8\"], [0.3333333333333333, \"#9c179e\"], [0.4444444444444444, \"#bd3786\"], [0.5555555555555556, \"#d8576b\"], [0.6666666666666666, \"#ed7953\"], [0.7777777777777778, \"#fb9f3a\"], [0.8888888888888888, \"#fdca26\"], [1.0, \"#f0f921\"]], \"type\": \"heatmap\"}], \"heatmapgl\": [{\"colorbar\": {\"outlinewidth\": 0, \"ticks\": \"\"}, \"colorscale\": [[0.0, \"#0d0887\"], [0.1111111111111111, \"#46039f\"], [0.2222222222222222, \"#7201a8\"], [0.3333333333333333, \"#9c179e\"], [0.4444444444444444, \"#bd3786\"], [0.5555555555555556, \"#d8576b\"], [0.6666666666666666, \"#ed7953\"], [0.7777777777777778, \"#fb9f3a\"], [0.8888888888888888, \"#fdca26\"], [1.0, \"#f0f921\"]], \"type\": \"heatmapgl\"}], \"histogram\": [{\"marker\": {\"colorbar\": {\"outlinewidth\": 0, \"ticks\": \"\"}}, \"type\": \"histogram\"}], \"histogram2d\": [{\"colorbar\": {\"outlinewidth\": 0, \"ticks\": \"\"}, \"colorscale\": [[0.0, \"#0d0887\"], [0.1111111111111111, \"#46039f\"], [0.2222222222222222, \"#7201a8\"], [0.3333333333333333, \"#9c179e\"], [0.4444444444444444, \"#bd3786\"], [0.5555555555555556, \"#d8576b\"], [0.6666666666666666, \"#ed7953\"], [0.7777777777777778, \"#fb9f3a\"], [0.8888888888888888, \"#fdca26\"], [1.0, \"#f0f921\"]], \"type\": \"histogram2d\"}], \"histogram2dcontour\": [{\"colorbar\": {\"outlinewidth\": 0, \"ticks\": \"\"}, \"colorscale\": [[0.0, \"#0d0887\"], [0.1111111111111111, \"#46039f\"], [0.2222222222222222, \"#7201a8\"], [0.3333333333333333, \"#9c179e\"], [0.4444444444444444, \"#bd3786\"], [0.5555555555555556, \"#d8576b\"], [0.6666666666666666, \"#ed7953\"], [0.7777777777777778, \"#fb9f3a\"], [0.8888888888888888, \"#fdca26\"], [1.0, \"#f0f921\"]], \"type\": \"histogram2dcontour\"}], \"mesh3d\": [{\"colorbar\": {\"outlinewidth\": 0, \"ticks\": \"\"}, \"type\": \"mesh3d\"}], \"parcoords\": [{\"line\": {\"colorbar\": {\"outlinewidth\": 0, \"ticks\": \"\"}}, \"type\": \"parcoords\"}], \"pie\": [{\"automargin\": true, \"type\": \"pie\"}], \"scatter\": [{\"marker\": {\"colorbar\": {\"outlinewidth\": 0, \"ticks\": \"\"}}, \"type\": \"scatter\"}], \"scatter3d\": [{\"line\": {\"colorbar\": {\"outlinewidth\": 0, \"ticks\": \"\"}}, \"marker\": {\"colorbar\": {\"outlinewidth\": 0, \"ticks\": \"\"}}, \"type\": \"scatter3d\"}], \"scattercarpet\": [{\"marker\": {\"colorbar\": {\"outlinewidth\": 0, \"ticks\": \"\"}}, \"type\": \"scattercarpet\"}], \"scattergeo\": [{\"marker\": {\"colorbar\": {\"outlinewidth\": 0, \"ticks\": \"\"}}, \"type\": \"scattergeo\"}], \"scattergl\": [{\"marker\": {\"colorbar\": {\"outlinewidth\": 0, \"ticks\": \"\"}}, \"type\": \"scattergl\"}], \"scattermapbox\": [{\"marker\": {\"colorbar\": {\"outlinewidth\": 0, \"ticks\": \"\"}}, \"type\": \"scattermapbox\"}], \"scatterpolar\": [{\"marker\": {\"colorbar\": {\"outlinewidth\": 0, \"ticks\": \"\"}}, \"type\": \"scatterpolar\"}], \"scatterpolargl\": [{\"marker\": {\"colorbar\": {\"outlinewidth\": 0, \"ticks\": \"\"}}, \"type\": \"scatterpolargl\"}], \"scatterternary\": [{\"marker\": {\"colorbar\": {\"outlinewidth\": 0, \"ticks\": \"\"}}, \"type\": \"scatterternary\"}], \"surface\": [{\"colorbar\": {\"outlinewidth\": 0, \"ticks\": \"\"}, \"colorscale\": [[0.0, \"#0d0887\"], [0.1111111111111111, \"#46039f\"], [0.2222222222222222, \"#7201a8\"], [0.3333333333333333, \"#9c179e\"], [0.4444444444444444, \"#bd3786\"], [0.5555555555555556, \"#d8576b\"], [0.6666666666666666, \"#ed7953\"], [0.7777777777777778, \"#fb9f3a\"], [0.8888888888888888, \"#fdca26\"], [1.0, \"#f0f921\"]], \"type\": \"surface\"}], \"table\": [{\"cells\": {\"fill\": {\"color\": \"#EBF0F8\"}, \"line\": {\"color\": \"white\"}}, \"header\": {\"fill\": {\"color\": \"#C8D4E3\"}, \"line\": {\"color\": \"white\"}}, \"type\": \"table\"}]}, \"layout\": {\"annotationdefaults\": {\"arrowcolor\": \"#2a3f5f\", \"arrowhead\": 0, \"arrowwidth\": 1}, \"coloraxis\": {\"colorbar\": {\"outlinewidth\": 0, \"ticks\": \"\"}}, \"colorscale\": {\"diverging\": [[0, \"#8e0152\"], [0.1, \"#c51b7d\"], [0.2, \"#de77ae\"], [0.3, \"#f1b6da\"], [0.4, \"#fde0ef\"], [0.5, \"#f7f7f7\"], [0.6, \"#e6f5d0\"], [0.7, \"#b8e186\"], [0.8, \"#7fbc41\"], [0.9, \"#4d9221\"], [1, \"#276419\"]], \"sequential\": [[0.0, \"#0d0887\"], [0.1111111111111111, \"#46039f\"], [0.2222222222222222, \"#7201a8\"], [0.3333333333333333, \"#9c179e\"], [0.4444444444444444, \"#bd3786\"], [0.5555555555555556, \"#d8576b\"], [0.6666666666666666, \"#ed7953\"], [0.7777777777777778, \"#fb9f3a\"], [0.8888888888888888, \"#fdca26\"], [1.0, \"#f0f921\"]], \"sequentialminus\": [[0.0, \"#0d0887\"], [0.1111111111111111, \"#46039f\"], [0.2222222222222222, \"#7201a8\"], [0.3333333333333333, \"#9c179e\"], [0.4444444444444444, \"#bd3786\"], [0.5555555555555556, \"#d8576b\"], [0.6666666666666666, \"#ed7953\"], [0.7777777777777778, \"#fb9f3a\"], [0.8888888888888888, \"#fdca26\"], [1.0, \"#f0f921\"]]}, \"colorway\": [\"#636efa\", \"#EF553B\", \"#00cc96\", \"#ab63fa\", \"#FFA15A\", \"#19d3f3\", \"#FF6692\", \"#B6E880\", \"#FF97FF\", \"#FECB52\"], \"font\": {\"color\": \"#2a3f5f\"}, \"geo\": {\"bgcolor\": \"white\", \"lakecolor\": \"white\", \"landcolor\": \"#E5ECF6\", \"showlakes\": true, \"showland\": true, \"subunitcolor\": \"white\"}, \"hoverlabel\": {\"align\": \"left\"}, \"hovermode\": \"closest\", \"mapbox\": {\"style\": \"light\"}, \"paper_bgcolor\": \"white\", \"plot_bgcolor\": \"#E5ECF6\", \"polar\": {\"angularaxis\": {\"gridcolor\": \"white\", \"linecolor\": \"white\", \"ticks\": \"\"}, \"bgcolor\": \"#E5ECF6\", \"radialaxis\": {\"gridcolor\": \"white\", \"linecolor\": \"white\", \"ticks\": \"\"}}, \"scene\": {\"xaxis\": {\"backgroundcolor\": \"#E5ECF6\", \"gridcolor\": \"white\", \"gridwidth\": 2, \"linecolor\": \"white\", \"showbackground\": true, \"ticks\": \"\", \"zerolinecolor\": \"white\"}, \"yaxis\": {\"backgroundcolor\": \"#E5ECF6\", \"gridcolor\": \"white\", \"gridwidth\": 2, \"linecolor\": \"white\", \"showbackground\": true, \"ticks\": \"\", \"zerolinecolor\": \"white\"}, \"zaxis\": {\"backgroundcolor\": \"#E5ECF6\", \"gridcolor\": \"white\", \"gridwidth\": 2, \"linecolor\": \"white\", \"showbackground\": true, \"ticks\": \"\", \"zerolinecolor\": \"white\"}}, \"shapedefaults\": {\"line\": {\"color\": \"#2a3f5f\"}}, \"ternary\": {\"aaxis\": {\"gridcolor\": \"white\", \"linecolor\": \"white\", \"ticks\": \"\"}, \"baxis\": {\"gridcolor\": \"white\", \"linecolor\": \"white\", \"ticks\": \"\"}, \"bgcolor\": \"#E5ECF6\", \"caxis\": {\"gridcolor\": \"white\", \"linecolor\": \"white\", \"ticks\": \"\"}}, \"title\": {\"x\": 0.05}, \"xaxis\": {\"automargin\": true, \"gridcolor\": \"white\", \"linecolor\": \"white\", \"ticks\": \"\", \"title\": {\"standoff\": 15}, \"zerolinecolor\": \"white\", \"zerolinewidth\": 2}, \"yaxis\": {\"automargin\": true, \"gridcolor\": \"white\", \"linecolor\": \"white\", \"ticks\": \"\", \"title\": {\"standoff\": 15}, \"zerolinecolor\": \"white\", \"zerolinewidth\": 2}}}, \"xaxis\": {\"anchor\": \"y\", \"domain\": [0.0, 1.0], \"title\": {\"text\": \"tenure\"}}, \"yaxis\": {\"anchor\": \"x\", \"domain\": [0.0, 1.0], \"title\": {\"text\": \"Churn\"}}},\n",
              "                        {\"responsive\": true}\n",
              "                    ).then(function(){\n",
              "                            \n",
              "var gd = document.getElementById('01a5f9bb-da92-42f1-b5fc-adf7156f4c11');\n",
              "var x = new MutationObserver(function (mutations, observer) {{\n",
              "        var display = window.getComputedStyle(gd).display;\n",
              "        if (!display || display === 'none') {{\n",
              "            console.log([gd, 'removed!']);\n",
              "            Plotly.purge(gd);\n",
              "            observer.disconnect();\n",
              "        }}\n",
              "}});\n",
              "\n",
              "// Listen for the removal of the full notebook cells\n",
              "var notebookContainer = gd.closest('#notebook-container');\n",
              "if (notebookContainer) {{\n",
              "    x.observe(notebookContainer, {childList: true});\n",
              "}}\n",
              "\n",
              "// Listen for the clearing of the current output cell\n",
              "var outputEl = gd.closest('.output');\n",
              "if (outputEl) {{\n",
              "    x.observe(outputEl, {childList: true});\n",
              "}}\n",
              "\n",
              "                        })\n",
              "                };\n",
              "                \n",
              "            </script>\n",
              "        </div>\n",
              "</body>\n",
              "</html>"
            ]
          },
          "metadata": {
            "tags": []
          }
        }
      ]
    },
    {
      "cell_type": "code",
      "metadata": {
        "id": "POM8rhn8AqWs",
        "colab": {
          "base_uri": "https://localhost:8080/",
          "height": 351
        },
        "outputId": "7f55847e-574e-457a-8b70-cca4be9a0069"
      },
      "source": [
        "train.describe()"
      ],
      "execution_count": 116,
      "outputs": [
        {
          "output_type": "execute_result",
          "data": {
            "text/html": [
              "<div>\n",
              "<style scoped>\n",
              "    .dataframe tbody tr th:only-of-type {\n",
              "        vertical-align: middle;\n",
              "    }\n",
              "\n",
              "    .dataframe tbody tr th {\n",
              "        vertical-align: top;\n",
              "    }\n",
              "\n",
              "    .dataframe thead th {\n",
              "        text-align: right;\n",
              "    }\n",
              "</style>\n",
              "<table border=\"1\" class=\"dataframe\">\n",
              "  <thead>\n",
              "    <tr style=\"text-align: right;\">\n",
              "      <th></th>\n",
              "      <th>SeniorCitizen</th>\n",
              "      <th>Partner</th>\n",
              "      <th>Dependents</th>\n",
              "      <th>tenure</th>\n",
              "      <th>PhoneService</th>\n",
              "      <th>MultipleLines</th>\n",
              "      <th>OnlineSecurity</th>\n",
              "      <th>OnlineBackup</th>\n",
              "      <th>DeviceProtection</th>\n",
              "      <th>TechSupport</th>\n",
              "      <th>StreamingTV</th>\n",
              "      <th>StreamingMovies</th>\n",
              "      <th>PaperlessBilling</th>\n",
              "      <th>MonthlyCharges</th>\n",
              "      <th>TotalCharges</th>\n",
              "      <th>Churn</th>\n",
              "      <th>gender_Female</th>\n",
              "      <th>gender_Male</th>\n",
              "      <th>Contract_Month-to-month</th>\n",
              "      <th>Contract_One year</th>\n",
              "      <th>Contract_Two year</th>\n",
              "      <th>PaymentMethod_Bank transfer (automatic)</th>\n",
              "      <th>PaymentMethod_Credit card (automatic)</th>\n",
              "      <th>PaymentMethod_Electronic check</th>\n",
              "      <th>PaymentMethod_Mailed check</th>\n",
              "    </tr>\n",
              "  </thead>\n",
              "  <tbody>\n",
              "    <tr>\n",
              "      <th>count</th>\n",
              "      <td>4190.00</td>\n",
              "      <td>4190.00</td>\n",
              "      <td>4190.00</td>\n",
              "      <td>4190.00</td>\n",
              "      <td>4190.00</td>\n",
              "      <td>4190.00</td>\n",
              "      <td>4190.00</td>\n",
              "      <td>4190.00</td>\n",
              "      <td>4190.00</td>\n",
              "      <td>4190.00</td>\n",
              "      <td>4190.00</td>\n",
              "      <td>4190.00</td>\n",
              "      <td>4190.00</td>\n",
              "      <td>4190.00</td>\n",
              "      <td>4182.00</td>\n",
              "      <td>4190.00</td>\n",
              "      <td>4190.00</td>\n",
              "      <td>4190.00</td>\n",
              "      <td>4190.00</td>\n",
              "      <td>4190.00</td>\n",
              "      <td>4190.00</td>\n",
              "      <td>4190.00</td>\n",
              "      <td>4190.00</td>\n",
              "      <td>4190.00</td>\n",
              "      <td>4190.00</td>\n",
              "    </tr>\n",
              "    <tr>\n",
              "      <th>mean</th>\n",
              "      <td>0.16</td>\n",
              "      <td>0.49</td>\n",
              "      <td>0.30</td>\n",
              "      <td>32.50</td>\n",
              "      <td>0.91</td>\n",
              "      <td>0.43</td>\n",
              "      <td>0.28</td>\n",
              "      <td>0.35</td>\n",
              "      <td>0.34</td>\n",
              "      <td>0.29</td>\n",
              "      <td>0.39</td>\n",
              "      <td>0.40</td>\n",
              "      <td>0.59</td>\n",
              "      <td>64.99</td>\n",
              "      <td>2318.25</td>\n",
              "      <td>0.27</td>\n",
              "      <td>0.49</td>\n",
              "      <td>0.51</td>\n",
              "      <td>0.54</td>\n",
              "      <td>0.22</td>\n",
              "      <td>0.24</td>\n",
              "      <td>0.21</td>\n",
              "      <td>0.22</td>\n",
              "      <td>0.34</td>\n",
              "      <td>0.23</td>\n",
              "    </tr>\n",
              "    <tr>\n",
              "      <th>std</th>\n",
              "      <td>0.37</td>\n",
              "      <td>0.50</td>\n",
              "      <td>0.46</td>\n",
              "      <td>24.50</td>\n",
              "      <td>0.29</td>\n",
              "      <td>0.50</td>\n",
              "      <td>0.45</td>\n",
              "      <td>0.48</td>\n",
              "      <td>0.47</td>\n",
              "      <td>0.45</td>\n",
              "      <td>0.49</td>\n",
              "      <td>0.49</td>\n",
              "      <td>0.49</td>\n",
              "      <td>30.11</td>\n",
              "      <td>2286.77</td>\n",
              "      <td>0.44</td>\n",
              "      <td>0.50</td>\n",
              "      <td>0.50</td>\n",
              "      <td>0.50</td>\n",
              "      <td>0.41</td>\n",
              "      <td>0.43</td>\n",
              "      <td>0.41</td>\n",
              "      <td>0.41</td>\n",
              "      <td>0.48</td>\n",
              "      <td>0.42</td>\n",
              "    </tr>\n",
              "    <tr>\n",
              "      <th>min</th>\n",
              "      <td>0.00</td>\n",
              "      <td>0.00</td>\n",
              "      <td>0.00</td>\n",
              "      <td>0.00</td>\n",
              "      <td>0.00</td>\n",
              "      <td>0.00</td>\n",
              "      <td>0.00</td>\n",
              "      <td>0.00</td>\n",
              "      <td>0.00</td>\n",
              "      <td>0.00</td>\n",
              "      <td>0.00</td>\n",
              "      <td>0.00</td>\n",
              "      <td>0.00</td>\n",
              "      <td>18.40</td>\n",
              "      <td>18.85</td>\n",
              "      <td>0.00</td>\n",
              "      <td>0.00</td>\n",
              "      <td>0.00</td>\n",
              "      <td>0.00</td>\n",
              "      <td>0.00</td>\n",
              "      <td>0.00</td>\n",
              "      <td>0.00</td>\n",
              "      <td>0.00</td>\n",
              "      <td>0.00</td>\n",
              "      <td>0.00</td>\n",
              "    </tr>\n",
              "    <tr>\n",
              "      <th>25%</th>\n",
              "      <td>0.00</td>\n",
              "      <td>0.00</td>\n",
              "      <td>0.00</td>\n",
              "      <td>9.00</td>\n",
              "      <td>1.00</td>\n",
              "      <td>0.00</td>\n",
              "      <td>0.00</td>\n",
              "      <td>0.00</td>\n",
              "      <td>0.00</td>\n",
              "      <td>0.00</td>\n",
              "      <td>0.00</td>\n",
              "      <td>0.00</td>\n",
              "      <td>0.00</td>\n",
              "      <td>35.90</td>\n",
              "      <td>401.44</td>\n",
              "      <td>0.00</td>\n",
              "      <td>0.00</td>\n",
              "      <td>0.00</td>\n",
              "      <td>0.00</td>\n",
              "      <td>0.00</td>\n",
              "      <td>0.00</td>\n",
              "      <td>0.00</td>\n",
              "      <td>0.00</td>\n",
              "      <td>0.00</td>\n",
              "      <td>0.00</td>\n",
              "    </tr>\n",
              "    <tr>\n",
              "      <th>50%</th>\n",
              "      <td>0.00</td>\n",
              "      <td>0.00</td>\n",
              "      <td>0.00</td>\n",
              "      <td>29.00</td>\n",
              "      <td>1.00</td>\n",
              "      <td>0.00</td>\n",
              "      <td>0.00</td>\n",
              "      <td>0.00</td>\n",
              "      <td>0.00</td>\n",
              "      <td>0.00</td>\n",
              "      <td>0.00</td>\n",
              "      <td>0.00</td>\n",
              "      <td>1.00</td>\n",
              "      <td>70.60</td>\n",
              "      <td>1424.70</td>\n",
              "      <td>0.00</td>\n",
              "      <td>0.00</td>\n",
              "      <td>1.00</td>\n",
              "      <td>1.00</td>\n",
              "      <td>0.00</td>\n",
              "      <td>0.00</td>\n",
              "      <td>0.00</td>\n",
              "      <td>0.00</td>\n",
              "      <td>0.00</td>\n",
              "      <td>0.00</td>\n",
              "    </tr>\n",
              "    <tr>\n",
              "      <th>75%</th>\n",
              "      <td>0.00</td>\n",
              "      <td>1.00</td>\n",
              "      <td>1.00</td>\n",
              "      <td>56.00</td>\n",
              "      <td>1.00</td>\n",
              "      <td>1.00</td>\n",
              "      <td>1.00</td>\n",
              "      <td>1.00</td>\n",
              "      <td>1.00</td>\n",
              "      <td>1.00</td>\n",
              "      <td>1.00</td>\n",
              "      <td>1.00</td>\n",
              "      <td>1.00</td>\n",
              "      <td>89.85</td>\n",
              "      <td>3902.15</td>\n",
              "      <td>1.00</td>\n",
              "      <td>1.00</td>\n",
              "      <td>1.00</td>\n",
              "      <td>1.00</td>\n",
              "      <td>0.00</td>\n",
              "      <td>0.00</td>\n",
              "      <td>0.00</td>\n",
              "      <td>0.00</td>\n",
              "      <td>1.00</td>\n",
              "      <td>0.00</td>\n",
              "    </tr>\n",
              "    <tr>\n",
              "      <th>max</th>\n",
              "      <td>1.00</td>\n",
              "      <td>1.00</td>\n",
              "      <td>1.00</td>\n",
              "      <td>72.00</td>\n",
              "      <td>1.00</td>\n",
              "      <td>1.00</td>\n",
              "      <td>1.00</td>\n",
              "      <td>1.00</td>\n",
              "      <td>1.00</td>\n",
              "      <td>1.00</td>\n",
              "      <td>1.00</td>\n",
              "      <td>1.00</td>\n",
              "      <td>1.00</td>\n",
              "      <td>118.75</td>\n",
              "      <td>8684.80</td>\n",
              "      <td>1.00</td>\n",
              "      <td>1.00</td>\n",
              "      <td>1.00</td>\n",
              "      <td>1.00</td>\n",
              "      <td>1.00</td>\n",
              "      <td>1.00</td>\n",
              "      <td>1.00</td>\n",
              "      <td>1.00</td>\n",
              "      <td>1.00</td>\n",
              "      <td>1.00</td>\n",
              "    </tr>\n",
              "  </tbody>\n",
              "</table>\n",
              "</div>"
            ],
            "text/plain": [
              "       SeniorCitizen  ...  PaymentMethod_Mailed check\n",
              "count        4190.00  ...                     4190.00\n",
              "mean            0.16  ...                        0.23\n",
              "std             0.37  ...                        0.42\n",
              "min             0.00  ...                        0.00\n",
              "25%             0.00  ...                        0.00\n",
              "50%             0.00  ...                        0.00\n",
              "75%             0.00  ...                        0.00\n",
              "max             1.00  ...                        1.00\n",
              "\n",
              "[8 rows x 25 columns]"
            ]
          },
          "metadata": {
            "tags": []
          },
          "execution_count": 116
        }
      ]
    },
    {
      "cell_type": "code",
      "metadata": {
        "id": "6vnuYvUU8cwr"
      },
      "source": [
        "# !pip install pandas-profiling==2.7.1"
      ],
      "execution_count": 117,
      "outputs": []
    },
    {
      "cell_type": "code",
      "metadata": {
        "id": "msnL0txaBj__"
      },
      "source": [
        "# profile = ProfileReport(train)\n",
        "\n",
        "# profile.to_notebook_iframe()"
      ],
      "execution_count": 118,
      "outputs": []
    },
    {
      "cell_type": "code",
      "metadata": {
        "id": "TglZWO-OD_vG"
      },
      "source": [
        "#establish baseline: ('NO')\n",
        "y_pred = y_train.mode()[0] * len(y_train)"
      ],
      "execution_count": 119,
      "outputs": []
    },
    {
      "cell_type": "code",
      "metadata": {
        "colab": {
          "base_uri": "https://localhost:8080/"
        },
        "id": "hrUd3z9dHGXO",
        "outputId": "05134eb5-bfc5-43e1-b26f-a5e2a0b66fdd"
      },
      "source": [
        "#accuracy is about 74% at baseline\n",
        "y_train.value_counts(normalize=True)"
      ],
      "execution_count": 120,
      "outputs": [
        {
          "output_type": "execute_result",
          "data": {
            "text/plain": [
              "0   0.73\n",
              "1   0.27\n",
              "Name: Churn, dtype: float64"
            ]
          },
          "metadata": {
            "tags": []
          },
          "execution_count": 120
        }
      ]
    },
    {
      "cell_type": "markdown",
      "metadata": {
        "id": "R4qnwkRkTzy1"
      },
      "source": [
        "#Linear models: Passive Aggressive Classifier + hyperparameter tuning"
      ]
    },
    {
      "cell_type": "code",
      "metadata": {
        "id": "sd-5oUQlUBsg"
      },
      "source": [
        "#Using PAC for its ability to penalize incorrect predictions over epochs according to C value (normalization)\n",
        "from sklearn.linear_model import PassiveAggressiveClassifier\n",
        "from sklearn.datasets import make_regression\n",
        "from sklearn.metrics import classification_report, accuracy_score\n",
        "from sklearn.impute import SimpleImputer\n",
        "from sklearn.pipeline import make_pipeline"
      ],
      "execution_count": 138,
      "outputs": []
    },
    {
      "cell_type": "code",
      "metadata": {
        "id": "amITnKzyT-O5",
        "colab": {
          "base_uri": "https://localhost:8080/"
        },
        "outputId": "6d56bfa2-af27-4306-aab4-b075f5a4b4b2"
      },
      "source": [
        "\n",
        "#setting up parameter dict\n",
        "params = {\n",
        "    'C':[0.1, 0.5, 1.0], \n",
        "    'max_iter': [1000], \n",
        "    'tol':[0.001, 0.01, 0.1], \n",
        "    'validation_fraction': [0.7], \n",
        "    'n_iter_no_change': [20], \n",
        "    'verbose': [1], \n",
        "    'loss': [\"hinge\"], \n",
        "    'n_jobs': [-1], \n",
        "    'random_state': [13], \n",
        "    'class_weight': [\"balanced\"]\n",
        "}\n",
        "\n",
        "\n",
        "\n",
        "#run vanilla to see what I am optimizing\n",
        "pac = make_pipeline(\n",
        "    ce.OrdinalEncoder(),\n",
        "    StandardScaler(),\n",
        "    SimpleImputer(strategy='median'),\n",
        "    PassiveAggressiveClassifier(C=0.55, \n",
        "                                random_state=13)\n",
        ")\n",
        "\n",
        "pac.fit(X_train, y=y_train)"
      ],
      "execution_count": 187,
      "outputs": [
        {
          "output_type": "execute_result",
          "data": {
            "text/plain": [
              "Pipeline(steps=[('ordinalencoder',\n",
              "                 OrdinalEncoder(cols=['InternetService'],\n",
              "                                mapping=[{'col': 'InternetService',\n",
              "                                          'data_type': dtype('O'),\n",
              "                                          'mapping': No             1\n",
              "DSL            2\n",
              "Fiber optic    3\n",
              "NaN           -2\n",
              "dtype: int64}])),\n",
              "                ('standardscaler', StandardScaler()),\n",
              "                ('simpleimputer', SimpleImputer(strategy='median')),\n",
              "                ('passiveaggressiveclassifier',\n",
              "                 PassiveAggressiveClassifier(C=0.55, random_state=13))])"
            ]
          },
          "metadata": {
            "tags": []
          },
          "execution_count": 187
        }
      ]
    },
    {
      "cell_type": "code",
      "metadata": {
        "id": "c7r4EOONdNUk"
      },
      "source": [
        "#Making predictions on val set\n",
        "y_pred = pac.predict(X_val)"
      ],
      "execution_count": 188,
      "outputs": []
    },
    {
      "cell_type": "code",
      "metadata": {
        "id": "PtyO2_9ZdeOI",
        "colab": {
          "base_uri": "https://localhost:8080/"
        },
        "outputId": "2e87c789-1067-48f5-ea61-63cd7ab4e153"
      },
      "source": [
        "#Model evaluation\n",
        "print(f\"Test set Accuracy: {accuracy_score(y_val, y_pred) * 100} %\\n\\n\")\n",
        "\n",
        "print(f\"Classification Report: \\n\\n{classification_report(y_val,y_pred)}\")"
      ],
      "execution_count": 189,
      "outputs": [
        {
          "output_type": "stream",
          "text": [
            "Test set Accuracy: 70.48528241845663 %\n",
            "\n",
            "\n",
            "Classification Report: \n",
            "\n",
            "              precision    recall  f1-score   support\n",
            "\n",
            "           0       0.80      0.81      0.80       942\n",
            "           1       0.41      0.40      0.40       315\n",
            "\n",
            "    accuracy                           0.70      1257\n",
            "   macro avg       0.60      0.60      0.60      1257\n",
            "weighted avg       0.70      0.70      0.70      1257\n",
            "\n"
          ],
          "name": "stdout"
        }
      ]
    },
    {
      "cell_type": "markdown",
      "metadata": {
        "id": "vGeS8UPnUhQy"
      },
      "source": [
        "Passive Aggressive Classifier \n",
        "w/default params\n",
        "\n",
        "Test set Accuracy: 70.48528241845663 %\n",
        "\n",
        "\n",
        "Classification Report: \n",
        "\n",
        "              precision    recall  f1-score   support\n",
        "\n",
        "           0       0.80      0.81      0.80       942\n",
        "           1       0.41      0.40      0.40       315\n",
        "\n",
        "    accuracy                           0.70      1257\n",
        "   macro avg       0.60      0.60      0.60      1257\n",
        "weighted avg       0.70      0.70      0.70      1257\n",
        "\n",
        "\n"
      ]
    },
    {
      "cell_type": "markdown",
      "metadata": {
        "id": "co8tc7ptrO2v"
      },
      "source": [
        "The model is struggling in both recall and precision for positive predictions on the target. Precision refers to the model's ability to accurately predict True Positive results. It is a represenation of how many actual True positives were accurately predicted out of all those positive predictions.\n",
        "\n",
        "Recall refers to the set of all actual True positives there are, and specifically is a measure of what percentage the model accurately labeled."
      ]
    },
    {
      "cell_type": "code",
      "metadata": {
        "colab": {
          "base_uri": "https://localhost:8080/"
        },
        "id": "M3dPTD3SfMeV",
        "outputId": "ea984d84-03a8-4857-9393-6c361825f18a"
      },
      "source": [
        "#using dict above I tried multiple sets of parameters\n",
        "\n",
        "pac = make_pipeline(\n",
        "    ce.OrdinalEncoder(),\n",
        "    StandardScaler(),\n",
        "    SimpleImputer(strategy='median'),\n",
        "    PassiveAggressiveClassifier(C=0.0001, #maximum step size\n",
        "                                tol=0.0001, #stopping criteria\n",
        "                                n_iter_no_change= 10, #no of iterations to execute w/o change before stopping\n",
        "                                loss= \"hinge\", #square-hinge reduced accuracy as C was made smaller\n",
        "                                n_jobs= -1,\n",
        "                                fit_intercept=True, \n",
        "                                max_iter=2000, #upping this increased accuracy as well\n",
        "                                random_state=13)\n",
        ")\n",
        "\n",
        "pac.fit(X_train, y=y_train)\n",
        "#Making predictions on test set\n",
        "y_pred = pac.predict(X_val)\n",
        "\n",
        "#Model evaluation\n",
        "print(f\"Val set Accuracy: {accuracy_score(y_val, y_pred) * 100} %\\n\\n\")\n",
        "\n",
        "print(f\"Classification Report: \\n\\n{classification_report(y_val,y_pred)}\")"
      ],
      "execution_count": 206,
      "outputs": [
        {
          "output_type": "stream",
          "text": [
            "Test set Accuracy: 80.58870326173428 %\n",
            "\n",
            "\n",
            "Classification Report: \n",
            "\n",
            "              precision    recall  f1-score   support\n",
            "\n",
            "           0       0.85      0.90      0.87       942\n",
            "           1       0.64      0.51      0.57       315\n",
            "\n",
            "    accuracy                           0.81      1257\n",
            "   macro avg       0.74      0.71      0.72      1257\n",
            "weighted avg       0.80      0.81      0.80      1257\n",
            "\n"
          ],
          "name": "stdout"
        }
      ]
    },
    {
      "cell_type": "code",
      "metadata": {
        "colab": {
          "base_uri": "https://localhost:8080/"
        },
        "id": "z0SAbdY1g90w",
        "outputId": "90ccadae-cf64-4557-be0a-9992b96e92f1"
      },
      "source": [
        "predict = pac.predict(X_test)\n",
        "\n",
        "\n",
        "print(f\"test set Accuracy: {accuracy_score(y_test, predict) * 100} %\\n\\n\")\n",
        "\n",
        "print(f\"Classification Report: \\n\\n{classification_report(y_test,predict)}\")"
      ],
      "execution_count": 208,
      "outputs": [
        {
          "output_type": "stream",
          "text": [
            "test set Accuracy: 78.84972170686456 %\n",
            "\n",
            "\n",
            "Classification Report: \n",
            "\n",
            "              precision    recall  f1-score   support\n",
            "\n",
            "           0       0.82      0.89      0.86       378\n",
            "           1       0.69      0.54      0.60       161\n",
            "\n",
            "    accuracy                           0.79       539\n",
            "   macro avg       0.75      0.72      0.73       539\n",
            "weighted avg       0.78      0.79      0.78       539\n",
            "\n"
          ],
          "name": "stdout"
        }
      ]
    },
    {
      "cell_type": "markdown",
      "metadata": {
        "id": "0XjX6uxGaR3L"
      },
      "source": [
        "Precision and recall are much higher now. We care about Recall a bit more in this case because it's more important to "
      ]
    },
    {
      "cell_type": "markdown",
      "metadata": {
        "id": "N-LNuXqMiXy_"
      },
      "source": [
        "#Logistic Regression + AdaBoost Classifier + Hyperparameter Tuning"
      ]
    },
    {
      "cell_type": "code",
      "metadata": {
        "id": "bEjSuKyWHXG8"
      },
      "source": [
        "#import libs\n",
        "from sklearn.linear_model import LogisticRegressionCV\n",
        "from sklearn.model_selection import RandomizedSearchCV"
      ],
      "execution_count": 121,
      "outputs": []
    },
    {
      "cell_type": "code",
      "metadata": {
        "colab": {
          "base_uri": "https://localhost:8080/"
        },
        "id": "SkYz3ryYLZqW",
        "outputId": "c639d44a-2878-40a2-fa55-27400cdc03a6"
      },
      "source": [
        "#instantiate LR object for GS\n",
        "log_regress = LogisticRegressionCV()\n",
        "log_regress.get_params()"
      ],
      "execution_count": 122,
      "outputs": [
        {
          "output_type": "execute_result",
          "data": {
            "text/plain": [
              "{'Cs': 10,\n",
              " 'class_weight': None,\n",
              " 'cv': None,\n",
              " 'dual': False,\n",
              " 'fit_intercept': True,\n",
              " 'intercept_scaling': 1.0,\n",
              " 'l1_ratios': None,\n",
              " 'max_iter': 100,\n",
              " 'multi_class': 'auto',\n",
              " 'n_jobs': None,\n",
              " 'penalty': 'l2',\n",
              " 'random_state': None,\n",
              " 'refit': True,\n",
              " 'scoring': None,\n",
              " 'solver': 'lbfgs',\n",
              " 'tol': 0.0001,\n",
              " 'verbose': 0}"
            ]
          },
          "metadata": {
            "tags": []
          },
          "execution_count": 122
        }
      ]
    },
    {
      "cell_type": "code",
      "metadata": {
        "id": "hw-DUzGSEh9L",
        "colab": {
          "base_uri": "https://localhost:8080/"
        },
        "outputId": "2b9229ec-729a-46fc-d750-8c8019783078"
      },
      "source": [
        "#!pip install category_encoders\n",
        "import category_encoders as ce \n",
        "from sklearn.pipeline import make_pipeline\n",
        "from sklearn.impute import SimpleImputer\n",
        "from sklearn.preprocessing import StandardScaler\n",
        "\n",
        "pipeline = make_pipeline(\n",
        "    ce.OneHotEncoder(use_cat_names=True), \n",
        "    StandardScaler(),\n",
        "    SimpleImputer(strategy='mean'), \n",
        "    LogisticRegressionCV(n_jobs=-1, max_iter=1000, random_state=13)\n",
        ")\n",
        "\n",
        "#fit on train, and score on val \n",
        "pipeline.fit(X_train, y_train)\n",
        "print('val accuracy is', pipeline.score(X_val, y_val))\n"
      ],
      "execution_count": 257,
      "outputs": [
        {
          "output_type": "stream",
          "text": [
            "val accuracy is 0.8058870326173428\n"
          ],
          "name": "stdout"
        }
      ]
    },
    {
      "cell_type": "markdown",
      "metadata": {
        "id": "SURCoG4foj5c"
      },
      "source": [
        "Accuracy on val is 81%"
      ]
    },
    {
      "cell_type": "code",
      "metadata": {
        "id": "Kir75wIZAv7o",
        "colab": {
          "base_uri": "https://localhost:8080/"
        },
        "outputId": "b1dfc0d9-4b3a-4032-cdb2-605937b5d028"
      },
      "source": [
        "pipeline.named_steps"
      ],
      "execution_count": 131,
      "outputs": [
        {
          "output_type": "execute_result",
          "data": {
            "text/plain": [
              "{'logisticregressioncv': LogisticRegressionCV(max_iter=1000, n_jobs=-1, random_state=13),\n",
              " 'onehotencoder': OneHotEncoder(cols=['InternetService'], use_cat_names=True),\n",
              " 'simpleimputer': SimpleImputer(),\n",
              " 'standardscaler': StandardScaler()}"
            ]
          },
          "metadata": {
            "tags": []
          },
          "execution_count": 131
        }
      ]
    },
    {
      "cell_type": "markdown",
      "metadata": {
        "id": "CfegIiyrsaMe"
      },
      "source": [
        "#AdaBoost"
      ]
    },
    {
      "cell_type": "code",
      "metadata": {
        "id": "iRb14s2CBG_P",
        "colab": {
          "base_uri": "https://localhost:8080/"
        },
        "outputId": "8b233a24-37ba-4a43-fea2-2e1e3a7cf2b3"
      },
      "source": [
        "from sklearn.ensemble import AdaBoostClassifier\n",
        "\n",
        "abc = make_pipeline(\n",
        "    ce.OrdinalEncoder(),\n",
        "    StandardScaler(),\n",
        "    SimpleImputer(strategy='median'),\n",
        "    AdaBoostClassifier(n_estimators=200, \n",
        "                       learning_rate=0.1, \n",
        "                       random_state=13)\n",
        ")\n",
        "\n",
        "abc.fit(X_train, y=y_train)\n",
        "print('Validation Accuracy: AdaBoosted Classifier', abc.score(X_val, y_val))\n",
        "\n",
        "\n",
        "#predict on test\n",
        "y_pred1 = abc.predict_proba(X_test)\n",
        "print('Test Accuracy: AdaBoosted Classifier', abc.score(X_test, y_test))"
      ],
      "execution_count": 259,
      "outputs": [
        {
          "output_type": "stream",
          "text": [
            "Validation Accuracy: AdaBoosted Classifier 0.7907716785998409\n",
            "Test Accuracy: AdaBoosted Classifier 0.8051948051948052\n"
          ],
          "name": "stdout"
        }
      ]
    },
    {
      "cell_type": "markdown",
      "metadata": {
        "id": "UNOKyMf1Sch3"
      },
      "source": [
        "#Parameter Tuning:\n",
        "Tried: With and without scaling; Accuracy 71 before scaling, 77 after scaling\n",
        "\n",
        "Tried: SimpleImputer fill na w/mean values: accuracy 73.8\n",
        "\n",
        "Tried SimpleImputer fill na w/ median, increased # of estimators, accuracy 78.4\n",
        "\n",
        "Decreased 'learning rate' to change weights on each classifier after each boosting iteration. Val accuracy after slowing learning rate to 0.1: 79%\n",
        "\n",
        "Random State unchanged for reproducability. 13 is my birthday.\n",
        "\n",
        "**Val Accuracy on final model is 79%**\n",
        "\n",
        "**Test Accuracy on final model is 81%**\n",
        "\n"
      ]
    },
    {
      "cell_type": "code",
      "metadata": {
        "colab": {
          "base_uri": "https://localhost:8080/"
        },
        "id": "q8RdltaqtmgC",
        "outputId": "e3ff609e-cee6-4871-b8f9-1a0799684a87"
      },
      "source": [
        "churn_customers = train[train['Churn']==1]\n",
        "churn_customers['tenure'].mean()"
      ],
      "execution_count": 261,
      "outputs": [
        {
          "output_type": "execute_result",
          "data": {
            "text/plain": [
              "19.037803780378038"
            ]
          },
          "metadata": {
            "tags": []
          },
          "execution_count": 261
        }
      ]
    },
    {
      "cell_type": "code",
      "metadata": {
        "colab": {
          "base_uri": "https://localhost:8080/"
        },
        "id": "HGm7zHQlugNm",
        "outputId": "aa691a7f-ac2a-49eb-8046-0f71423bb097"
      },
      "source": [
        "non_churn = train[train['Churn']==0]\n",
        "non_churn['tenure'].mean()"
      ],
      "execution_count": 262,
      "outputs": [
        {
          "output_type": "execute_result",
          "data": {
            "text/plain": [
              "37.360506658005846"
            ]
          },
          "metadata": {
            "tags": []
          },
          "execution_count": 262
        }
      ]
    },
    {
      "cell_type": "markdown",
      "metadata": {
        "id": "REg_ldhGfJhM"
      },
      "source": [
        "In the future I would like to explore how long it takes for high risk users to Churn. The final analysis is useful as it is more important to be able to prioritize customers who are more likely to result in a long tenure and larger lifetime value to the company.\n",
        "\n",
        "Canceled contracts cut into the bottom line, so being able to rely on a model to accurately flag more potentially lucrative contracts by their unlikliness to churn is important. The model built here has high Precision, accurately predicting a large number of potentially good contracts and users likely to churn without racking up large volumes of false positives. False positives could mean turning down applicants who may be lucrative contracts down the line and deprioritizing good applicants.\n",
        "\n"
      ]
    }
  ]
}